{
 "cells": [
  {
   "cell_type": "code",
   "execution_count": 92,
   "metadata": {
    "ExecuteTime": {
     "end_time": "2022-03-29T04:30:50.979334Z",
     "start_time": "2022-03-29T04:30:50.975430Z"
    }
   },
   "outputs": [],
   "source": [
    "import pandas as pd"
   ]
  },
  {
   "cell_type": "code",
   "execution_count": 93,
   "metadata": {
    "ExecuteTime": {
     "end_time": "2022-03-29T04:30:51.487394Z",
     "start_time": "2022-03-29T04:30:51.470756Z"
    }
   },
   "outputs": [],
   "source": [
    "f = pd.read_csv(\"combine_data.csv\", parse_dates=[\"datetime\"], index_col=\"datetime\")"
   ]
  },
  {
   "cell_type": "code",
   "execution_count": 94,
   "metadata": {
    "ExecuteTime": {
     "end_time": "2022-03-29T04:30:51.926889Z",
     "start_time": "2022-03-29T04:30:51.909289Z"
    }
   },
   "outputs": [
    {
     "data": {
      "text/html": [
       "<div>\n",
       "<style scoped>\n",
       "    .dataframe tbody tr th:only-of-type {\n",
       "        vertical-align: middle;\n",
       "    }\n",
       "\n",
       "    .dataframe tbody tr th {\n",
       "        vertical-align: top;\n",
       "    }\n",
       "\n",
       "    .dataframe thead th {\n",
       "        text-align: right;\n",
       "    }\n",
       "</style>\n",
       "<table border=\"1\" class=\"dataframe\">\n",
       "  <thead>\n",
       "    <tr style=\"text-align: right;\">\n",
       "      <th></th>\n",
       "      <th>HomeTeamProb</th>\n",
       "      <th>AwayTeamProb</th>\n",
       "      <th>AwayTeam</th>\n",
       "      <th>HomeTeam</th>\n",
       "      <th>HomeTeamHasWon</th>\n",
       "      <th>ConsensusHomeMoneyLine</th>\n",
       "      <th>ConsensusAwayMoneyLine</th>\n",
       "    </tr>\n",
       "    <tr>\n",
       "      <th>datetime</th>\n",
       "      <th></th>\n",
       "      <th></th>\n",
       "      <th></th>\n",
       "      <th></th>\n",
       "      <th></th>\n",
       "      <th></th>\n",
       "      <th></th>\n",
       "    </tr>\n",
       "  </thead>\n",
       "  <tbody>\n",
       "    <tr>\n",
       "      <th>2019-01-02</th>\n",
       "      <td>0.671360</td>\n",
       "      <td>0.328640</td>\n",
       "      <td>DAL</td>\n",
       "      <td>CHO</td>\n",
       "      <td>False</td>\n",
       "      <td>-117.0</td>\n",
       "      <td>107.0</td>\n",
       "    </tr>\n",
       "    <tr>\n",
       "      <th>2019-01-02</th>\n",
       "      <td>0.421730</td>\n",
       "      <td>0.578270</td>\n",
       "      <td>MIA</td>\n",
       "      <td>CLE</td>\n",
       "      <td>False</td>\n",
       "      <td>210.0</td>\n",
       "      <td>-230.0</td>\n",
       "    </tr>\n",
       "    <tr>\n",
       "      <th>2019-01-02</th>\n",
       "      <td>0.724603</td>\n",
       "      <td>0.275397</td>\n",
       "      <td>ATL</td>\n",
       "      <td>WAS</td>\n",
       "      <td>True</td>\n",
       "      <td>-240.0</td>\n",
       "      <td>220.0</td>\n",
       "    </tr>\n",
       "    <tr>\n",
       "      <th>2019-01-02</th>\n",
       "      <td>0.536187</td>\n",
       "      <td>0.463813</td>\n",
       "      <td>NOP</td>\n",
       "      <td>BRK</td>\n",
       "      <td>True</td>\n",
       "      <td>115.0</td>\n",
       "      <td>-125.0</td>\n",
       "    </tr>\n",
       "    <tr>\n",
       "      <th>2019-01-02</th>\n",
       "      <td>0.552163</td>\n",
       "      <td>0.447837</td>\n",
       "      <td>ORL</td>\n",
       "      <td>CHI</td>\n",
       "      <td>False</td>\n",
       "      <td>102.0</td>\n",
       "      <td>-112.0</td>\n",
       "    </tr>\n",
       "    <tr>\n",
       "      <th>...</th>\n",
       "      <td>...</td>\n",
       "      <td>...</td>\n",
       "      <td>...</td>\n",
       "      <td>...</td>\n",
       "      <td>...</td>\n",
       "      <td>...</td>\n",
       "      <td>...</td>\n",
       "    </tr>\n",
       "    <tr>\n",
       "      <th>2022-03-27</th>\n",
       "      <td>0.347830</td>\n",
       "      <td>0.652170</td>\n",
       "      <td>GSW</td>\n",
       "      <td>WAS</td>\n",
       "      <td>True</td>\n",
       "      <td>226.0</td>\n",
       "      <td>-281.0</td>\n",
       "    </tr>\n",
       "    <tr>\n",
       "      <th>2022-03-27</th>\n",
       "      <td>0.766541</td>\n",
       "      <td>0.233459</td>\n",
       "      <td>MIN</td>\n",
       "      <td>BOS</td>\n",
       "      <td>True</td>\n",
       "      <td>-259.0</td>\n",
       "      <td>208.0</td>\n",
       "    </tr>\n",
       "    <tr>\n",
       "      <th>2022-03-27</th>\n",
       "      <td>0.755368</td>\n",
       "      <td>0.244632</td>\n",
       "      <td>LAL</td>\n",
       "      <td>NOP</td>\n",
       "      <td>True</td>\n",
       "      <td>-173.0</td>\n",
       "      <td>143.0</td>\n",
       "    </tr>\n",
       "    <tr>\n",
       "      <th>2022-03-27</th>\n",
       "      <td>0.621091</td>\n",
       "      <td>0.378909</td>\n",
       "      <td>UTA</td>\n",
       "      <td>DAL</td>\n",
       "      <td>True</td>\n",
       "      <td>-168.0</td>\n",
       "      <td>139.0</td>\n",
       "    </tr>\n",
       "    <tr>\n",
       "      <th>2022-03-27</th>\n",
       "      <td>0.660568</td>\n",
       "      <td>0.339432</td>\n",
       "      <td>CHO</td>\n",
       "      <td>BRK</td>\n",
       "      <td>False</td>\n",
       "      <td>-270.0</td>\n",
       "      <td>217.0</td>\n",
       "    </tr>\n",
       "  </tbody>\n",
       "</table>\n",
       "<p>4193 rows × 7 columns</p>\n",
       "</div>"
      ],
      "text/plain": [
       "            HomeTeamProb  AwayTeamProb AwayTeam HomeTeam  HomeTeamHasWon  \\\n",
       "datetime                                                                   \n",
       "2019-01-02      0.671360      0.328640      DAL      CHO           False   \n",
       "2019-01-02      0.421730      0.578270      MIA      CLE           False   \n",
       "2019-01-02      0.724603      0.275397      ATL      WAS            True   \n",
       "2019-01-02      0.536187      0.463813      NOP      BRK            True   \n",
       "2019-01-02      0.552163      0.447837      ORL      CHI           False   \n",
       "...                  ...           ...      ...      ...             ...   \n",
       "2022-03-27      0.347830      0.652170      GSW      WAS            True   \n",
       "2022-03-27      0.766541      0.233459      MIN      BOS            True   \n",
       "2022-03-27      0.755368      0.244632      LAL      NOP            True   \n",
       "2022-03-27      0.621091      0.378909      UTA      DAL            True   \n",
       "2022-03-27      0.660568      0.339432      CHO      BRK           False   \n",
       "\n",
       "            ConsensusHomeMoneyLine  ConsensusAwayMoneyLine  \n",
       "datetime                                                    \n",
       "2019-01-02                  -117.0                   107.0  \n",
       "2019-01-02                   210.0                  -230.0  \n",
       "2019-01-02                  -240.0                   220.0  \n",
       "2019-01-02                   115.0                  -125.0  \n",
       "2019-01-02                   102.0                  -112.0  \n",
       "...                            ...                     ...  \n",
       "2022-03-27                   226.0                  -281.0  \n",
       "2022-03-27                  -259.0                   208.0  \n",
       "2022-03-27                  -173.0                   143.0  \n",
       "2022-03-27                  -168.0                   139.0  \n",
       "2022-03-27                  -270.0                   217.0  \n",
       "\n",
       "[4193 rows x 7 columns]"
      ]
     },
     "execution_count": 94,
     "metadata": {},
     "output_type": "execute_result"
    }
   ],
   "source": [
    "f"
   ]
  },
  {
   "cell_type": "code",
   "execution_count": 95,
   "metadata": {
    "ExecuteTime": {
     "end_time": "2022-03-29T04:30:54.348406Z",
     "start_time": "2022-03-29T04:30:54.342551Z"
    }
   },
   "outputs": [
    {
     "data": {
      "text/plain": [
       "Index(['HomeTeamProb', 'AwayTeamProb', 'AwayTeam', 'HomeTeam',\n",
       "       'HomeTeamHasWon', 'ConsensusHomeMoneyLine', 'ConsensusAwayMoneyLine'],\n",
       "      dtype='object')"
      ]
     },
     "execution_count": 95,
     "metadata": {},
     "output_type": "execute_result"
    }
   ],
   "source": [
    "f.columns"
   ]
  },
  {
   "cell_type": "code",
   "execution_count": 96,
   "metadata": {
    "ExecuteTime": {
     "end_time": "2022-03-29T04:30:56.514633Z",
     "start_time": "2022-03-29T04:30:56.510699Z"
    }
   },
   "outputs": [],
   "source": [
    "results = ((f[\"HomeTeamProb\"] > 0.5) == f[\"HomeTeamHasWon\"])"
   ]
  },
  {
   "cell_type": "code",
   "execution_count": null,
   "metadata": {},
   "outputs": [],
   "source": [
    "kelly = (((1 - act_win_prob) / act_win_prob) * pre_win_prob - (1 - pre_win_prob)) / (\n",
    "                    (1 - act_win_prob) / act_win_prob)"
   ]
  },
  {
   "cell_type": "code",
   "execution_count": 97,
   "metadata": {
    "ExecuteTime": {
     "end_time": "2022-03-29T04:31:01.436279Z",
     "start_time": "2022-03-29T04:31:01.431398Z"
    }
   },
   "outputs": [],
   "source": [
    "def calc_winprob(odds):\n",
    "    if odds >= 0:\n",
    "        return round(100/(odds+100), 2)\n",
    "    else:\n",
    "        return round(1 - 100/(-odds+100), 2)"
   ]
  },
  {
   "cell_type": "code",
   "execution_count": 99,
   "metadata": {
    "ExecuteTime": {
     "end_time": "2022-03-29T04:31:48.959645Z",
     "start_time": "2022-03-29T04:31:48.941760Z"
    }
   },
   "outputs": [],
   "source": [
    "f.loc[:, \"ActualHomeWinProb\"] = f.loc[:, \"ConsensusHomeMoneyLine\"].apply(calc_winprob)\n",
    "f.loc[:, \"ActualAwayWinProb\"] = f.loc[:, \"ConsensusAwayMoneyLine\"].apply(calc_winprob)"
   ]
  },
  {
   "cell_type": "code",
   "execution_count": 100,
   "metadata": {
    "ExecuteTime": {
     "end_time": "2022-03-29T04:31:49.511363Z",
     "start_time": "2022-03-29T04:31:49.487452Z"
    }
   },
   "outputs": [
    {
     "data": {
      "text/html": [
       "<div>\n",
       "<style scoped>\n",
       "    .dataframe tbody tr th:only-of-type {\n",
       "        vertical-align: middle;\n",
       "    }\n",
       "\n",
       "    .dataframe tbody tr th {\n",
       "        vertical-align: top;\n",
       "    }\n",
       "\n",
       "    .dataframe thead th {\n",
       "        text-align: right;\n",
       "    }\n",
       "</style>\n",
       "<table border=\"1\" class=\"dataframe\">\n",
       "  <thead>\n",
       "    <tr style=\"text-align: right;\">\n",
       "      <th></th>\n",
       "      <th>HomeTeamProb</th>\n",
       "      <th>AwayTeamProb</th>\n",
       "      <th>AwayTeam</th>\n",
       "      <th>HomeTeam</th>\n",
       "      <th>HomeTeamHasWon</th>\n",
       "      <th>ConsensusHomeMoneyLine</th>\n",
       "      <th>ConsensusAwayMoneyLine</th>\n",
       "      <th>ActualHomeWinProb</th>\n",
       "      <th>ActualAwayWinProb</th>\n",
       "    </tr>\n",
       "    <tr>\n",
       "      <th>datetime</th>\n",
       "      <th></th>\n",
       "      <th></th>\n",
       "      <th></th>\n",
       "      <th></th>\n",
       "      <th></th>\n",
       "      <th></th>\n",
       "      <th></th>\n",
       "      <th></th>\n",
       "      <th></th>\n",
       "    </tr>\n",
       "  </thead>\n",
       "  <tbody>\n",
       "    <tr>\n",
       "      <th>2019-01-02</th>\n",
       "      <td>0.671360</td>\n",
       "      <td>0.328640</td>\n",
       "      <td>DAL</td>\n",
       "      <td>CHO</td>\n",
       "      <td>False</td>\n",
       "      <td>-117.0</td>\n",
       "      <td>107.0</td>\n",
       "      <td>0.54</td>\n",
       "      <td>0.48</td>\n",
       "    </tr>\n",
       "    <tr>\n",
       "      <th>2019-01-02</th>\n",
       "      <td>0.421730</td>\n",
       "      <td>0.578270</td>\n",
       "      <td>MIA</td>\n",
       "      <td>CLE</td>\n",
       "      <td>False</td>\n",
       "      <td>210.0</td>\n",
       "      <td>-230.0</td>\n",
       "      <td>0.32</td>\n",
       "      <td>0.70</td>\n",
       "    </tr>\n",
       "    <tr>\n",
       "      <th>2019-01-02</th>\n",
       "      <td>0.724603</td>\n",
       "      <td>0.275397</td>\n",
       "      <td>ATL</td>\n",
       "      <td>WAS</td>\n",
       "      <td>True</td>\n",
       "      <td>-240.0</td>\n",
       "      <td>220.0</td>\n",
       "      <td>0.71</td>\n",
       "      <td>0.31</td>\n",
       "    </tr>\n",
       "    <tr>\n",
       "      <th>2019-01-02</th>\n",
       "      <td>0.536187</td>\n",
       "      <td>0.463813</td>\n",
       "      <td>NOP</td>\n",
       "      <td>BRK</td>\n",
       "      <td>True</td>\n",
       "      <td>115.0</td>\n",
       "      <td>-125.0</td>\n",
       "      <td>0.47</td>\n",
       "      <td>0.56</td>\n",
       "    </tr>\n",
       "    <tr>\n",
       "      <th>2019-01-02</th>\n",
       "      <td>0.552163</td>\n",
       "      <td>0.447837</td>\n",
       "      <td>ORL</td>\n",
       "      <td>CHI</td>\n",
       "      <td>False</td>\n",
       "      <td>102.0</td>\n",
       "      <td>-112.0</td>\n",
       "      <td>0.50</td>\n",
       "      <td>0.53</td>\n",
       "    </tr>\n",
       "    <tr>\n",
       "      <th>...</th>\n",
       "      <td>...</td>\n",
       "      <td>...</td>\n",
       "      <td>...</td>\n",
       "      <td>...</td>\n",
       "      <td>...</td>\n",
       "      <td>...</td>\n",
       "      <td>...</td>\n",
       "      <td>...</td>\n",
       "      <td>...</td>\n",
       "    </tr>\n",
       "    <tr>\n",
       "      <th>2022-03-27</th>\n",
       "      <td>0.347830</td>\n",
       "      <td>0.652170</td>\n",
       "      <td>GSW</td>\n",
       "      <td>WAS</td>\n",
       "      <td>True</td>\n",
       "      <td>226.0</td>\n",
       "      <td>-281.0</td>\n",
       "      <td>0.31</td>\n",
       "      <td>0.74</td>\n",
       "    </tr>\n",
       "    <tr>\n",
       "      <th>2022-03-27</th>\n",
       "      <td>0.766541</td>\n",
       "      <td>0.233459</td>\n",
       "      <td>MIN</td>\n",
       "      <td>BOS</td>\n",
       "      <td>True</td>\n",
       "      <td>-259.0</td>\n",
       "      <td>208.0</td>\n",
       "      <td>0.72</td>\n",
       "      <td>0.32</td>\n",
       "    </tr>\n",
       "    <tr>\n",
       "      <th>2022-03-27</th>\n",
       "      <td>0.755368</td>\n",
       "      <td>0.244632</td>\n",
       "      <td>LAL</td>\n",
       "      <td>NOP</td>\n",
       "      <td>True</td>\n",
       "      <td>-173.0</td>\n",
       "      <td>143.0</td>\n",
       "      <td>0.63</td>\n",
       "      <td>0.41</td>\n",
       "    </tr>\n",
       "    <tr>\n",
       "      <th>2022-03-27</th>\n",
       "      <td>0.621091</td>\n",
       "      <td>0.378909</td>\n",
       "      <td>UTA</td>\n",
       "      <td>DAL</td>\n",
       "      <td>True</td>\n",
       "      <td>-168.0</td>\n",
       "      <td>139.0</td>\n",
       "      <td>0.63</td>\n",
       "      <td>0.42</td>\n",
       "    </tr>\n",
       "    <tr>\n",
       "      <th>2022-03-27</th>\n",
       "      <td>0.660568</td>\n",
       "      <td>0.339432</td>\n",
       "      <td>CHO</td>\n",
       "      <td>BRK</td>\n",
       "      <td>False</td>\n",
       "      <td>-270.0</td>\n",
       "      <td>217.0</td>\n",
       "      <td>0.73</td>\n",
       "      <td>0.32</td>\n",
       "    </tr>\n",
       "  </tbody>\n",
       "</table>\n",
       "<p>4193 rows × 9 columns</p>\n",
       "</div>"
      ],
      "text/plain": [
       "            HomeTeamProb  AwayTeamProb AwayTeam HomeTeam  HomeTeamHasWon  \\\n",
       "datetime                                                                   \n",
       "2019-01-02      0.671360      0.328640      DAL      CHO           False   \n",
       "2019-01-02      0.421730      0.578270      MIA      CLE           False   \n",
       "2019-01-02      0.724603      0.275397      ATL      WAS            True   \n",
       "2019-01-02      0.536187      0.463813      NOP      BRK            True   \n",
       "2019-01-02      0.552163      0.447837      ORL      CHI           False   \n",
       "...                  ...           ...      ...      ...             ...   \n",
       "2022-03-27      0.347830      0.652170      GSW      WAS            True   \n",
       "2022-03-27      0.766541      0.233459      MIN      BOS            True   \n",
       "2022-03-27      0.755368      0.244632      LAL      NOP            True   \n",
       "2022-03-27      0.621091      0.378909      UTA      DAL            True   \n",
       "2022-03-27      0.660568      0.339432      CHO      BRK           False   \n",
       "\n",
       "            ConsensusHomeMoneyLine  ConsensusAwayMoneyLine  ActualHomeWinProb  \\\n",
       "datetime                                                                        \n",
       "2019-01-02                  -117.0                   107.0               0.54   \n",
       "2019-01-02                   210.0                  -230.0               0.32   \n",
       "2019-01-02                  -240.0                   220.0               0.71   \n",
       "2019-01-02                   115.0                  -125.0               0.47   \n",
       "2019-01-02                   102.0                  -112.0               0.50   \n",
       "...                            ...                     ...                ...   \n",
       "2022-03-27                   226.0                  -281.0               0.31   \n",
       "2022-03-27                  -259.0                   208.0               0.72   \n",
       "2022-03-27                  -173.0                   143.0               0.63   \n",
       "2022-03-27                  -168.0                   139.0               0.63   \n",
       "2022-03-27                  -270.0                   217.0               0.73   \n",
       "\n",
       "            ActualAwayWinProb  \n",
       "datetime                       \n",
       "2019-01-02               0.48  \n",
       "2019-01-02               0.70  \n",
       "2019-01-02               0.31  \n",
       "2019-01-02               0.56  \n",
       "2019-01-02               0.53  \n",
       "...                       ...  \n",
       "2022-03-27               0.74  \n",
       "2022-03-27               0.32  \n",
       "2022-03-27               0.41  \n",
       "2022-03-27               0.42  \n",
       "2022-03-27               0.32  \n",
       "\n",
       "[4193 rows x 9 columns]"
      ]
     },
     "execution_count": 100,
     "metadata": {},
     "output_type": "execute_result"
    }
   ],
   "source": [
    "f"
   ]
  },
  {
   "cell_type": "code",
   "execution_count": 101,
   "metadata": {
    "ExecuteTime": {
     "end_time": "2022-03-29T04:31:53.656067Z",
     "start_time": "2022-03-29T04:31:53.647222Z"
    }
   },
   "outputs": [
    {
     "data": {
      "text/plain": [
       "datetime\n",
       "2019-01-02   -0.004615\n",
       "2019-01-02    0.001524\n",
       "2019-01-02   -0.002958\n",
       "2019-01-02    0.004087\n",
       "2019-01-02    0.004902\n",
       "                ...   \n",
       "2022-03-27    0.001372\n",
       "2022-03-27   -0.002780\n",
       "2022-03-27   -0.003642\n",
       "2022-03-27   -0.003750\n",
       "2022-03-27   -0.002704\n",
       "Length: 4193, dtype: float64"
      ]
     },
     "execution_count": 101,
     "metadata": {},
     "output_type": "execute_result"
    }
   ],
   "source": [
    "f.loc[:, \"ActualHomeWinProb\"] /  f.loc[:, \"ConsensusHomeMoneyLine\"]"
   ]
  },
  {
   "cell_type": "code",
   "execution_count": 102,
   "metadata": {
    "ExecuteTime": {
     "end_time": "2022-03-29T04:31:55.676933Z",
     "start_time": "2022-03-29T04:31:55.670103Z"
    }
   },
   "outputs": [
    {
     "data": {
      "text/plain": [
       "Index(['HomeTeamProb', 'AwayTeamProb', 'AwayTeam', 'HomeTeam',\n",
       "       'HomeTeamHasWon', 'ConsensusHomeMoneyLine', 'ConsensusAwayMoneyLine',\n",
       "       'ActualHomeWinProb', 'ActualAwayWinProb'],\n",
       "      dtype='object')"
      ]
     },
     "execution_count": 102,
     "metadata": {},
     "output_type": "execute_result"
    }
   ],
   "source": [
    "f.columns"
   ]
  },
  {
   "cell_type": "code",
   "execution_count": 104,
   "metadata": {
    "ExecuteTime": {
     "end_time": "2022-03-29T04:32:04.500861Z",
     "start_time": "2022-03-29T04:32:04.495002Z"
    }
   },
   "outputs": [
    {
     "data": {
      "text/plain": [
       "0.684931506849315"
      ]
     },
     "execution_count": 104,
     "metadata": {},
     "output_type": "execute_result"
    }
   ],
   "source": [
    "100/146"
   ]
  },
  {
   "cell_type": "code",
   "execution_count": 115,
   "metadata": {
    "ExecuteTime": {
     "end_time": "2022-03-29T04:41:33.143435Z",
     "start_time": "2022-03-29T04:41:32.872014Z"
    }
   },
   "outputs": [
    {
     "data": {
      "text/plain": [
       "<matplotlib.axes._subplots.AxesSubplot at 0x11de62b6408>"
      ]
     },
     "execution_count": 115,
     "metadata": {},
     "output_type": "execute_result"
    },
    {
     "data": {
      "image/png": "[encoded data removed]",
      "text/plain": [
       "<Figure size 432x288 with 1 Axes>"
      ]
     },
     "metadata": {
      "needs_background": "light"
     },
     "output_type": "display_data"
    }
   ],
   "source": [
    "f.loc[:, \"kellyHome\"] = f.loc[:, \"HomeTeamProb\"].apply(lambda x: 0.2 if x<0.5 else 0)\n",
    "\n",
    "f.loc[:, \"kellyAway\"] = f.loc[:, \"AwayTeamProb\"].apply(lambda x: 0.2 if x<0.5 else 0)\n",
    "\n",
    "f.loc[:, \"home_bet_win_result\"] = f.loc[:, \"HomeTeamHasWon\"].apply(lambda x: 1 if x is True else 0)\n",
    "f.loc[:, \"home_bet_lose_result\"] = f.loc[:, \"HomeTeamHasWon\"].apply(lambda x: 0 if x is True else 1)\n",
    "\n",
    "\n",
    "f.loc[:, \"away_bet_win_result\"] = f.loc[:, \"HomeTeamHasWon\"].apply(lambda x: 0 if x is True else 1)\n",
    "f.loc[:, \"away_bet_lose_result\"] = f.loc[:, \"HomeTeamHasWon\"].apply(lambda x: 1 if x is True else 0)\n",
    "\n",
    "f.loc[:, \"home_win_total\"] = f.loc[:, \"ConsensusHomeMoneyLine\"].apply(lambda x: x/100 if x >=0 else 100/abs(x) )\n",
    "\n",
    "f.loc[:, \"away_win_total\"] = f.loc[:, \"ConsensusAwayMoneyLine\"].apply(lambda x: x/100 if x >=0 else 100/abs(x) )\n",
    "f.loc[:, \"home_lose_total\"] = -1\n",
    "\n",
    "f.loc[:, \"away_lose_total\"] = -1\n",
    "\n",
    "f.loc[:, \"home_bet_earning\"] = f.loc[:, \"home_bet_win_result\"] * f.loc[:, \"home_win_total\"] * f.loc[:, \"kellyHome\"] + f.loc[:, \"home_bet_lose_result\"] * f.loc[:, \"home_lose_total\"] * f.loc[:, \"kellyHome\"]\n",
    "\n",
    "f.loc[:, \"away_bet_earning\"] = f.loc[:, \"away_bet_win_result\"] * f.loc[:, \"away_win_total\"] * f.loc[:, \"kellyAway\"] + f.loc[:, \"away_bet_lose_result\"] * f.loc[:, \"away_lose_total\"] * f.loc[:, \"kellyAway\"]\n",
    "\n",
    "f.loc[:, \"bet_earning_sum\"] =  f.loc[:, \"home_bet_earning\"]  + f.loc[:, \"away_bet_earning\"]\n",
    "\n",
    "f.loc[:, \"bet_earning_cum_sum\"] = f.loc[:, \"bet_earning_sum\"].cumsum()\n",
    "\n",
    "f.loc[:, \"bet_earning_cum_sum\"].plot()\n",
    "\n"
   ]
  },
  {
   "cell_type": "code",
   "execution_count": 109,
   "metadata": {
    "ExecuteTime": {
     "end_time": "2022-03-29T04:34:16.693611Z",
     "start_time": "2022-03-29T04:34:16.407391Z"
    }
   },
   "outputs": [
    {
     "data": {
      "text/plain": [
       "<matplotlib.axes._subplots.AxesSubplot at 0x11de5cfe548>"
      ]
     },
     "execution_count": 109,
     "metadata": {},
     "output_type": "execute_result"
    },
    {
     "data": {
      "image/png": "[encoded data removed]",
      "text/plain": [
       "<Figure size 432x288 with 1 Axes>"
      ]
     },
     "metadata": {
      "needs_background": "light"
     },
     "output_type": "display_data"
    }
   ],
   "source": [
    "f.loc[:, \"kellyHome\"] = (((1 - f.loc[:, \"ActualHomeWinProb\"]) / f.loc[:, \"ActualHomeWinProb\"]) * f.loc[:, \"HomeTeamProb\"] - (1 - f.loc[:, \"HomeTeamProb\"])) / (\n",
    "                    (1 - f.loc[:, \"ActualHomeWinProb\"]) / f.loc[:, \"ActualHomeWinProb\"])\n",
    "\n",
    "f.loc[:, \"kellyAway\"] = (((1 - f.loc[:, \"ActualAwayWinProb\"]) / f.loc[:, \"ActualAwayWinProb\"]) * f.loc[:, \"AwayTeamProb\"] - (1 - f.loc[:, \"AwayTeamProb\"])) / (\n",
    "                    (1 - f.loc[:, \"ActualAwayWinProb\"]) / f.loc[:, \"ActualAwayWinProb\"])\n",
    "\n",
    "\n",
    "\n",
    "f.loc[:, \"kellyHome\"] = f.loc[:, \"kellyHome\"].apply(lambda x: x if x > 0.0 else 0)\n",
    "f.loc[:, \"kellyAway\"] = f.loc[:, \"kellyAway\"].apply(lambda x: x if x > 0.0 else 0)\n",
    "f.loc[:, \"kellyHome\"] = f.loc[:, \"kellyHome\"].apply(lambda x: 0.2 if x > 0.2 else x)\n",
    "f.loc[:, \"kellyAway\"] = f.loc[:, \"kellyAway\"].apply(lambda x: 0.2 if x > 0.2 else x)\n",
    "\n",
    "f.loc[:, \"home_bet_win_result\"] = f.loc[:, \"HomeTeamHasWon\"].apply(lambda x: 1 if x is True else 0)\n",
    "f.loc[:, \"home_bet_lose_result\"] = f.loc[:, \"HomeTeamHasWon\"].apply(lambda x: 0 if x is True else 1)\n",
    "\n",
    "\n",
    "f.loc[:, \"away_bet_win_result\"] = f.loc[:, \"HomeTeamHasWon\"].apply(lambda x: 0 if x is True else 1)\n",
    "f.loc[:, \"away_bet_lose_result\"] = f.loc[:, \"HomeTeamHasWon\"].apply(lambda x: 1 if x is True else 0)\n",
    "\n",
    "f.loc[:, \"home_win_total\"] = f.loc[:, \"ConsensusHomeMoneyLine\"].apply(lambda x: x/100 if x >=0 else 100/abs(x) )\n",
    "\n",
    "f.loc[:, \"away_win_total\"] = f.loc[:, \"ConsensusAwayMoneyLine\"].apply(lambda x: x/100 if x >=0 else 100/abs(x) )\n",
    "f.loc[:, \"home_lose_total\"] = -1\n",
    "\n",
    "f.loc[:, \"away_lose_total\"] = -1\n",
    "\n",
    "f.loc[:, \"home_bet_earning\"] = f.loc[:, \"home_bet_win_result\"] * f.loc[:, \"home_win_total\"] * f.loc[:, \"kellyHome\"] + f.loc[:, \"home_bet_lose_result\"] * f.loc[:, \"home_lose_total\"] * f.loc[:, \"kellyHome\"]\n",
    "\n",
    "f.loc[:, \"away_bet_earning\"] = f.loc[:, \"away_bet_win_result\"] * f.loc[:, \"away_win_total\"] * f.loc[:, \"kellyAway\"] + f.loc[:, \"away_bet_lose_result\"] * f.loc[:, \"away_lose_total\"] * f.loc[:, \"kellyAway\"]\n",
    "\n",
    "f.loc[:, \"bet_earning_sum\"] =  f.loc[:, \"home_bet_earning\"]  + f.loc[:, \"away_bet_earning\"]\n",
    "\n",
    "f.loc[:, \"bet_earning_cum_sum\"] = f.loc[:, \"bet_earning_sum\"].cumsum()\n",
    "\n",
    "f.loc[:, \"bet_earning_cum_sum\"].plot()\n",
    "\n",
    "\n"
   ]
  },
  {
   "cell_type": "code",
   "execution_count": 110,
   "metadata": {
    "ExecuteTime": {
     "end_time": "2022-03-29T04:34:34.347634Z",
     "start_time": "2022-03-29T04:34:34.167011Z"
    }
   },
   "outputs": [],
   "source": [
    "f.to_csv(\"result.csv\")"
   ]
  },
  {
   "cell_type": "code",
   "execution_count": 114,
   "metadata": {
    "ExecuteTime": {
     "end_time": "2022-03-29T04:41:15.479698Z",
     "start_time": "2022-03-29T04:41:15.232784Z"
    }
   },
   "outputs": [
    {
     "data": {
      "text/plain": [
       "<matplotlib.axes._subplots.AxesSubplot at 0x11de63c0748>"
      ]
     },
     "execution_count": 114,
     "metadata": {},
     "output_type": "execute_result"
    },
    {
     "data": {
      "image/png": "[encoded data removed]",
      "text/plain": [
       "<Figure size 432x288 with 1 Axes>"
      ]
     },
     "metadata": {
      "needs_background": "light"
     },
     "output_type": "display_data"
    }
   ],
   "source": [
    "f.loc[:, \"kellyHome\"] = f.loc[:, \"ConsensusHomeMoneyLine\"].apply(lambda x: 0.2 if x>0 else 0)\n",
    "\n",
    "f.loc[:, \"kellyAway\"] = f.loc[:, \"ConsensusAwayMoneyLine\"].apply(lambda x: 0.2 if x>0 else 0)\n",
    "\n",
    "f.loc[:, \"home_bet_win_result\"] = f.loc[:, \"HomeTeamHasWon\"].apply(lambda x: 1 if x is True else 0)\n",
    "f.loc[:, \"home_bet_lose_result\"] = f.loc[:, \"HomeTeamHasWon\"].apply(lambda x: 0 if x is True else 1)\n",
    "\n",
    "\n",
    "f.loc[:, \"away_bet_win_result\"] = f.loc[:, \"HomeTeamHasWon\"].apply(lambda x: 0 if x is True else 1)\n",
    "f.loc[:, \"away_bet_lose_result\"] = f.loc[:, \"HomeTeamHasWon\"].apply(lambda x: 1 if x is True else 0)\n",
    "\n",
    "f.loc[:, \"home_win_total\"] = f.loc[:, \"ConsensusHomeMoneyLine\"].apply(lambda x: x/100 if x >=0 else 100/abs(x) )\n",
    "\n",
    "f.loc[:, \"away_win_total\"] = f.loc[:, \"ConsensusAwayMoneyLine\"].apply(lambda x: x/100 if x >=0 else 100/abs(x) )\n",
    "f.loc[:, \"home_lose_total\"] = -1\n",
    "\n",
    "f.loc[:, \"away_lose_total\"] = -1\n",
    "\n",
    "f.loc[:, \"home_bet_earning\"] = f.loc[:, \"home_bet_win_result\"] * f.loc[:, \"home_win_total\"] * f.loc[:, \"kellyHome\"] + f.loc[:, \"home_bet_lose_result\"] * f.loc[:, \"home_lose_total\"] * f.loc[:, \"kellyHome\"]\n",
    "\n",
    "f.loc[:, \"away_bet_earning\"] = f.loc[:, \"away_bet_win_result\"] * f.loc[:, \"away_win_total\"] * f.loc[:, \"kellyAway\"] + f.loc[:, \"away_bet_lose_result\"] * f.loc[:, \"away_lose_total\"] * f.loc[:, \"kellyAway\"]\n",
    "\n",
    "f.loc[:, \"bet_earning_sum\"] =  f.loc[:, \"home_bet_earning\"]  + f.loc[:, \"away_bet_earning\"]\n",
    "\n",
    "f.loc[:, \"bet_earning_cum_sum\"] = f.loc[:, \"bet_earning_sum\"].cumsum()\n",
    "\n",
    "f.loc[:, \"bet_earning_cum_sum\"].plot()\n",
    "\n"
   ]
  },
  {
   "cell_type": "code",
   "execution_count": null,
   "metadata": {},
   "outputs": [],
   "source": []
  }
 ],
 "metadata": {
  "hide_input": false,
  "kernelspec": {
   "display_name": "Python [conda env:py37]",
   "language": "python",
   "name": "conda-env-py37-py"
  },
  "language_info": {
   "codemirror_mode": {
    "name": "ipython",
    "version": 3
   },
   "file_extension": ".py",
   "mimetype": "text/x-python",
   "name": "python",
   "nbconvert_exporter": "python",
   "pygments_lexer": "ipython3",
   "version": "3.7.5"
  },
  "toc": {
   "base_numbering": 1,
   "nav_menu": {},
   "number_sections": true,
   "sideBar": true,
   "skip_h1_title": false,
   "title_cell": "Table of Contents",
   "title_sidebar": "Contents",
   "toc_cell": false,
   "toc_position": {},
   "toc_section_display": true,
   "toc_window_display": false
  },
  "varInspector": {
   "cols": {
    "lenName": 16,
    "lenType": 16,
    "lenVar": 40
   },
   "kernels_config": {
    "python": {
     "delete_cmd_postfix": "",
     "delete_cmd_prefix": "del ",
     "library": "var_list.py",
     "varRefreshCmd": "print(var_dic_list())"
    },
    "r": {
     "delete_cmd_postfix": ") ",
     "delete_cmd_prefix": "rm(",
     "library": "var_list.r",
     "varRefreshCmd": "cat(var_dic_list()) "
    }
   },
   "types_to_exclude": [
    "module",
    "function",
    "builtin_function_or_method",
    "instance",
    "_Feature"
   ],
   "window_display": false
  }
 },
 "nbformat": 4,
 "nbformat_minor": 2
}
