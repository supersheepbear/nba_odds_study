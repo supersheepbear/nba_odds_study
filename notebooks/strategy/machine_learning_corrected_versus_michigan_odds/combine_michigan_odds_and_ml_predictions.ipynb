{
 "cells": [
  {
   "cell_type": "code",
   "execution_count": 31,
   "metadata": {
    "ExecuteTime": {
     "end_time": "2022-04-05T21:00:14.735902Z",
     "start_time": "2022-04-05T21:00:14.718913Z"
    }
   },
   "outputs": [],
   "source": [
    "import pandas as pd\n",
    "from datetime import datetime, timedelta\n",
    "import numpy as np"
   ]
  },
  {
   "cell_type": "code",
   "execution_count": 32,
   "metadata": {
    "ExecuteTime": {
     "end_time": "2022-04-05T21:00:15.541167Z",
     "start_time": "2022-04-05T21:00:15.422212Z"
    }
   },
   "outputs": [],
   "source": [
    "odds_f = pd.read_csv(r\"E:\\project\\nba_odds_study\\data\\odds\\bettingdata_com\\processed\\bettingdata_odds.csv\", parse_dates=[\"datetime\"], index_col=\"datetime\")"
   ]
  },
  {
   "cell_type": "code",
   "execution_count": 33,
   "metadata": {
    "ExecuteTime": {
     "end_time": "2022-04-05T21:00:16.536407Z",
     "start_time": "2022-04-05T21:00:16.285521Z"
    }
   },
   "outputs": [],
   "source": [
    "pre_f = pd.read_csv(r\"E:\\project\\nba_odds_study\\data\\predictions\\machine_learning\\prediction_corrected.csv\")"
   ]
  },
  {
   "cell_type": "code",
   "execution_count": 34,
   "metadata": {
    "ExecuteTime": {
     "end_time": "2022-04-05T21:00:16.940862Z",
     "start_time": "2022-04-05T21:00:16.933865Z"
    }
   },
   "outputs": [
    {
     "data": {
      "text/plain": [
       "Index(['Season', 'Type', 'DayString', 'TimeString', 'DayOfWeek',\n",
       "       'DateTimeString', 'LastUpdated', 'Status', 'AwayTeam', 'AwayTeamScore',\n",
       "       ...\n",
       "       'BarstoolAwayPointSpread', 'BarstoolHomePointSpreadPayout',\n",
       "       'BarstoolAwayPointSpreadPayout', 'BarstoolOverUnder',\n",
       "       'BarstoolOverPayout', 'BarstoolUnderPayout', 'BarstoolHomeTeamTotal',\n",
       "       'BarstoolAwayTeamTotal', 'BarstoolHomeTeamTotalPayout',\n",
       "       'BarstoolAwayTeamTotalPayout'],\n",
       "      dtype='object', length=143)"
      ]
     },
     "execution_count": 34,
     "metadata": {},
     "output_type": "execute_result"
    }
   ],
   "source": [
    "odds_f.columns"
   ]
  },
  {
   "cell_type": "code",
   "execution_count": 35,
   "metadata": {
    "ExecuteTime": {
     "end_time": "2022-04-05T21:00:17.344735Z",
     "start_time": "2022-04-05T21:00:17.332741Z"
    }
   },
   "outputs": [
    {
     "data": {
      "text/plain": [
       "Index(['Unnamed: 0', 'TEAM_NAME', 'GP', 'W', 'L', 'W_PCT', 'MIN', 'FGM', 'FGA',\n",
       "       'FG_PCT',\n",
       "       ...\n",
       "       'BLK_RANK.1', 'BLKA_RANK.1', 'PF_RANK.1', 'PFD_RANK.1', 'PTS_RANK.1',\n",
       "       'PLUS_MINUS_RANK.1', 'Home-Team-Win', 'date', 'winprob_home',\n",
       "       'winprob_away'],\n",
       "      dtype='object', length=112)"
      ]
     },
     "execution_count": 35,
     "metadata": {},
     "output_type": "execute_result"
    }
   ],
   "source": [
    "pre_f.columns"
   ]
  },
  {
   "cell_type": "code",
   "execution_count": 36,
   "metadata": {
    "ExecuteTime": {
     "end_time": "2022-04-05T21:00:17.716001Z",
     "start_time": "2022-04-05T21:00:17.673020Z"
    }
   },
   "outputs": [
    {
     "data": {
      "text/html": [
       "<div>\n",
       "<style scoped>\n",
       "    .dataframe tbody tr th:only-of-type {\n",
       "        vertical-align: middle;\n",
       "    }\n",
       "\n",
       "    .dataframe tbody tr th {\n",
       "        vertical-align: top;\n",
       "    }\n",
       "\n",
       "    .dataframe thead th {\n",
       "        text-align: right;\n",
       "    }\n",
       "</style>\n",
       "<table border=\"1\" class=\"dataframe\">\n",
       "  <thead>\n",
       "    <tr style=\"text-align: right;\">\n",
       "      <th></th>\n",
       "      <th>Season</th>\n",
       "      <th>Type</th>\n",
       "      <th>DayString</th>\n",
       "      <th>TimeString</th>\n",
       "      <th>DayOfWeek</th>\n",
       "      <th>DateTimeString</th>\n",
       "      <th>LastUpdated</th>\n",
       "      <th>Status</th>\n",
       "      <th>AwayTeam</th>\n",
       "      <th>AwayTeamScore</th>\n",
       "      <th>...</th>\n",
       "      <th>BarstoolAwayPointSpread</th>\n",
       "      <th>BarstoolHomePointSpreadPayout</th>\n",
       "      <th>BarstoolAwayPointSpreadPayout</th>\n",
       "      <th>BarstoolOverUnder</th>\n",
       "      <th>BarstoolOverPayout</th>\n",
       "      <th>BarstoolUnderPayout</th>\n",
       "      <th>BarstoolHomeTeamTotal</th>\n",
       "      <th>BarstoolAwayTeamTotal</th>\n",
       "      <th>BarstoolHomeTeamTotalPayout</th>\n",
       "      <th>BarstoolAwayTeamTotalPayout</th>\n",
       "    </tr>\n",
       "    <tr>\n",
       "      <th>datetime</th>\n",
       "      <th></th>\n",
       "      <th></th>\n",
       "      <th></th>\n",
       "      <th></th>\n",
       "      <th></th>\n",
       "      <th></th>\n",
       "      <th></th>\n",
       "      <th></th>\n",
       "      <th></th>\n",
       "      <th></th>\n",
       "      <th></th>\n",
       "      <th></th>\n",
       "      <th></th>\n",
       "      <th></th>\n",
       "      <th></th>\n",
       "      <th></th>\n",
       "      <th></th>\n",
       "      <th></th>\n",
       "      <th></th>\n",
       "      <th></th>\n",
       "      <th></th>\n",
       "    </tr>\n",
       "  </thead>\n",
       "  <tbody>\n",
       "    <tr>\n",
       "      <th>2019-01-02</th>\n",
       "      <td>2019</td>\n",
       "      <td>RegularSeason</td>\n",
       "      <td>1/2/19</td>\n",
       "      <td>8:00 PM ET</td>\n",
       "      <td>Wed</td>\n",
       "      <td>1/2/19 @ 8:00 PM ET</td>\n",
       "      <td>NaN</td>\n",
       "      <td>Final</td>\n",
       "      <td>ORL</td>\n",
       "      <td>112</td>\n",
       "      <td>...</td>\n",
       "      <td>NaN</td>\n",
       "      <td>NaN</td>\n",
       "      <td>NaN</td>\n",
       "      <td>NaN</td>\n",
       "      <td>NaN</td>\n",
       "      <td>NaN</td>\n",
       "      <td>NaN</td>\n",
       "      <td>NaN</td>\n",
       "      <td>NaN</td>\n",
       "      <td>NaN</td>\n",
       "    </tr>\n",
       "    <tr>\n",
       "      <th>2019-01-02</th>\n",
       "      <td>2019</td>\n",
       "      <td>RegularSeason</td>\n",
       "      <td>1/2/19</td>\n",
       "      <td>10:30 PM ET</td>\n",
       "      <td>Wed</td>\n",
       "      <td>1/2/19 @ 10:30 PM ET</td>\n",
       "      <td>NaN</td>\n",
       "      <td>Final</td>\n",
       "      <td>OKC</td>\n",
       "      <td>107</td>\n",
       "      <td>...</td>\n",
       "      <td>NaN</td>\n",
       "      <td>NaN</td>\n",
       "      <td>NaN</td>\n",
       "      <td>NaN</td>\n",
       "      <td>NaN</td>\n",
       "      <td>NaN</td>\n",
       "      <td>NaN</td>\n",
       "      <td>NaN</td>\n",
       "      <td>NaN</td>\n",
       "      <td>NaN</td>\n",
       "    </tr>\n",
       "    <tr>\n",
       "      <th>2019-01-02</th>\n",
       "      <td>2019</td>\n",
       "      <td>RegularSeason</td>\n",
       "      <td>1/2/19</td>\n",
       "      <td>9:00 PM ET</td>\n",
       "      <td>Wed</td>\n",
       "      <td>1/2/19 @ 9:00 PM ET</td>\n",
       "      <td>NaN</td>\n",
       "      <td>Final</td>\n",
       "      <td>PHI</td>\n",
       "      <td>132</td>\n",
       "      <td>...</td>\n",
       "      <td>NaN</td>\n",
       "      <td>NaN</td>\n",
       "      <td>NaN</td>\n",
       "      <td>NaN</td>\n",
       "      <td>NaN</td>\n",
       "      <td>NaN</td>\n",
       "      <td>NaN</td>\n",
       "      <td>NaN</td>\n",
       "      <td>NaN</td>\n",
       "      <td>NaN</td>\n",
       "    </tr>\n",
       "    <tr>\n",
       "      <th>2019-01-02</th>\n",
       "      <td>2019</td>\n",
       "      <td>RegularSeason</td>\n",
       "      <td>1/2/19</td>\n",
       "      <td>8:00 PM ET</td>\n",
       "      <td>Wed</td>\n",
       "      <td>1/2/19 @ 8:00 PM ET</td>\n",
       "      <td>NaN</td>\n",
       "      <td>Final</td>\n",
       "      <td>DET</td>\n",
       "      <td>101</td>\n",
       "      <td>...</td>\n",
       "      <td>NaN</td>\n",
       "      <td>NaN</td>\n",
       "      <td>NaN</td>\n",
       "      <td>NaN</td>\n",
       "      <td>NaN</td>\n",
       "      <td>NaN</td>\n",
       "      <td>NaN</td>\n",
       "      <td>NaN</td>\n",
       "      <td>NaN</td>\n",
       "      <td>NaN</td>\n",
       "    </tr>\n",
       "    <tr>\n",
       "      <th>2019-01-02</th>\n",
       "      <td>2019</td>\n",
       "      <td>RegularSeason</td>\n",
       "      <td>1/2/19</td>\n",
       "      <td>8:00 PM ET</td>\n",
       "      <td>Wed</td>\n",
       "      <td>1/2/19 @ 8:00 PM ET</td>\n",
       "      <td>NaN</td>\n",
       "      <td>Final</td>\n",
       "      <td>MIN</td>\n",
       "      <td>102</td>\n",
       "      <td>...</td>\n",
       "      <td>NaN</td>\n",
       "      <td>NaN</td>\n",
       "      <td>NaN</td>\n",
       "      <td>NaN</td>\n",
       "      <td>NaN</td>\n",
       "      <td>NaN</td>\n",
       "      <td>NaN</td>\n",
       "      <td>NaN</td>\n",
       "      <td>NaN</td>\n",
       "      <td>NaN</td>\n",
       "    </tr>\n",
       "  </tbody>\n",
       "</table>\n",
       "<p>5 rows × 143 columns</p>\n",
       "</div>"
      ],
      "text/plain": [
       "            Season           Type DayString   TimeString DayOfWeek  \\\n",
       "datetime                                                             \n",
       "2019-01-02    2019  RegularSeason    1/2/19   8:00 PM ET       Wed   \n",
       "2019-01-02    2019  RegularSeason    1/2/19  10:30 PM ET       Wed   \n",
       "2019-01-02    2019  RegularSeason    1/2/19   9:00 PM ET       Wed   \n",
       "2019-01-02    2019  RegularSeason    1/2/19   8:00 PM ET       Wed   \n",
       "2019-01-02    2019  RegularSeason    1/2/19   8:00 PM ET       Wed   \n",
       "\n",
       "                  DateTimeString  LastUpdated Status AwayTeam  AwayTeamScore  \\\n",
       "datetime                                                                       \n",
       "2019-01-02   1/2/19 @ 8:00 PM ET          NaN  Final      ORL            112   \n",
       "2019-01-02  1/2/19 @ 10:30 PM ET          NaN  Final      OKC            107   \n",
       "2019-01-02   1/2/19 @ 9:00 PM ET          NaN  Final      PHI            132   \n",
       "2019-01-02   1/2/19 @ 8:00 PM ET          NaN  Final      DET            101   \n",
       "2019-01-02   1/2/19 @ 8:00 PM ET          NaN  Final      MIN            102   \n",
       "\n",
       "            ...  BarstoolAwayPointSpread BarstoolHomePointSpreadPayout  \\\n",
       "datetime    ...                                                          \n",
       "2019-01-02  ...                      NaN                           NaN   \n",
       "2019-01-02  ...                      NaN                           NaN   \n",
       "2019-01-02  ...                      NaN                           NaN   \n",
       "2019-01-02  ...                      NaN                           NaN   \n",
       "2019-01-02  ...                      NaN                           NaN   \n",
       "\n",
       "            BarstoolAwayPointSpreadPayout  BarstoolOverUnder  \\\n",
       "datetime                                                       \n",
       "2019-01-02                            NaN                NaN   \n",
       "2019-01-02                            NaN                NaN   \n",
       "2019-01-02                            NaN                NaN   \n",
       "2019-01-02                            NaN                NaN   \n",
       "2019-01-02                            NaN                NaN   \n",
       "\n",
       "           BarstoolOverPayout BarstoolUnderPayout  BarstoolHomeTeamTotal  \\\n",
       "datetime                                                                   \n",
       "2019-01-02                NaN                 NaN                    NaN   \n",
       "2019-01-02                NaN                 NaN                    NaN   \n",
       "2019-01-02                NaN                 NaN                    NaN   \n",
       "2019-01-02                NaN                 NaN                    NaN   \n",
       "2019-01-02                NaN                 NaN                    NaN   \n",
       "\n",
       "            BarstoolAwayTeamTotal  BarstoolHomeTeamTotalPayout  \\\n",
       "datetime                                                         \n",
       "2019-01-02                    NaN                          NaN   \n",
       "2019-01-02                    NaN                          NaN   \n",
       "2019-01-02                    NaN                          NaN   \n",
       "2019-01-02                    NaN                          NaN   \n",
       "2019-01-02                    NaN                          NaN   \n",
       "\n",
       "            BarstoolAwayTeamTotalPayout  \n",
       "datetime                                 \n",
       "2019-01-02                          NaN  \n",
       "2019-01-02                          NaN  \n",
       "2019-01-02                          NaN  \n",
       "2019-01-02                          NaN  \n",
       "2019-01-02                          NaN  \n",
       "\n",
       "[5 rows x 143 columns]"
      ]
     },
     "execution_count": 36,
     "metadata": {},
     "output_type": "execute_result"
    }
   ],
   "source": [
    "odds_f.head(5)"
   ]
  },
  {
   "cell_type": "code",
   "execution_count": 37,
   "metadata": {
    "ExecuteTime": {
     "end_time": "2022-04-05T21:00:18.260549Z",
     "start_time": "2022-04-05T21:00:18.222569Z"
    }
   },
   "outputs": [],
   "source": [
    "odds_f.drop(datetime(2019, 2, 17), axis=0, inplace=True)\n",
    "odds_f.drop(datetime(2022, 2, 20), axis=0, inplace=True)\n",
    "odds_f.drop(datetime(2020, 2, 16), axis=0, inplace=True)\n",
    "odds_f.drop(datetime(2021, 3, 7), axis=0, inplace=True)"
   ]
  },
  {
   "cell_type": "code",
   "execution_count": 38,
   "metadata": {
    "ExecuteTime": {
     "end_time": "2022-04-05T21:00:18.634407Z",
     "start_time": "2022-04-05T21:00:18.621414Z"
    }
   },
   "outputs": [],
   "source": [
    "odds_f_sub = odds_f[[\"AwayTeam\", \"HomeTeam\",\"HomeTeamHasWon\",\"ConsensusHomeMoneyLine\", \"ConsensusAwayMoneyLine\"]].copy()"
   ]
  },
  {
   "cell_type": "code",
   "execution_count": 39,
   "metadata": {
    "ExecuteTime": {
     "end_time": "2022-04-05T21:00:19.084016Z",
     "start_time": "2022-04-05T21:00:19.055030Z"
    }
   },
   "outputs": [
    {
     "data": {
      "text/html": [
       "<div>\n",
       "<style scoped>\n",
       "    .dataframe tbody tr th:only-of-type {\n",
       "        vertical-align: middle;\n",
       "    }\n",
       "\n",
       "    .dataframe tbody tr th {\n",
       "        vertical-align: top;\n",
       "    }\n",
       "\n",
       "    .dataframe thead th {\n",
       "        text-align: right;\n",
       "    }\n",
       "</style>\n",
       "<table border=\"1\" class=\"dataframe\">\n",
       "  <thead>\n",
       "    <tr style=\"text-align: right;\">\n",
       "      <th></th>\n",
       "      <th>AwayTeam</th>\n",
       "      <th>HomeTeam</th>\n",
       "      <th>HomeTeamHasWon</th>\n",
       "      <th>ConsensusHomeMoneyLine</th>\n",
       "      <th>ConsensusAwayMoneyLine</th>\n",
       "    </tr>\n",
       "    <tr>\n",
       "      <th>datetime</th>\n",
       "      <th></th>\n",
       "      <th></th>\n",
       "      <th></th>\n",
       "      <th></th>\n",
       "      <th></th>\n",
       "    </tr>\n",
       "  </thead>\n",
       "  <tbody>\n",
       "    <tr>\n",
       "      <th>2019-01-02</th>\n",
       "      <td>ORL</td>\n",
       "      <td>CHI</td>\n",
       "      <td>False</td>\n",
       "      <td>102.0</td>\n",
       "      <td>-112.0</td>\n",
       "    </tr>\n",
       "    <tr>\n",
       "      <th>2019-01-02</th>\n",
       "      <td>OKC</td>\n",
       "      <td>LAL</td>\n",
       "      <td>False</td>\n",
       "      <td>190.0</td>\n",
       "      <td>-210.0</td>\n",
       "    </tr>\n",
       "    <tr>\n",
       "      <th>2019-01-02</th>\n",
       "      <td>PHI</td>\n",
       "      <td>PHO</td>\n",
       "      <td>False</td>\n",
       "      <td>150.0</td>\n",
       "      <td>-160.0</td>\n",
       "    </tr>\n",
       "    <tr>\n",
       "      <th>2019-01-02</th>\n",
       "      <td>DET</td>\n",
       "      <td>MEM</td>\n",
       "      <td>False</td>\n",
       "      <td>-240.0</td>\n",
       "      <td>220.0</td>\n",
       "    </tr>\n",
       "    <tr>\n",
       "      <th>2019-01-02</th>\n",
       "      <td>MIN</td>\n",
       "      <td>BOS</td>\n",
       "      <td>True</td>\n",
       "      <td>-250.0</td>\n",
       "      <td>230.0</td>\n",
       "    </tr>\n",
       "  </tbody>\n",
       "</table>\n",
       "</div>"
      ],
      "text/plain": [
       "           AwayTeam HomeTeam  HomeTeamHasWon  ConsensusHomeMoneyLine  \\\n",
       "datetime                                                               \n",
       "2019-01-02      ORL      CHI           False                   102.0   \n",
       "2019-01-02      OKC      LAL           False                   190.0   \n",
       "2019-01-02      PHI      PHO           False                   150.0   \n",
       "2019-01-02      DET      MEM           False                  -240.0   \n",
       "2019-01-02      MIN      BOS            True                  -250.0   \n",
       "\n",
       "            ConsensusAwayMoneyLine  \n",
       "datetime                            \n",
       "2019-01-02                  -112.0  \n",
       "2019-01-02                  -210.0  \n",
       "2019-01-02                  -160.0  \n",
       "2019-01-02                   220.0  \n",
       "2019-01-02                   230.0  "
      ]
     },
     "execution_count": 39,
     "metadata": {},
     "output_type": "execute_result"
    }
   ],
   "source": [
    "odds_f_sub.head()"
   ]
  },
  {
   "cell_type": "code",
   "execution_count": 40,
   "metadata": {
    "ExecuteTime": {
     "end_time": "2022-04-05T21:00:19.844327Z",
     "start_time": "2022-04-05T21:00:19.799349Z"
    }
   },
   "outputs": [
    {
     "data": {
      "text/html": [
       "<div>\n",
       "<style scoped>\n",
       "    .dataframe tbody tr th:only-of-type {\n",
       "        vertical-align: middle;\n",
       "    }\n",
       "\n",
       "    .dataframe tbody tr th {\n",
       "        vertical-align: top;\n",
       "    }\n",
       "\n",
       "    .dataframe thead th {\n",
       "        text-align: right;\n",
       "    }\n",
       "</style>\n",
       "<table border=\"1\" class=\"dataframe\">\n",
       "  <thead>\n",
       "    <tr style=\"text-align: right;\">\n",
       "      <th></th>\n",
       "      <th>Unnamed: 0</th>\n",
       "      <th>TEAM_NAME</th>\n",
       "      <th>GP</th>\n",
       "      <th>W</th>\n",
       "      <th>L</th>\n",
       "      <th>W_PCT</th>\n",
       "      <th>MIN</th>\n",
       "      <th>FGM</th>\n",
       "      <th>FGA</th>\n",
       "      <th>FG_PCT</th>\n",
       "      <th>...</th>\n",
       "      <th>BLK_RANK.1</th>\n",
       "      <th>BLKA_RANK.1</th>\n",
       "      <th>PF_RANK.1</th>\n",
       "      <th>PFD_RANK.1</th>\n",
       "      <th>PTS_RANK.1</th>\n",
       "      <th>PLUS_MINUS_RANK.1</th>\n",
       "      <th>Home-Team-Win</th>\n",
       "      <th>date</th>\n",
       "      <th>winprob_home</th>\n",
       "      <th>winprob_away</th>\n",
       "    </tr>\n",
       "  </thead>\n",
       "  <tbody>\n",
       "    <tr>\n",
       "      <th>0</th>\n",
       "      <td>0</td>\n",
       "      <td>Philadelphia 76ers</td>\n",
       "      <td>4</td>\n",
       "      <td>2</td>\n",
       "      <td>2</td>\n",
       "      <td>0.500</td>\n",
       "      <td>48.0</td>\n",
       "      <td>34.5</td>\n",
       "      <td>79.5</td>\n",
       "      <td>0.434</td>\n",
       "      <td>...</td>\n",
       "      <td>27</td>\n",
       "      <td>26</td>\n",
       "      <td>12</td>\n",
       "      <td>22</td>\n",
       "      <td>16</td>\n",
       "      <td>17</td>\n",
       "      <td>0</td>\n",
       "      <td>2007-11-09</td>\n",
       "      <td>0.882803</td>\n",
       "      <td>0.117198</td>\n",
       "    </tr>\n",
       "    <tr>\n",
       "      <th>1</th>\n",
       "      <td>1</td>\n",
       "      <td>Charlotte Bobcats</td>\n",
       "      <td>4</td>\n",
       "      <td>2</td>\n",
       "      <td>2</td>\n",
       "      <td>0.500</td>\n",
       "      <td>48.0</td>\n",
       "      <td>30.5</td>\n",
       "      <td>75.5</td>\n",
       "      <td>0.404</td>\n",
       "      <td>...</td>\n",
       "      <td>1</td>\n",
       "      <td>13</td>\n",
       "      <td>29</td>\n",
       "      <td>11</td>\n",
       "      <td>9</td>\n",
       "      <td>16</td>\n",
       "      <td>1</td>\n",
       "      <td>2007-11-09</td>\n",
       "      <td>0.287085</td>\n",
       "      <td>0.712915</td>\n",
       "    </tr>\n",
       "    <tr>\n",
       "      <th>2</th>\n",
       "      <td>2</td>\n",
       "      <td>Boston Celtics</td>\n",
       "      <td>3</td>\n",
       "      <td>3</td>\n",
       "      <td>0</td>\n",
       "      <td>1.000</td>\n",
       "      <td>49.7</td>\n",
       "      <td>40.7</td>\n",
       "      <td>78.0</td>\n",
       "      <td>0.521</td>\n",
       "      <td>...</td>\n",
       "      <td>5</td>\n",
       "      <td>30</td>\n",
       "      <td>9</td>\n",
       "      <td>19</td>\n",
       "      <td>21</td>\n",
       "      <td>14</td>\n",
       "      <td>1</td>\n",
       "      <td>2007-11-09</td>\n",
       "      <td>0.929955</td>\n",
       "      <td>0.070045</td>\n",
       "    </tr>\n",
       "    <tr>\n",
       "      <th>3</th>\n",
       "      <td>3</td>\n",
       "      <td>New York Knicks</td>\n",
       "      <td>3</td>\n",
       "      <td>2</td>\n",
       "      <td>1</td>\n",
       "      <td>0.667</td>\n",
       "      <td>48.0</td>\n",
       "      <td>40.3</td>\n",
       "      <td>82.3</td>\n",
       "      <td>0.490</td>\n",
       "      <td>...</td>\n",
       "      <td>22</td>\n",
       "      <td>7</td>\n",
       "      <td>6</td>\n",
       "      <td>6</td>\n",
       "      <td>13</td>\n",
       "      <td>9</td>\n",
       "      <td>0</td>\n",
       "      <td>2007-11-09</td>\n",
       "      <td>0.332229</td>\n",
       "      <td>0.667771</td>\n",
       "    </tr>\n",
       "    <tr>\n",
       "      <th>4</th>\n",
       "      <td>4</td>\n",
       "      <td>Miami Heat</td>\n",
       "      <td>4</td>\n",
       "      <td>0</td>\n",
       "      <td>4</td>\n",
       "      <td>0.000</td>\n",
       "      <td>48.0</td>\n",
       "      <td>33.3</td>\n",
       "      <td>79.5</td>\n",
       "      <td>0.418</td>\n",
       "      <td>...</td>\n",
       "      <td>23</td>\n",
       "      <td>9</td>\n",
       "      <td>1</td>\n",
       "      <td>21</td>\n",
       "      <td>10</td>\n",
       "      <td>11</td>\n",
       "      <td>0</td>\n",
       "      <td>2007-11-09</td>\n",
       "      <td>0.217731</td>\n",
       "      <td>0.782269</td>\n",
       "    </tr>\n",
       "  </tbody>\n",
       "</table>\n",
       "<p>5 rows × 112 columns</p>\n",
       "</div>"
      ],
      "text/plain": [
       "   Unnamed: 0           TEAM_NAME  GP  W  L  W_PCT   MIN   FGM   FGA  FG_PCT  \\\n",
       "0           0  Philadelphia 76ers   4  2  2  0.500  48.0  34.5  79.5   0.434   \n",
       "1           1   Charlotte Bobcats   4  2  2  0.500  48.0  30.5  75.5   0.404   \n",
       "2           2      Boston Celtics   3  3  0  1.000  49.7  40.7  78.0   0.521   \n",
       "3           3     New York Knicks   3  2  1  0.667  48.0  40.3  82.3   0.490   \n",
       "4           4          Miami Heat   4  0  4  0.000  48.0  33.3  79.5   0.418   \n",
       "\n",
       "   ...  BLK_RANK.1  BLKA_RANK.1  PF_RANK.1  PFD_RANK.1  PTS_RANK.1  \\\n",
       "0  ...          27           26         12          22          16   \n",
       "1  ...           1           13         29          11           9   \n",
       "2  ...           5           30          9          19          21   \n",
       "3  ...          22            7          6           6          13   \n",
       "4  ...          23            9          1          21          10   \n",
       "\n",
       "   PLUS_MINUS_RANK.1  Home-Team-Win        date  winprob_home  winprob_away  \n",
       "0                 17              0  2007-11-09      0.882803      0.117198  \n",
       "1                 16              1  2007-11-09      0.287085      0.712915  \n",
       "2                 14              1  2007-11-09      0.929955      0.070045  \n",
       "3                  9              0  2007-11-09      0.332229      0.667771  \n",
       "4                 11              0  2007-11-09      0.217731      0.782269  \n",
       "\n",
       "[5 rows x 112 columns]"
      ]
     },
     "execution_count": 40,
     "metadata": {},
     "output_type": "execute_result"
    }
   ],
   "source": [
    "pre_f.head()"
   ]
  },
  {
   "cell_type": "code",
   "execution_count": 41,
   "metadata": {
    "ExecuteTime": {
     "end_time": "2022-04-05T21:00:20.201376Z",
     "start_time": "2022-04-05T21:00:20.189382Z"
    }
   },
   "outputs": [],
   "source": [
    "pre_f.loc[:, \"datetime\"]  = pre_f.loc[:, \"date\"]"
   ]
  },
  {
   "cell_type": "code",
   "execution_count": 42,
   "metadata": {
    "ExecuteTime": {
     "end_time": "2022-04-05T21:00:20.683007Z",
     "start_time": "2022-04-05T21:00:20.656019Z"
    }
   },
   "outputs": [
    {
     "data": {
      "text/html": [
       "<div>\n",
       "<style scoped>\n",
       "    .dataframe tbody tr th:only-of-type {\n",
       "        vertical-align: middle;\n",
       "    }\n",
       "\n",
       "    .dataframe tbody tr th {\n",
       "        vertical-align: top;\n",
       "    }\n",
       "\n",
       "    .dataframe thead th {\n",
       "        text-align: right;\n",
       "    }\n",
       "</style>\n",
       "<table border=\"1\" class=\"dataframe\">\n",
       "  <thead>\n",
       "    <tr style=\"text-align: right;\">\n",
       "      <th></th>\n",
       "      <th>Unnamed: 0</th>\n",
       "      <th>TEAM_NAME</th>\n",
       "      <th>GP</th>\n",
       "      <th>W</th>\n",
       "      <th>L</th>\n",
       "      <th>W_PCT</th>\n",
       "      <th>MIN</th>\n",
       "      <th>FGM</th>\n",
       "      <th>FGA</th>\n",
       "      <th>FG_PCT</th>\n",
       "      <th>...</th>\n",
       "      <th>BLKA_RANK.1</th>\n",
       "      <th>PF_RANK.1</th>\n",
       "      <th>PFD_RANK.1</th>\n",
       "      <th>PTS_RANK.1</th>\n",
       "      <th>PLUS_MINUS_RANK.1</th>\n",
       "      <th>Home-Team-Win</th>\n",
       "      <th>date</th>\n",
       "      <th>winprob_home</th>\n",
       "      <th>winprob_away</th>\n",
       "      <th>datetime</th>\n",
       "    </tr>\n",
       "  </thead>\n",
       "  <tbody>\n",
       "    <tr>\n",
       "      <th>0</th>\n",
       "      <td>0</td>\n",
       "      <td>Philadelphia 76ers</td>\n",
       "      <td>4</td>\n",
       "      <td>2</td>\n",
       "      <td>2</td>\n",
       "      <td>0.500</td>\n",
       "      <td>48.0</td>\n",
       "      <td>34.5</td>\n",
       "      <td>79.5</td>\n",
       "      <td>0.434</td>\n",
       "      <td>...</td>\n",
       "      <td>26</td>\n",
       "      <td>12</td>\n",
       "      <td>22</td>\n",
       "      <td>16</td>\n",
       "      <td>17</td>\n",
       "      <td>0</td>\n",
       "      <td>2007-11-09</td>\n",
       "      <td>0.882803</td>\n",
       "      <td>0.117198</td>\n",
       "      <td>2007-11-09</td>\n",
       "    </tr>\n",
       "    <tr>\n",
       "      <th>1</th>\n",
       "      <td>1</td>\n",
       "      <td>Charlotte Bobcats</td>\n",
       "      <td>4</td>\n",
       "      <td>2</td>\n",
       "      <td>2</td>\n",
       "      <td>0.500</td>\n",
       "      <td>48.0</td>\n",
       "      <td>30.5</td>\n",
       "      <td>75.5</td>\n",
       "      <td>0.404</td>\n",
       "      <td>...</td>\n",
       "      <td>13</td>\n",
       "      <td>29</td>\n",
       "      <td>11</td>\n",
       "      <td>9</td>\n",
       "      <td>16</td>\n",
       "      <td>1</td>\n",
       "      <td>2007-11-09</td>\n",
       "      <td>0.287085</td>\n",
       "      <td>0.712915</td>\n",
       "      <td>2007-11-09</td>\n",
       "    </tr>\n",
       "    <tr>\n",
       "      <th>2</th>\n",
       "      <td>2</td>\n",
       "      <td>Boston Celtics</td>\n",
       "      <td>3</td>\n",
       "      <td>3</td>\n",
       "      <td>0</td>\n",
       "      <td>1.000</td>\n",
       "      <td>49.7</td>\n",
       "      <td>40.7</td>\n",
       "      <td>78.0</td>\n",
       "      <td>0.521</td>\n",
       "      <td>...</td>\n",
       "      <td>30</td>\n",
       "      <td>9</td>\n",
       "      <td>19</td>\n",
       "      <td>21</td>\n",
       "      <td>14</td>\n",
       "      <td>1</td>\n",
       "      <td>2007-11-09</td>\n",
       "      <td>0.929955</td>\n",
       "      <td>0.070045</td>\n",
       "      <td>2007-11-09</td>\n",
       "    </tr>\n",
       "    <tr>\n",
       "      <th>3</th>\n",
       "      <td>3</td>\n",
       "      <td>New York Knicks</td>\n",
       "      <td>3</td>\n",
       "      <td>2</td>\n",
       "      <td>1</td>\n",
       "      <td>0.667</td>\n",
       "      <td>48.0</td>\n",
       "      <td>40.3</td>\n",
       "      <td>82.3</td>\n",
       "      <td>0.490</td>\n",
       "      <td>...</td>\n",
       "      <td>7</td>\n",
       "      <td>6</td>\n",
       "      <td>6</td>\n",
       "      <td>13</td>\n",
       "      <td>9</td>\n",
       "      <td>0</td>\n",
       "      <td>2007-11-09</td>\n",
       "      <td>0.332229</td>\n",
       "      <td>0.667771</td>\n",
       "      <td>2007-11-09</td>\n",
       "    </tr>\n",
       "    <tr>\n",
       "      <th>4</th>\n",
       "      <td>4</td>\n",
       "      <td>Miami Heat</td>\n",
       "      <td>4</td>\n",
       "      <td>0</td>\n",
       "      <td>4</td>\n",
       "      <td>0.000</td>\n",
       "      <td>48.0</td>\n",
       "      <td>33.3</td>\n",
       "      <td>79.5</td>\n",
       "      <td>0.418</td>\n",
       "      <td>...</td>\n",
       "      <td>9</td>\n",
       "      <td>1</td>\n",
       "      <td>21</td>\n",
       "      <td>10</td>\n",
       "      <td>11</td>\n",
       "      <td>0</td>\n",
       "      <td>2007-11-09</td>\n",
       "      <td>0.217731</td>\n",
       "      <td>0.782269</td>\n",
       "      <td>2007-11-09</td>\n",
       "    </tr>\n",
       "  </tbody>\n",
       "</table>\n",
       "<p>5 rows × 113 columns</p>\n",
       "</div>"
      ],
      "text/plain": [
       "   Unnamed: 0           TEAM_NAME  GP  W  L  W_PCT   MIN   FGM   FGA  FG_PCT  \\\n",
       "0           0  Philadelphia 76ers   4  2  2  0.500  48.0  34.5  79.5   0.434   \n",
       "1           1   Charlotte Bobcats   4  2  2  0.500  48.0  30.5  75.5   0.404   \n",
       "2           2      Boston Celtics   3  3  0  1.000  49.7  40.7  78.0   0.521   \n",
       "3           3     New York Knicks   3  2  1  0.667  48.0  40.3  82.3   0.490   \n",
       "4           4          Miami Heat   4  0  4  0.000  48.0  33.3  79.5   0.418   \n",
       "\n",
       "   ...  BLKA_RANK.1  PF_RANK.1  PFD_RANK.1  PTS_RANK.1  PLUS_MINUS_RANK.1  \\\n",
       "0  ...           26         12          22          16                 17   \n",
       "1  ...           13         29          11           9                 16   \n",
       "2  ...           30          9          19          21                 14   \n",
       "3  ...            7          6           6          13                  9   \n",
       "4  ...            9          1          21          10                 11   \n",
       "\n",
       "   Home-Team-Win        date  winprob_home  winprob_away    datetime  \n",
       "0              0  2007-11-09      0.882803      0.117198  2007-11-09  \n",
       "1              1  2007-11-09      0.287085      0.712915  2007-11-09  \n",
       "2              1  2007-11-09      0.929955      0.070045  2007-11-09  \n",
       "3              0  2007-11-09      0.332229      0.667771  2007-11-09  \n",
       "4              0  2007-11-09      0.217731      0.782269  2007-11-09  \n",
       "\n",
       "[5 rows x 113 columns]"
      ]
     },
     "execution_count": 42,
     "metadata": {},
     "output_type": "execute_result"
    }
   ],
   "source": [
    "pre_f.head()"
   ]
  },
  {
   "cell_type": "code",
   "execution_count": 43,
   "metadata": {
    "ExecuteTime": {
     "end_time": "2022-04-05T21:00:31.084181Z",
     "start_time": "2022-04-05T21:00:31.070187Z"
    }
   },
   "outputs": [],
   "source": [
    "pre_f.rename(columns={\"winprob_away\": \"home_predict_winprob\",\n",
    "                   \"winprob_home\": \"away_predict_winprob\",\n",
    "                   \"TEAM_NAME\": \"home_team\",\n",
    "                   \"TEAM_NAME.1\": \"away_team\"}, inplace=True)"
   ]
  },
  {
   "cell_type": "code",
   "execution_count": 44,
   "metadata": {
    "ExecuteTime": {
     "end_time": "2022-04-05T21:00:31.600888Z",
     "start_time": "2022-04-05T21:00:31.581896Z"
    }
   },
   "outputs": [
    {
     "data": {
      "text/plain": [
       "Index(['AwayTeam', 'HomeTeam', 'HomeTeamHasWon', 'ConsensusHomeMoneyLine',\n",
       "       'ConsensusAwayMoneyLine'],\n",
       "      dtype='object')"
      ]
     },
     "execution_count": 44,
     "metadata": {},
     "output_type": "execute_result"
    }
   ],
   "source": [
    "odds_f_sub.columns"
   ]
  },
  {
   "cell_type": "code",
   "execution_count": 45,
   "metadata": {
    "ExecuteTime": {
     "end_time": "2022-04-05T21:00:31.958789Z",
     "start_time": "2022-04-05T21:00:31.946789Z"
    }
   },
   "outputs": [],
   "source": [
    "odds_f_sub.rename(columns = {\n",
    "    'AwayTeam':'away_team',\n",
    "    'HomeTeam':'home_team',\n",
    "    'HomeTeamHasWon':'home_win',\n",
    "    'ConsensusHomeMoneyLine': 'money_line_home',\n",
    "    'ConsensusAwayMoneyLine': 'money_line_away'\n",
    "}, inplace=True)"
   ]
  },
  {
   "cell_type": "code",
   "execution_count": 46,
   "metadata": {
    "ExecuteTime": {
     "end_time": "2022-04-05T21:00:32.305370Z",
     "start_time": "2022-04-05T21:00:32.278383Z"
    }
   },
   "outputs": [
    {
     "data": {
      "text/html": [
       "<div>\n",
       "<style scoped>\n",
       "    .dataframe tbody tr th:only-of-type {\n",
       "        vertical-align: middle;\n",
       "    }\n",
       "\n",
       "    .dataframe tbody tr th {\n",
       "        vertical-align: top;\n",
       "    }\n",
       "\n",
       "    .dataframe thead th {\n",
       "        text-align: right;\n",
       "    }\n",
       "</style>\n",
       "<table border=\"1\" class=\"dataframe\">\n",
       "  <thead>\n",
       "    <tr style=\"text-align: right;\">\n",
       "      <th></th>\n",
       "      <th>away_team</th>\n",
       "      <th>home_team</th>\n",
       "      <th>home_win</th>\n",
       "      <th>money_line_home</th>\n",
       "      <th>money_line_away</th>\n",
       "    </tr>\n",
       "    <tr>\n",
       "      <th>datetime</th>\n",
       "      <th></th>\n",
       "      <th></th>\n",
       "      <th></th>\n",
       "      <th></th>\n",
       "      <th></th>\n",
       "    </tr>\n",
       "  </thead>\n",
       "  <tbody>\n",
       "    <tr>\n",
       "      <th>2019-01-02</th>\n",
       "      <td>ORL</td>\n",
       "      <td>CHI</td>\n",
       "      <td>False</td>\n",
       "      <td>102.0</td>\n",
       "      <td>-112.0</td>\n",
       "    </tr>\n",
       "    <tr>\n",
       "      <th>2019-01-02</th>\n",
       "      <td>OKC</td>\n",
       "      <td>LAL</td>\n",
       "      <td>False</td>\n",
       "      <td>190.0</td>\n",
       "      <td>-210.0</td>\n",
       "    </tr>\n",
       "    <tr>\n",
       "      <th>2019-01-02</th>\n",
       "      <td>PHI</td>\n",
       "      <td>PHO</td>\n",
       "      <td>False</td>\n",
       "      <td>150.0</td>\n",
       "      <td>-160.0</td>\n",
       "    </tr>\n",
       "    <tr>\n",
       "      <th>2019-01-02</th>\n",
       "      <td>DET</td>\n",
       "      <td>MEM</td>\n",
       "      <td>False</td>\n",
       "      <td>-240.0</td>\n",
       "      <td>220.0</td>\n",
       "    </tr>\n",
       "    <tr>\n",
       "      <th>2019-01-02</th>\n",
       "      <td>MIN</td>\n",
       "      <td>BOS</td>\n",
       "      <td>True</td>\n",
       "      <td>-250.0</td>\n",
       "      <td>230.0</td>\n",
       "    </tr>\n",
       "  </tbody>\n",
       "</table>\n",
       "</div>"
      ],
      "text/plain": [
       "           away_team home_team  home_win  money_line_home  money_line_away\n",
       "datetime                                                                  \n",
       "2019-01-02       ORL       CHI     False            102.0           -112.0\n",
       "2019-01-02       OKC       LAL     False            190.0           -210.0\n",
       "2019-01-02       PHI       PHO     False            150.0           -160.0\n",
       "2019-01-02       DET       MEM     False           -240.0            220.0\n",
       "2019-01-02       MIN       BOS      True           -250.0            230.0"
      ]
     },
     "execution_count": 46,
     "metadata": {},
     "output_type": "execute_result"
    }
   ],
   "source": [
    "odds_f_sub.head()"
   ]
  },
  {
   "cell_type": "code",
   "execution_count": 47,
   "metadata": {
    "ExecuteTime": {
     "end_time": "2022-04-05T21:00:32.649769Z",
     "start_time": "2022-04-05T21:00:32.637774Z"
    }
   },
   "outputs": [
    {
     "data": {
      "text/plain": [
       "array(['ORL', 'OKC', 'PHI', 'DET', 'MIN', 'NO', 'DAL', 'ATL', 'MIA',\n",
       "       'HOU', 'DEN', 'TOR', 'UTA', 'IND', 'WAS', 'BKN', 'LAC', 'NY', 'GS',\n",
       "       'CHA', 'MEM', 'LAL', 'SA', 'SAC', 'CLE', 'MIL', 'CHI', 'PHO',\n",
       "       'BOS', 'POR'], dtype=object)"
      ]
     },
     "execution_count": 47,
     "metadata": {},
     "output_type": "execute_result"
    }
   ],
   "source": [
    "odds_f_sub[\"away_team\"].unique()"
   ]
  },
  {
   "cell_type": "code",
   "execution_count": 48,
   "metadata": {
    "ExecuteTime": {
     "end_time": "2022-04-05T21:00:32.981245Z",
     "start_time": "2022-04-05T21:00:32.968116Z"
    }
   },
   "outputs": [
    {
     "data": {
      "text/plain": [
       "array(['Toronto Raptors', 'Indiana Pacers', 'Atlanta Hawks',\n",
       "       'Orlando Magic', 'Phoenix Suns', 'Denver Nuggets',\n",
       "       'Los Angeles Clippers', 'San Antonio Spurs', 'Milwaukee Bucks',\n",
       "       'Memphis Grizzlies', 'Minnesota Timberwolves',\n",
       "       'Cleveland Cavaliers', 'Utah Jazz', 'Boston Celtics',\n",
       "       'Dallas Mavericks', 'Washington Wizards', 'Miami Heat',\n",
       "       'New Orleans Hornets', 'Houston Rockets', 'Detroit Pistons',\n",
       "       'Sacramento Kings', 'Seattle SuperSonics', 'Philadelphia 76ers',\n",
       "       'Los Angeles Lakers', 'New York Knicks', 'Charlotte Bobcats',\n",
       "       'New Jersey Nets', 'Portland Trail Blazers', 'Chicago Bulls',\n",
       "       'Golden State Warriors', 'Oklahoma City Thunder', 'Brooklyn Nets',\n",
       "       'New Orleans Pelicans', 'Charlotte Hornets', 'LA Clippers'],\n",
       "      dtype=object)"
      ]
     },
     "execution_count": 48,
     "metadata": {},
     "output_type": "execute_result"
    }
   ],
   "source": [
    "pre_f[\"away_team\"].unique()"
   ]
  },
  {
   "cell_type": "code",
   "execution_count": 49,
   "metadata": {
    "ExecuteTime": {
     "end_time": "2022-04-05T21:00:33.311355Z",
     "start_time": "2022-04-05T21:00:33.301360Z"
    }
   },
   "outputs": [
    {
     "name": "stdout",
     "output_type": "stream",
     "text": [
      "ORL\n",
      "OKC\n",
      "PHI\n",
      "DET\n",
      "MIN\n",
      "NO\n",
      "DAL\n",
      "ATL\n",
      "MIA\n",
      "HOU\n",
      "DEN\n",
      "TOR\n",
      "UTA\n",
      "IND\n",
      "WAS\n",
      "BKN\n",
      "LAC\n",
      "NY\n",
      "GS\n",
      "CHA\n",
      "MEM\n",
      "LAL\n",
      "SA\n",
      "SAC\n",
      "CLE\n",
      "MIL\n",
      "CHI\n",
      "PHO\n",
      "BOS\n",
      "POR\n"
     ]
    }
   ],
   "source": [
    "for x in odds_f_sub[\"away_team\"].unique():\n",
    "    if x not in TEAM_NAME_MAPPING.keys():\n",
    "        print(x)"
   ]
  },
  {
   "cell_type": "code",
   "execution_count": 50,
   "metadata": {
    "ExecuteTime": {
     "end_time": "2022-04-05T21:00:33.949819Z",
     "start_time": "2022-04-05T21:00:33.909838Z"
    }
   },
   "outputs": [
    {
     "name": "stdout",
     "output_type": "stream",
     "text": [
      "\n"
     ]
    },
    {
     "ename": "NameError",
     "evalue": "name 'new_dict' is not defined",
     "output_type": "error",
     "traceback": [
      "\u001b[1;31m---------------------------------------------------------------------------\u001b[0m",
      "\u001b[1;31mNameError\u001b[0m                                 Traceback (most recent call last)",
      "Input \u001b[1;32mIn [50]\u001b[0m, in \u001b[0;36m<cell line: 3>\u001b[1;34m()\u001b[0m\n\u001b[0;32m      2\u001b[0m TEAM_NAME_MAPPING_REVERT \u001b[38;5;241m=\u001b[39m {}\n\u001b[0;32m      3\u001b[0m \u001b[38;5;28;01mfor\u001b[39;00m key, value \u001b[38;5;129;01min\u001b[39;00m TEAM_NAME_MAPPING\u001b[38;5;241m.\u001b[39mitems():\n\u001b[1;32m----> 4\u001b[0m    \u001b[38;5;28;01mif\u001b[39;00m value \u001b[38;5;129;01min\u001b[39;00m \u001b[43mnew_dict\u001b[49m:\n\u001b[0;32m      5\u001b[0m        TEAM_NAME_MAPPING_REVERT[value] \u001b[38;5;241m=\u001b[39m key\n\u001b[0;32m      6\u001b[0m    \u001b[38;5;28;01melse\u001b[39;00m:\n",
      "\u001b[1;31mNameError\u001b[0m: name 'new_dict' is not defined"
     ]
    }
   ],
   "source": [
    "print()\n",
    "TEAM_NAME_MAPPING_REVERT = {}\n",
    "for key, value in TEAM_NAME_MAPPING.items():\n",
    "   if value in new_dict:\n",
    "       TEAM_NAME_MAPPING_REVERT[value] = key\n",
    "   else:\n",
    "       TEAM_NAME_MAPPING_REVERT[value]=key\n",
    "  "
   ]
  },
  {
   "cell_type": "code",
   "execution_count": 51,
   "metadata": {
    "ExecuteTime": {
     "end_time": "2022-04-05T21:00:34.323167Z",
     "start_time": "2022-04-05T21:00:34.311172Z"
    }
   },
   "outputs": [],
   "source": [
    "TEAM_NAME_MAPPING = {\n",
    " 'Atlanta Hawks': 'ATL',\n",
    " 'Brooklyn Nets': 'BKN',\n",
    " 'Boston Celtics': 'BOS',\n",
    " 'Charlotte Hornets': 'CHA',\n",
    " 'Chicago Bulls': 'CHI',\n",
    " 'Cleveland Cavaliers': 'CLE',\n",
    " 'Dallas Mavericks': 'DAL',\n",
    " 'Denver Nuggets': 'DEN',\n",
    " 'Detroit Pistons': 'DET',\n",
    " 'Golden State Warriors': 'GS',\n",
    " 'Houston Rockets': 'HOU',\n",
    " 'Indiana Pacers': 'IND',\n",
    " 'Los Angeles Clippers': 'LAC',\n",
    " 'Los Angeles Lakers': 'LAL',\n",
    " 'Memphis Grizzlies': 'MEM',\n",
    " 'Miami Heat': 'MIA',\n",
    " 'Milwaukee Bucks': 'MIL',\n",
    " 'Minnesota Timberwolves': 'MIN',\n",
    " 'New Orleans Pelicans': 'NO',\n",
    " 'New York Knicks': 'NY',\n",
    " 'Oklahoma City Thunder': 'OKC',\n",
    " 'Orlando Magic': 'ORL',\n",
    " 'Philadelphia 76ers': 'PHI',\n",
    " 'Phoenix Suns': 'PHO',\n",
    " 'Portland Trail Blazers': 'POR',\n",
    " 'Sacramento Kings': 'SAC',\n",
    " 'San Antonio Spurs': 'SA',\n",
    " 'Toronto Raptors': 'TOR',\n",
    " 'Utah Jazz': 'UTA',\n",
    " 'Washington Wizards': 'WAS',\n",
    " 'New Jersey Nets': 'NKN',\n",
    " 'Seattle SuperSonics': 'SS',\n",
    " 'Charlotte Bobcats': 'CB',\n",
    " 'New Orleans Hornets': 'NOH',\n",
    " 'LA Clippers': 'LC',\n",
    "}"
   ]
  },
  {
   "cell_type": "code",
   "execution_count": 52,
   "metadata": {
    "ExecuteTime": {
     "end_time": "2022-04-05T21:00:34.645888Z",
     "start_time": "2022-04-05T21:00:34.634839Z"
    }
   },
   "outputs": [
    {
     "data": {
      "text/plain": [
       "35"
      ]
     },
     "execution_count": 52,
     "metadata": {},
     "output_type": "execute_result"
    }
   ],
   "source": [
    "len(pre_f[\"away_team\"].unique())"
   ]
  },
  {
   "cell_type": "code",
   "execution_count": 53,
   "metadata": {
    "ExecuteTime": {
     "end_time": "2022-04-05T21:00:34.971825Z",
     "start_time": "2022-04-05T21:00:34.957830Z"
    }
   },
   "outputs": [],
   "source": [
    "pre_f[\"away_team\"] = pre_f[\"away_team\"].apply(lambda x: TEAM_NAME_MAPPING[x])\n",
    "pre_f[\"home_team\"] = pre_f[\"home_team\"].apply(lambda x: TEAM_NAME_MAPPING[x])"
   ]
  },
  {
   "cell_type": "code",
   "execution_count": 54,
   "metadata": {
    "ExecuteTime": {
     "end_time": "2022-04-05T21:00:35.313303Z",
     "start_time": "2022-04-05T21:00:35.302309Z"
    }
   },
   "outputs": [
    {
     "data": {
      "text/plain": [
       "array(['TOR', 'IND', 'ATL', 'ORL', 'PHO', 'DEN', 'LAC', 'SA', 'MIL',\n",
       "       'MEM', 'MIN', 'CLE', 'UTA', 'BOS', 'DAL', 'WAS', 'MIA', 'NOH',\n",
       "       'HOU', 'DET', 'SAC', 'SS', 'PHI', 'LAL', 'NY', 'CB', 'NKN', 'POR',\n",
       "       'CHI', 'GS', 'OKC', 'BKN', 'NO', 'CHA', 'LC'], dtype=object)"
      ]
     },
     "execution_count": 54,
     "metadata": {},
     "output_type": "execute_result"
    }
   ],
   "source": [
    "pre_f[\"away_team\"].unique()"
   ]
  },
  {
   "cell_type": "code",
   "execution_count": 55,
   "metadata": {
    "ExecuteTime": {
     "end_time": "2022-04-05T21:00:35.653277Z",
     "start_time": "2022-04-05T21:00:35.623291Z"
    }
   },
   "outputs": [
    {
     "data": {
      "text/html": [
       "<div>\n",
       "<style scoped>\n",
       "    .dataframe tbody tr th:only-of-type {\n",
       "        vertical-align: middle;\n",
       "    }\n",
       "\n",
       "    .dataframe tbody tr th {\n",
       "        vertical-align: top;\n",
       "    }\n",
       "\n",
       "    .dataframe thead th {\n",
       "        text-align: right;\n",
       "    }\n",
       "</style>\n",
       "<table border=\"1\" class=\"dataframe\">\n",
       "  <thead>\n",
       "    <tr style=\"text-align: right;\">\n",
       "      <th></th>\n",
       "      <th>away_team</th>\n",
       "      <th>home_team</th>\n",
       "      <th>home_win</th>\n",
       "      <th>money_line_home</th>\n",
       "      <th>money_line_away</th>\n",
       "    </tr>\n",
       "    <tr>\n",
       "      <th>datetime</th>\n",
       "      <th></th>\n",
       "      <th></th>\n",
       "      <th></th>\n",
       "      <th></th>\n",
       "      <th></th>\n",
       "    </tr>\n",
       "  </thead>\n",
       "  <tbody>\n",
       "    <tr>\n",
       "      <th>2019-01-02</th>\n",
       "      <td>ORL</td>\n",
       "      <td>CHI</td>\n",
       "      <td>False</td>\n",
       "      <td>102.0</td>\n",
       "      <td>-112.0</td>\n",
       "    </tr>\n",
       "    <tr>\n",
       "      <th>2019-01-02</th>\n",
       "      <td>OKC</td>\n",
       "      <td>LAL</td>\n",
       "      <td>False</td>\n",
       "      <td>190.0</td>\n",
       "      <td>-210.0</td>\n",
       "    </tr>\n",
       "    <tr>\n",
       "      <th>2019-01-02</th>\n",
       "      <td>PHI</td>\n",
       "      <td>PHO</td>\n",
       "      <td>False</td>\n",
       "      <td>150.0</td>\n",
       "      <td>-160.0</td>\n",
       "    </tr>\n",
       "    <tr>\n",
       "      <th>2019-01-02</th>\n",
       "      <td>DET</td>\n",
       "      <td>MEM</td>\n",
       "      <td>False</td>\n",
       "      <td>-240.0</td>\n",
       "      <td>220.0</td>\n",
       "    </tr>\n",
       "    <tr>\n",
       "      <th>2019-01-02</th>\n",
       "      <td>MIN</td>\n",
       "      <td>BOS</td>\n",
       "      <td>True</td>\n",
       "      <td>-250.0</td>\n",
       "      <td>230.0</td>\n",
       "    </tr>\n",
       "    <tr>\n",
       "      <th>...</th>\n",
       "      <td>...</td>\n",
       "      <td>...</td>\n",
       "      <td>...</td>\n",
       "      <td>...</td>\n",
       "      <td>...</td>\n",
       "    </tr>\n",
       "    <tr>\n",
       "      <th>2022-03-27</th>\n",
       "      <td>PHI</td>\n",
       "      <td>PHO</td>\n",
       "      <td>True</td>\n",
       "      <td>-185.0</td>\n",
       "      <td>152.0</td>\n",
       "    </tr>\n",
       "    <tr>\n",
       "      <th>2022-03-27</th>\n",
       "      <td>GS</td>\n",
       "      <td>WAS</td>\n",
       "      <td>True</td>\n",
       "      <td>226.0</td>\n",
       "      <td>-281.0</td>\n",
       "    </tr>\n",
       "    <tr>\n",
       "      <th>2022-03-27</th>\n",
       "      <td>LAL</td>\n",
       "      <td>NO</td>\n",
       "      <td>True</td>\n",
       "      <td>-173.0</td>\n",
       "      <td>143.0</td>\n",
       "    </tr>\n",
       "    <tr>\n",
       "      <th>2022-03-27</th>\n",
       "      <td>UTA</td>\n",
       "      <td>DAL</td>\n",
       "      <td>True</td>\n",
       "      <td>-168.0</td>\n",
       "      <td>139.0</td>\n",
       "    </tr>\n",
       "    <tr>\n",
       "      <th>2022-03-27</th>\n",
       "      <td>CHA</td>\n",
       "      <td>BKN</td>\n",
       "      <td>False</td>\n",
       "      <td>-270.0</td>\n",
       "      <td>217.0</td>\n",
       "    </tr>\n",
       "  </tbody>\n",
       "</table>\n",
       "<p>4317 rows × 5 columns</p>\n",
       "</div>"
      ],
      "text/plain": [
       "           away_team home_team  home_win  money_line_home  money_line_away\n",
       "datetime                                                                  \n",
       "2019-01-02       ORL       CHI     False            102.0           -112.0\n",
       "2019-01-02       OKC       LAL     False            190.0           -210.0\n",
       "2019-01-02       PHI       PHO     False            150.0           -160.0\n",
       "2019-01-02       DET       MEM     False           -240.0            220.0\n",
       "2019-01-02       MIN       BOS      True           -250.0            230.0\n",
       "...              ...       ...       ...              ...              ...\n",
       "2022-03-27       PHI       PHO      True           -185.0            152.0\n",
       "2022-03-27        GS       WAS      True            226.0           -281.0\n",
       "2022-03-27       LAL        NO      True           -173.0            143.0\n",
       "2022-03-27       UTA       DAL      True           -168.0            139.0\n",
       "2022-03-27       CHA       BKN     False           -270.0            217.0\n",
       "\n",
       "[4317 rows x 5 columns]"
      ]
     },
     "execution_count": 55,
     "metadata": {},
     "output_type": "execute_result"
    }
   ],
   "source": [
    "odds_f_sub"
   ]
  },
  {
   "cell_type": "code",
   "execution_count": 56,
   "metadata": {
    "ExecuteTime": {
     "end_time": "2022-04-05T21:00:36.052898Z",
     "start_time": "2022-04-05T21:00:35.962939Z"
    }
   },
   "outputs": [],
   "source": [
    "odds_f_sub.loc[:, \"key\"] = odds_f_sub.index.astype(str) + odds_f_sub[\"home_team\"] + odds_f_sub[\"away_team\"]\n",
    "pre_f.loc[:, \"key\"] = pre_f[\"datetime\"].astype(str) + pre_f[\"home_team\"] + pre_f[\"away_team\"]"
   ]
  },
  {
   "cell_type": "code",
   "execution_count": 57,
   "metadata": {
    "ExecuteTime": {
     "end_time": "2022-04-05T21:00:36.378972Z",
     "start_time": "2022-04-05T21:00:36.369361Z"
    }
   },
   "outputs": [],
   "source": [
    "odds_f_sub.set_index(\"key\", inplace = True)\n",
    "pre_f.set_index(\"key\", inplace = True)"
   ]
  },
  {
   "cell_type": "code",
   "execution_count": 58,
   "metadata": {
    "ExecuteTime": {
     "end_time": "2022-04-05T21:00:36.934779Z",
     "start_time": "2022-04-05T21:00:36.689895Z"
    }
   },
   "outputs": [],
   "source": [
    "odds_f_sub.merge(pre_f, left_index=True, right_index=True, how='inner').to_csv(\"data.csv\")"
   ]
  },
  {
   "cell_type": "code",
   "execution_count": 59,
   "metadata": {
    "ExecuteTime": {
     "end_time": "2022-04-05T21:00:37.259793Z",
     "start_time": "2022-04-05T21:00:37.246792Z"
    }
   },
   "outputs": [],
   "source": [
    "combine_f = odds_f_sub.merge(pre_f, left_index=True, right_index=True, how='inner')"
   ]
  },
  {
   "cell_type": "code",
   "execution_count": 60,
   "metadata": {
    "ExecuteTime": {
     "end_time": "2022-04-05T21:00:37.583800Z",
     "start_time": "2022-04-05T21:00:37.572805Z"
    }
   },
   "outputs": [
    {
     "data": {
      "text/plain": [
       "True"
      ]
     },
     "execution_count": 60,
     "metadata": {},
     "output_type": "execute_result"
    }
   ],
   "source": [
    "(combine_f.home_team_x == combine_f.home_team_y).all()"
   ]
  },
  {
   "cell_type": "code",
   "execution_count": null,
   "metadata": {},
   "outputs": [],
   "source": []
  }
 ],
 "metadata": {
  "hide_input": false,
  "kernelspec": {
   "display_name": "Python [conda env:nba_bet_machine_learning]",
   "language": "python",
   "name": "conda-env-nba_bet_machine_learning-py"
  },
  "language_info": {
   "codemirror_mode": {
    "name": "ipython",
    "version": 3
   },
   "file_extension": ".py",
   "mimetype": "text/x-python",
   "name": "python",
   "nbconvert_exporter": "python",
   "pygments_lexer": "ipython3",
   "version": "3.8.13"
  },
  "toc": {
   "base_numbering": 1,
   "nav_menu": {},
   "number_sections": true,
   "sideBar": true,
   "skip_h1_title": false,
   "title_cell": "Table of Contents",
   "title_sidebar": "Contents",
   "toc_cell": false,
   "toc_position": {},
   "toc_section_display": true,
   "toc_window_display": false
  },
  "varInspector": {
   "cols": {
    "lenName": 16,
    "lenType": 16,
    "lenVar": 40
   },
   "kernels_config": {
    "python": {
     "delete_cmd_postfix": "",
     "delete_cmd_prefix": "del ",
     "library": "var_list.py",
     "varRefreshCmd": "print(var_dic_list())"
    },
    "r": {
     "delete_cmd_postfix": ") ",
     "delete_cmd_prefix": "rm(",
     "library": "var_list.r",
     "varRefreshCmd": "cat(var_dic_list()) "
    }
   },
   "types_to_exclude": [
    "module",
    "function",
    "builtin_function_or_method",
    "instance",
    "_Feature"
   ],
   "window_display": false
  }
 },
 "nbformat": 4,
 "nbformat_minor": 2
}
