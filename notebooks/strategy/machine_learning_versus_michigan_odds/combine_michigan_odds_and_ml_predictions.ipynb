{
 "cells": [
  {
   "cell_type": "code",
   "execution_count": 44,
   "metadata": {
    "ExecuteTime": {
     "end_time": "2022-04-01T02:03:45.020122Z",
     "start_time": "2022-04-01T02:03:45.007014Z"
    }
   },
   "outputs": [],
   "source": [
    "import pandas as pd\n",
    "from datetime import datetime, timedelta\n",
    "import numpy as np"
   ]
  },
  {
   "cell_type": "code",
   "execution_count": 45,
   "metadata": {
    "ExecuteTime": {
     "end_time": "2022-04-01T02:03:45.576688Z",
     "start_time": "2022-04-01T02:03:45.487067Z"
    }
   },
   "outputs": [],
   "source": [
    "odds_f = pd.read_csv(r\"D:\\project\\nba_crawler\\data\\odds\\bettingdata_com\\processed\\bettingdata_odds.csv\", parse_dates=[\"datetime\"], index_col=\"datetime\")"
   ]
  },
  {
   "cell_type": "code",
   "execution_count": 46,
   "metadata": {
    "ExecuteTime": {
     "end_time": "2022-04-01T02:03:46.122913Z",
     "start_time": "2022-04-01T02:03:45.926019Z"
    }
   },
   "outputs": [],
   "source": [
    "pre_f = pd.read_csv(r\"D:\\project\\nba_crawler\\data\\predictions\\machine_learning\\predictions.csv\")"
   ]
  },
  {
   "cell_type": "code",
   "execution_count": 47,
   "metadata": {
    "ExecuteTime": {
     "end_time": "2022-04-01T02:03:46.974411Z",
     "start_time": "2022-04-01T02:03:46.959759Z"
    }
   },
   "outputs": [
    {
     "data": {
      "text/plain": [
       "Index(['Season', 'Type', 'DayString', 'TimeString', 'DayOfWeek',\n",
       "       'DateTimeString', 'LastUpdated', 'Status', 'AwayTeam', 'AwayTeamScore',\n",
       "       ...\n",
       "       'BarstoolAwayPointSpread', 'BarstoolHomePointSpreadPayout',\n",
       "       'BarstoolAwayPointSpreadPayout', 'BarstoolOverUnder',\n",
       "       'BarstoolOverPayout', 'BarstoolUnderPayout', 'BarstoolHomeTeamTotal',\n",
       "       'BarstoolAwayTeamTotal', 'BarstoolHomeTeamTotalPayout',\n",
       "       'BarstoolAwayTeamTotalPayout'],\n",
       "      dtype='object', length=143)"
      ]
     },
     "execution_count": 47,
     "metadata": {},
     "output_type": "execute_result"
    }
   ],
   "source": [
    "odds_f.columns"
   ]
  },
  {
   "cell_type": "code",
   "execution_count": 48,
   "metadata": {
    "ExecuteTime": {
     "end_time": "2022-04-01T02:03:47.316165Z",
     "start_time": "2022-04-01T02:03:47.302384Z"
    }
   },
   "outputs": [
    {
     "data": {
      "text/plain": [
       "Index(['Date', 'winprob_1', 'winprob_2', 'TEAM_NAME', 'TEAM_NAME.1', 'GP', 'W',\n",
       "       'L', 'W_PCT', 'MIN',\n",
       "       ...\n",
       "       'BLK_RANK.1', 'BLKA_RANK.1', 'PF_RANK.1', 'PFD_RANK.1', 'PTS_RANK.1',\n",
       "       'PLUS_MINUS_RANK.1', 'Score', 'Home-Team-Win', 'OU', 'OU-Cover'],\n",
       "      dtype='object', length=113)"
      ]
     },
     "execution_count": 48,
     "metadata": {},
     "output_type": "execute_result"
    }
   ],
   "source": [
    "pre_f.columns"
   ]
  },
  {
   "cell_type": "code",
   "execution_count": 49,
   "metadata": {
    "ExecuteTime": {
     "end_time": "2022-04-01T02:03:47.594698Z",
     "start_time": "2022-04-01T02:03:47.560243Z"
    }
   },
   "outputs": [
    {
     "data": {
      "text/html": [
       "<div>\n",
       "<style scoped>\n",
       "    .dataframe tbody tr th:only-of-type {\n",
       "        vertical-align: middle;\n",
       "    }\n",
       "\n",
       "    .dataframe tbody tr th {\n",
       "        vertical-align: top;\n",
       "    }\n",
       "\n",
       "    .dataframe thead th {\n",
       "        text-align: right;\n",
       "    }\n",
       "</style>\n",
       "<table border=\"1\" class=\"dataframe\">\n",
       "  <thead>\n",
       "    <tr style=\"text-align: right;\">\n",
       "      <th></th>\n",
       "      <th>Season</th>\n",
       "      <th>Type</th>\n",
       "      <th>DayString</th>\n",
       "      <th>TimeString</th>\n",
       "      <th>DayOfWeek</th>\n",
       "      <th>DateTimeString</th>\n",
       "      <th>LastUpdated</th>\n",
       "      <th>Status</th>\n",
       "      <th>AwayTeam</th>\n",
       "      <th>AwayTeamScore</th>\n",
       "      <th>...</th>\n",
       "      <th>BarstoolAwayPointSpread</th>\n",
       "      <th>BarstoolHomePointSpreadPayout</th>\n",
       "      <th>BarstoolAwayPointSpreadPayout</th>\n",
       "      <th>BarstoolOverUnder</th>\n",
       "      <th>BarstoolOverPayout</th>\n",
       "      <th>BarstoolUnderPayout</th>\n",
       "      <th>BarstoolHomeTeamTotal</th>\n",
       "      <th>BarstoolAwayTeamTotal</th>\n",
       "      <th>BarstoolHomeTeamTotalPayout</th>\n",
       "      <th>BarstoolAwayTeamTotalPayout</th>\n",
       "    </tr>\n",
       "    <tr>\n",
       "      <th>datetime</th>\n",
       "      <th></th>\n",
       "      <th></th>\n",
       "      <th></th>\n",
       "      <th></th>\n",
       "      <th></th>\n",
       "      <th></th>\n",
       "      <th></th>\n",
       "      <th></th>\n",
       "      <th></th>\n",
       "      <th></th>\n",
       "      <th></th>\n",
       "      <th></th>\n",
       "      <th></th>\n",
       "      <th></th>\n",
       "      <th></th>\n",
       "      <th></th>\n",
       "      <th></th>\n",
       "      <th></th>\n",
       "      <th></th>\n",
       "      <th></th>\n",
       "      <th></th>\n",
       "    </tr>\n",
       "  </thead>\n",
       "  <tbody>\n",
       "    <tr>\n",
       "      <th>2019-01-02</th>\n",
       "      <td>2019</td>\n",
       "      <td>RegularSeason</td>\n",
       "      <td>1/2/19</td>\n",
       "      <td>8:00 PM ET</td>\n",
       "      <td>Wed</td>\n",
       "      <td>1/2/19 @ 8:00 PM ET</td>\n",
       "      <td>NaN</td>\n",
       "      <td>Final</td>\n",
       "      <td>ORL</td>\n",
       "      <td>112</td>\n",
       "      <td>...</td>\n",
       "      <td>NaN</td>\n",
       "      <td>NaN</td>\n",
       "      <td>NaN</td>\n",
       "      <td>NaN</td>\n",
       "      <td>NaN</td>\n",
       "      <td>NaN</td>\n",
       "      <td>NaN</td>\n",
       "      <td>NaN</td>\n",
       "      <td>NaN</td>\n",
       "      <td>NaN</td>\n",
       "    </tr>\n",
       "    <tr>\n",
       "      <th>2019-01-02</th>\n",
       "      <td>2019</td>\n",
       "      <td>RegularSeason</td>\n",
       "      <td>1/2/19</td>\n",
       "      <td>10:30 PM ET</td>\n",
       "      <td>Wed</td>\n",
       "      <td>1/2/19 @ 10:30 PM ET</td>\n",
       "      <td>NaN</td>\n",
       "      <td>Final</td>\n",
       "      <td>OKC</td>\n",
       "      <td>107</td>\n",
       "      <td>...</td>\n",
       "      <td>NaN</td>\n",
       "      <td>NaN</td>\n",
       "      <td>NaN</td>\n",
       "      <td>NaN</td>\n",
       "      <td>NaN</td>\n",
       "      <td>NaN</td>\n",
       "      <td>NaN</td>\n",
       "      <td>NaN</td>\n",
       "      <td>NaN</td>\n",
       "      <td>NaN</td>\n",
       "    </tr>\n",
       "    <tr>\n",
       "      <th>2019-01-02</th>\n",
       "      <td>2019</td>\n",
       "      <td>RegularSeason</td>\n",
       "      <td>1/2/19</td>\n",
       "      <td>9:00 PM ET</td>\n",
       "      <td>Wed</td>\n",
       "      <td>1/2/19 @ 9:00 PM ET</td>\n",
       "      <td>NaN</td>\n",
       "      <td>Final</td>\n",
       "      <td>PHI</td>\n",
       "      <td>132</td>\n",
       "      <td>...</td>\n",
       "      <td>NaN</td>\n",
       "      <td>NaN</td>\n",
       "      <td>NaN</td>\n",
       "      <td>NaN</td>\n",
       "      <td>NaN</td>\n",
       "      <td>NaN</td>\n",
       "      <td>NaN</td>\n",
       "      <td>NaN</td>\n",
       "      <td>NaN</td>\n",
       "      <td>NaN</td>\n",
       "    </tr>\n",
       "    <tr>\n",
       "      <th>2019-01-02</th>\n",
       "      <td>2019</td>\n",
       "      <td>RegularSeason</td>\n",
       "      <td>1/2/19</td>\n",
       "      <td>8:00 PM ET</td>\n",
       "      <td>Wed</td>\n",
       "      <td>1/2/19 @ 8:00 PM ET</td>\n",
       "      <td>NaN</td>\n",
       "      <td>Final</td>\n",
       "      <td>DET</td>\n",
       "      <td>101</td>\n",
       "      <td>...</td>\n",
       "      <td>NaN</td>\n",
       "      <td>NaN</td>\n",
       "      <td>NaN</td>\n",
       "      <td>NaN</td>\n",
       "      <td>NaN</td>\n",
       "      <td>NaN</td>\n",
       "      <td>NaN</td>\n",
       "      <td>NaN</td>\n",
       "      <td>NaN</td>\n",
       "      <td>NaN</td>\n",
       "    </tr>\n",
       "    <tr>\n",
       "      <th>2019-01-02</th>\n",
       "      <td>2019</td>\n",
       "      <td>RegularSeason</td>\n",
       "      <td>1/2/19</td>\n",
       "      <td>8:00 PM ET</td>\n",
       "      <td>Wed</td>\n",
       "      <td>1/2/19 @ 8:00 PM ET</td>\n",
       "      <td>NaN</td>\n",
       "      <td>Final</td>\n",
       "      <td>MIN</td>\n",
       "      <td>102</td>\n",
       "      <td>...</td>\n",
       "      <td>NaN</td>\n",
       "      <td>NaN</td>\n",
       "      <td>NaN</td>\n",
       "      <td>NaN</td>\n",
       "      <td>NaN</td>\n",
       "      <td>NaN</td>\n",
       "      <td>NaN</td>\n",
       "      <td>NaN</td>\n",
       "      <td>NaN</td>\n",
       "      <td>NaN</td>\n",
       "    </tr>\n",
       "  </tbody>\n",
       "</table>\n",
       "<p>5 rows × 143 columns</p>\n",
       "</div>"
      ],
      "text/plain": [
       "            Season           Type DayString   TimeString DayOfWeek  \\\n",
       "datetime                                                             \n",
       "2019-01-02    2019  RegularSeason    1/2/19   8:00 PM ET       Wed   \n",
       "2019-01-02    2019  RegularSeason    1/2/19  10:30 PM ET       Wed   \n",
       "2019-01-02    2019  RegularSeason    1/2/19   9:00 PM ET       Wed   \n",
       "2019-01-02    2019  RegularSeason    1/2/19   8:00 PM ET       Wed   \n",
       "2019-01-02    2019  RegularSeason    1/2/19   8:00 PM ET       Wed   \n",
       "\n",
       "                  DateTimeString  LastUpdated Status AwayTeam  AwayTeamScore  \\\n",
       "datetime                                                                       \n",
       "2019-01-02   1/2/19 @ 8:00 PM ET          NaN  Final      ORL            112   \n",
       "2019-01-02  1/2/19 @ 10:30 PM ET          NaN  Final      OKC            107   \n",
       "2019-01-02   1/2/19 @ 9:00 PM ET          NaN  Final      PHI            132   \n",
       "2019-01-02   1/2/19 @ 8:00 PM ET          NaN  Final      DET            101   \n",
       "2019-01-02   1/2/19 @ 8:00 PM ET          NaN  Final      MIN            102   \n",
       "\n",
       "            ...  BarstoolAwayPointSpread BarstoolHomePointSpreadPayout  \\\n",
       "datetime    ...                                                          \n",
       "2019-01-02  ...                      NaN                           NaN   \n",
       "2019-01-02  ...                      NaN                           NaN   \n",
       "2019-01-02  ...                      NaN                           NaN   \n",
       "2019-01-02  ...                      NaN                           NaN   \n",
       "2019-01-02  ...                      NaN                           NaN   \n",
       "\n",
       "            BarstoolAwayPointSpreadPayout  BarstoolOverUnder  \\\n",
       "datetime                                                       \n",
       "2019-01-02                            NaN                NaN   \n",
       "2019-01-02                            NaN                NaN   \n",
       "2019-01-02                            NaN                NaN   \n",
       "2019-01-02                            NaN                NaN   \n",
       "2019-01-02                            NaN                NaN   \n",
       "\n",
       "           BarstoolOverPayout BarstoolUnderPayout  BarstoolHomeTeamTotal  \\\n",
       "datetime                                                                   \n",
       "2019-01-02                NaN                 NaN                    NaN   \n",
       "2019-01-02                NaN                 NaN                    NaN   \n",
       "2019-01-02                NaN                 NaN                    NaN   \n",
       "2019-01-02                NaN                 NaN                    NaN   \n",
       "2019-01-02                NaN                 NaN                    NaN   \n",
       "\n",
       "            BarstoolAwayTeamTotal  BarstoolHomeTeamTotalPayout  \\\n",
       "datetime                                                         \n",
       "2019-01-02                    NaN                          NaN   \n",
       "2019-01-02                    NaN                          NaN   \n",
       "2019-01-02                    NaN                          NaN   \n",
       "2019-01-02                    NaN                          NaN   \n",
       "2019-01-02                    NaN                          NaN   \n",
       "\n",
       "            BarstoolAwayTeamTotalPayout  \n",
       "datetime                                 \n",
       "2019-01-02                          NaN  \n",
       "2019-01-02                          NaN  \n",
       "2019-01-02                          NaN  \n",
       "2019-01-02                          NaN  \n",
       "2019-01-02                          NaN  \n",
       "\n",
       "[5 rows x 143 columns]"
      ]
     },
     "execution_count": 49,
     "metadata": {},
     "output_type": "execute_result"
    }
   ],
   "source": [
    "odds_f.head(5)"
   ]
  },
  {
   "cell_type": "code",
   "execution_count": 50,
   "metadata": {
    "ExecuteTime": {
     "end_time": "2022-04-01T02:03:50.051858Z",
     "start_time": "2022-04-01T02:03:50.022889Z"
    }
   },
   "outputs": [],
   "source": [
    "odds_f.drop(datetime(2019, 2, 17), axis=0, inplace=True)\n",
    "odds_f.drop(datetime(2022, 2, 20), axis=0, inplace=True)\n",
    "odds_f.drop(datetime(2020, 2, 16), axis=0, inplace=True)\n",
    "odds_f.drop(datetime(2021, 3, 7), axis=0, inplace=True)"
   ]
  },
  {
   "cell_type": "code",
   "execution_count": 52,
   "metadata": {
    "ExecuteTime": {
     "end_time": "2022-04-01T02:04:06.529602Z",
     "start_time": "2022-04-01T02:04:06.510711Z"
    }
   },
   "outputs": [],
   "source": [
    "odds_f_sub = odds_f[[\"AwayTeam\", \"HomeTeam\",\"HomeTeamHasWon\",\"ConsensusHomeMoneyLine\", \"ConsensusAwayMoneyLine\"]].copy()"
   ]
  },
  {
   "cell_type": "code",
   "execution_count": 53,
   "metadata": {
    "ExecuteTime": {
     "end_time": "2022-04-01T02:04:07.224173Z",
     "start_time": "2022-04-01T02:04:07.207631Z"
    }
   },
   "outputs": [
    {
     "data": {
      "text/html": [
       "<div>\n",
       "<style scoped>\n",
       "    .dataframe tbody tr th:only-of-type {\n",
       "        vertical-align: middle;\n",
       "    }\n",
       "\n",
       "    .dataframe tbody tr th {\n",
       "        vertical-align: top;\n",
       "    }\n",
       "\n",
       "    .dataframe thead th {\n",
       "        text-align: right;\n",
       "    }\n",
       "</style>\n",
       "<table border=\"1\" class=\"dataframe\">\n",
       "  <thead>\n",
       "    <tr style=\"text-align: right;\">\n",
       "      <th></th>\n",
       "      <th>AwayTeam</th>\n",
       "      <th>HomeTeam</th>\n",
       "      <th>HomeTeamHasWon</th>\n",
       "      <th>ConsensusHomeMoneyLine</th>\n",
       "      <th>ConsensusAwayMoneyLine</th>\n",
       "    </tr>\n",
       "    <tr>\n",
       "      <th>datetime</th>\n",
       "      <th></th>\n",
       "      <th></th>\n",
       "      <th></th>\n",
       "      <th></th>\n",
       "      <th></th>\n",
       "    </tr>\n",
       "  </thead>\n",
       "  <tbody>\n",
       "    <tr>\n",
       "      <th>2019-01-02</th>\n",
       "      <td>ORL</td>\n",
       "      <td>CHI</td>\n",
       "      <td>False</td>\n",
       "      <td>102.0</td>\n",
       "      <td>-112.0</td>\n",
       "    </tr>\n",
       "    <tr>\n",
       "      <th>2019-01-02</th>\n",
       "      <td>OKC</td>\n",
       "      <td>LAL</td>\n",
       "      <td>False</td>\n",
       "      <td>190.0</td>\n",
       "      <td>-210.0</td>\n",
       "    </tr>\n",
       "    <tr>\n",
       "      <th>2019-01-02</th>\n",
       "      <td>PHI</td>\n",
       "      <td>PHO</td>\n",
       "      <td>False</td>\n",
       "      <td>150.0</td>\n",
       "      <td>-160.0</td>\n",
       "    </tr>\n",
       "    <tr>\n",
       "      <th>2019-01-02</th>\n",
       "      <td>DET</td>\n",
       "      <td>MEM</td>\n",
       "      <td>False</td>\n",
       "      <td>-240.0</td>\n",
       "      <td>220.0</td>\n",
       "    </tr>\n",
       "    <tr>\n",
       "      <th>2019-01-02</th>\n",
       "      <td>MIN</td>\n",
       "      <td>BOS</td>\n",
       "      <td>True</td>\n",
       "      <td>-250.0</td>\n",
       "      <td>230.0</td>\n",
       "    </tr>\n",
       "  </tbody>\n",
       "</table>\n",
       "</div>"
      ],
      "text/plain": [
       "           AwayTeam HomeTeam  HomeTeamHasWon  ConsensusHomeMoneyLine  \\\n",
       "datetime                                                               \n",
       "2019-01-02      ORL      CHI           False                   102.0   \n",
       "2019-01-02      OKC      LAL           False                   190.0   \n",
       "2019-01-02      PHI      PHO           False                   150.0   \n",
       "2019-01-02      DET      MEM           False                  -240.0   \n",
       "2019-01-02      MIN      BOS            True                  -250.0   \n",
       "\n",
       "            ConsensusAwayMoneyLine  \n",
       "datetime                            \n",
       "2019-01-02                  -112.0  \n",
       "2019-01-02                  -210.0  \n",
       "2019-01-02                  -160.0  \n",
       "2019-01-02                   220.0  \n",
       "2019-01-02                   230.0  "
      ]
     },
     "execution_count": 53,
     "metadata": {},
     "output_type": "execute_result"
    }
   ],
   "source": [
    "odds_f_sub.head()"
   ]
  },
  {
   "cell_type": "code",
   "execution_count": 54,
   "metadata": {
    "ExecuteTime": {
     "end_time": "2022-04-01T02:04:07.708319Z",
     "start_time": "2022-04-01T02:04:07.687040Z"
    }
   },
   "outputs": [
    {
     "data": {
      "text/html": [
       "<div>\n",
       "<style scoped>\n",
       "    .dataframe tbody tr th:only-of-type {\n",
       "        vertical-align: middle;\n",
       "    }\n",
       "\n",
       "    .dataframe tbody tr th {\n",
       "        vertical-align: top;\n",
       "    }\n",
       "\n",
       "    .dataframe thead th {\n",
       "        text-align: right;\n",
       "    }\n",
       "</style>\n",
       "<table border=\"1\" class=\"dataframe\">\n",
       "  <thead>\n",
       "    <tr style=\"text-align: right;\">\n",
       "      <th></th>\n",
       "      <th>Date</th>\n",
       "      <th>winprob_1</th>\n",
       "      <th>winprob_2</th>\n",
       "      <th>TEAM_NAME</th>\n",
       "      <th>TEAM_NAME.1</th>\n",
       "      <th>GP</th>\n",
       "      <th>W</th>\n",
       "      <th>L</th>\n",
       "      <th>W_PCT</th>\n",
       "      <th>MIN</th>\n",
       "      <th>...</th>\n",
       "      <th>BLK_RANK.1</th>\n",
       "      <th>BLKA_RANK.1</th>\n",
       "      <th>PF_RANK.1</th>\n",
       "      <th>PFD_RANK.1</th>\n",
       "      <th>PTS_RANK.1</th>\n",
       "      <th>PLUS_MINUS_RANK.1</th>\n",
       "      <th>Score</th>\n",
       "      <th>Home-Team-Win</th>\n",
       "      <th>OU</th>\n",
       "      <th>OU-Cover</th>\n",
       "    </tr>\n",
       "  </thead>\n",
       "  <tbody>\n",
       "    <tr>\n",
       "      <th>0</th>\n",
       "      <td>11-2-2007-08</td>\n",
       "      <td>0.022820</td>\n",
       "      <td>0.977180</td>\n",
       "      <td>Charlotte Bobcats</td>\n",
       "      <td>Milwaukee Bucks</td>\n",
       "      <td>1</td>\n",
       "      <td>1</td>\n",
       "      <td>0</td>\n",
       "      <td>1.0</td>\n",
       "      <td>48.0</td>\n",
       "      <td>...</td>\n",
       "      <td>10</td>\n",
       "      <td>24</td>\n",
       "      <td>30</td>\n",
       "      <td>15</td>\n",
       "      <td>26</td>\n",
       "      <td>24</td>\n",
       "      <td>201</td>\n",
       "      <td>1</td>\n",
       "      <td>200.0</td>\n",
       "      <td>1</td>\n",
       "    </tr>\n",
       "    <tr>\n",
       "      <th>1</th>\n",
       "      <td>11-2-2007-08</td>\n",
       "      <td>0.892655</td>\n",
       "      <td>0.107345</td>\n",
       "      <td>Orlando Magic</td>\n",
       "      <td>Detroit Pistons</td>\n",
       "      <td>2</td>\n",
       "      <td>1</td>\n",
       "      <td>1</td>\n",
       "      <td>0.5</td>\n",
       "      <td>48.0</td>\n",
       "      <td>...</td>\n",
       "      <td>10</td>\n",
       "      <td>3</td>\n",
       "      <td>2</td>\n",
       "      <td>21</td>\n",
       "      <td>9</td>\n",
       "      <td>3</td>\n",
       "      <td>208</td>\n",
       "      <td>0</td>\n",
       "      <td>184.0</td>\n",
       "      <td>1</td>\n",
       "    </tr>\n",
       "    <tr>\n",
       "      <th>2</th>\n",
       "      <td>11-2-2007-08</td>\n",
       "      <td>0.010967</td>\n",
       "      <td>0.989033</td>\n",
       "      <td>Indiana Pacers</td>\n",
       "      <td>Miami Heat</td>\n",
       "      <td>2</td>\n",
       "      <td>2</td>\n",
       "      <td>0</td>\n",
       "      <td>1.0</td>\n",
       "      <td>50.5</td>\n",
       "      <td>...</td>\n",
       "      <td>7</td>\n",
       "      <td>27</td>\n",
       "      <td>2</td>\n",
       "      <td>30</td>\n",
       "      <td>30</td>\n",
       "      <td>19</td>\n",
       "      <td>172</td>\n",
       "      <td>1</td>\n",
       "      <td>186.5</td>\n",
       "      <td>0</td>\n",
       "    </tr>\n",
       "    <tr>\n",
       "      <th>3</th>\n",
       "      <td>11-2-2007-08</td>\n",
       "      <td>0.957431</td>\n",
       "      <td>0.042569</td>\n",
       "      <td>New Jersey Nets</td>\n",
       "      <td>Toronto Raptors</td>\n",
       "      <td>2</td>\n",
       "      <td>1</td>\n",
       "      <td>1</td>\n",
       "      <td>0.5</td>\n",
       "      <td>50.5</td>\n",
       "      <td>...</td>\n",
       "      <td>24</td>\n",
       "      <td>22</td>\n",
       "      <td>7</td>\n",
       "      <td>22</td>\n",
       "      <td>4</td>\n",
       "      <td>1</td>\n",
       "      <td>175</td>\n",
       "      <td>0</td>\n",
       "      <td>192.5</td>\n",
       "      <td>0</td>\n",
       "    </tr>\n",
       "    <tr>\n",
       "      <th>4</th>\n",
       "      <td>11-2-2007-08</td>\n",
       "      <td>0.165892</td>\n",
       "      <td>0.834108</td>\n",
       "      <td>Atlanta Hawks</td>\n",
       "      <td>Dallas Mavericks</td>\n",
       "      <td>1</td>\n",
       "      <td>1</td>\n",
       "      <td>0</td>\n",
       "      <td>1.0</td>\n",
       "      <td>48.0</td>\n",
       "      <td>...</td>\n",
       "      <td>3</td>\n",
       "      <td>3</td>\n",
       "      <td>10</td>\n",
       "      <td>18</td>\n",
       "      <td>24</td>\n",
       "      <td>11</td>\n",
       "      <td>195</td>\n",
       "      <td>1</td>\n",
       "      <td>192.0</td>\n",
       "      <td>1</td>\n",
       "    </tr>\n",
       "  </tbody>\n",
       "</table>\n",
       "<p>5 rows × 113 columns</p>\n",
       "</div>"
      ],
      "text/plain": [
       "           Date  winprob_1  winprob_2          TEAM_NAME       TEAM_NAME.1  \\\n",
       "0  11-2-2007-08   0.022820   0.977180  Charlotte Bobcats   Milwaukee Bucks   \n",
       "1  11-2-2007-08   0.892655   0.107345      Orlando Magic   Detroit Pistons   \n",
       "2  11-2-2007-08   0.010967   0.989033     Indiana Pacers        Miami Heat   \n",
       "3  11-2-2007-08   0.957431   0.042569    New Jersey Nets   Toronto Raptors   \n",
       "4  11-2-2007-08   0.165892   0.834108      Atlanta Hawks  Dallas Mavericks   \n",
       "\n",
       "   GP  W  L  W_PCT   MIN  ...  BLK_RANK.1  BLKA_RANK.1  PF_RANK.1  PFD_RANK.1  \\\n",
       "0   1  1  0    1.0  48.0  ...          10           24         30          15   \n",
       "1   2  1  1    0.5  48.0  ...          10            3          2          21   \n",
       "2   2  2  0    1.0  50.5  ...           7           27          2          30   \n",
       "3   2  1  1    0.5  50.5  ...          24           22          7          22   \n",
       "4   1  1  0    1.0  48.0  ...           3            3         10          18   \n",
       "\n",
       "   PTS_RANK.1  PLUS_MINUS_RANK.1  Score  Home-Team-Win     OU  OU-Cover  \n",
       "0          26                 24    201              1  200.0         1  \n",
       "1           9                  3    208              0  184.0         1  \n",
       "2          30                 19    172              1  186.5         0  \n",
       "3           4                  1    175              0  192.5         0  \n",
       "4          24                 11    195              1  192.0         1  \n",
       "\n",
       "[5 rows x 113 columns]"
      ]
     },
     "execution_count": 54,
     "metadata": {},
     "output_type": "execute_result"
    }
   ],
   "source": [
    "pre_f.head()"
   ]
  },
  {
   "cell_type": "code",
   "execution_count": 55,
   "metadata": {
    "ExecuteTime": {
     "end_time": "2022-04-01T02:04:08.197300Z",
     "start_time": "2022-04-01T02:04:08.186491Z"
    }
   },
   "outputs": [],
   "source": [
    "def get_datetime_predict_f(date_string):\n",
    "    str_list = date_string.split(\"-\")\n",
    "    month = str_list[0]\n",
    "    if len(str_list[1]) == 1:\n",
    "        day = \"0\" + str_list[1]  \n",
    "    else:\n",
    "        day = str_list[1]\n",
    "    \n",
    "    if int(month) >= 10:\n",
    "        year = str_list[2]\n",
    "    else:\n",
    "        year = int(\"20\" + str_list[3])\n",
    "    \n",
    "    return datetime(int(year), int(month), int(day))"
   ]
  },
  {
   "cell_type": "code",
   "execution_count": 56,
   "metadata": {
    "ExecuteTime": {
     "end_time": "2022-04-01T02:04:08.784092Z",
     "start_time": "2022-04-01T02:04:08.727219Z"
    }
   },
   "outputs": [],
   "source": [
    "pre_f.loc[:, \"datetime\"]  = pre_f.loc[:, \"Date\"].apply(get_datetime_predict_f)"
   ]
  },
  {
   "cell_type": "code",
   "execution_count": 57,
   "metadata": {
    "ExecuteTime": {
     "end_time": "2022-04-01T02:04:09.119774Z",
     "start_time": "2022-04-01T02:04:09.094841Z"
    }
   },
   "outputs": [
    {
     "data": {
      "text/html": [
       "<div>\n",
       "<style scoped>\n",
       "    .dataframe tbody tr th:only-of-type {\n",
       "        vertical-align: middle;\n",
       "    }\n",
       "\n",
       "    .dataframe tbody tr th {\n",
       "        vertical-align: top;\n",
       "    }\n",
       "\n",
       "    .dataframe thead th {\n",
       "        text-align: right;\n",
       "    }\n",
       "</style>\n",
       "<table border=\"1\" class=\"dataframe\">\n",
       "  <thead>\n",
       "    <tr style=\"text-align: right;\">\n",
       "      <th></th>\n",
       "      <th>Date</th>\n",
       "      <th>winprob_1</th>\n",
       "      <th>winprob_2</th>\n",
       "      <th>TEAM_NAME</th>\n",
       "      <th>TEAM_NAME.1</th>\n",
       "      <th>GP</th>\n",
       "      <th>W</th>\n",
       "      <th>L</th>\n",
       "      <th>W_PCT</th>\n",
       "      <th>MIN</th>\n",
       "      <th>...</th>\n",
       "      <th>BLKA_RANK.1</th>\n",
       "      <th>PF_RANK.1</th>\n",
       "      <th>PFD_RANK.1</th>\n",
       "      <th>PTS_RANK.1</th>\n",
       "      <th>PLUS_MINUS_RANK.1</th>\n",
       "      <th>Score</th>\n",
       "      <th>Home-Team-Win</th>\n",
       "      <th>OU</th>\n",
       "      <th>OU-Cover</th>\n",
       "      <th>datetime</th>\n",
       "    </tr>\n",
       "  </thead>\n",
       "  <tbody>\n",
       "    <tr>\n",
       "      <th>0</th>\n",
       "      <td>11-2-2007-08</td>\n",
       "      <td>0.022820</td>\n",
       "      <td>0.977180</td>\n",
       "      <td>Charlotte Bobcats</td>\n",
       "      <td>Milwaukee Bucks</td>\n",
       "      <td>1</td>\n",
       "      <td>1</td>\n",
       "      <td>0</td>\n",
       "      <td>1.0</td>\n",
       "      <td>48.0</td>\n",
       "      <td>...</td>\n",
       "      <td>24</td>\n",
       "      <td>30</td>\n",
       "      <td>15</td>\n",
       "      <td>26</td>\n",
       "      <td>24</td>\n",
       "      <td>201</td>\n",
       "      <td>1</td>\n",
       "      <td>200.0</td>\n",
       "      <td>1</td>\n",
       "      <td>2007-11-02</td>\n",
       "    </tr>\n",
       "    <tr>\n",
       "      <th>1</th>\n",
       "      <td>11-2-2007-08</td>\n",
       "      <td>0.892655</td>\n",
       "      <td>0.107345</td>\n",
       "      <td>Orlando Magic</td>\n",
       "      <td>Detroit Pistons</td>\n",
       "      <td>2</td>\n",
       "      <td>1</td>\n",
       "      <td>1</td>\n",
       "      <td>0.5</td>\n",
       "      <td>48.0</td>\n",
       "      <td>...</td>\n",
       "      <td>3</td>\n",
       "      <td>2</td>\n",
       "      <td>21</td>\n",
       "      <td>9</td>\n",
       "      <td>3</td>\n",
       "      <td>208</td>\n",
       "      <td>0</td>\n",
       "      <td>184.0</td>\n",
       "      <td>1</td>\n",
       "      <td>2007-11-02</td>\n",
       "    </tr>\n",
       "    <tr>\n",
       "      <th>2</th>\n",
       "      <td>11-2-2007-08</td>\n",
       "      <td>0.010967</td>\n",
       "      <td>0.989033</td>\n",
       "      <td>Indiana Pacers</td>\n",
       "      <td>Miami Heat</td>\n",
       "      <td>2</td>\n",
       "      <td>2</td>\n",
       "      <td>0</td>\n",
       "      <td>1.0</td>\n",
       "      <td>50.5</td>\n",
       "      <td>...</td>\n",
       "      <td>27</td>\n",
       "      <td>2</td>\n",
       "      <td>30</td>\n",
       "      <td>30</td>\n",
       "      <td>19</td>\n",
       "      <td>172</td>\n",
       "      <td>1</td>\n",
       "      <td>186.5</td>\n",
       "      <td>0</td>\n",
       "      <td>2007-11-02</td>\n",
       "    </tr>\n",
       "    <tr>\n",
       "      <th>3</th>\n",
       "      <td>11-2-2007-08</td>\n",
       "      <td>0.957431</td>\n",
       "      <td>0.042569</td>\n",
       "      <td>New Jersey Nets</td>\n",
       "      <td>Toronto Raptors</td>\n",
       "      <td>2</td>\n",
       "      <td>1</td>\n",
       "      <td>1</td>\n",
       "      <td>0.5</td>\n",
       "      <td>50.5</td>\n",
       "      <td>...</td>\n",
       "      <td>22</td>\n",
       "      <td>7</td>\n",
       "      <td>22</td>\n",
       "      <td>4</td>\n",
       "      <td>1</td>\n",
       "      <td>175</td>\n",
       "      <td>0</td>\n",
       "      <td>192.5</td>\n",
       "      <td>0</td>\n",
       "      <td>2007-11-02</td>\n",
       "    </tr>\n",
       "    <tr>\n",
       "      <th>4</th>\n",
       "      <td>11-2-2007-08</td>\n",
       "      <td>0.165892</td>\n",
       "      <td>0.834108</td>\n",
       "      <td>Atlanta Hawks</td>\n",
       "      <td>Dallas Mavericks</td>\n",
       "      <td>1</td>\n",
       "      <td>1</td>\n",
       "      <td>0</td>\n",
       "      <td>1.0</td>\n",
       "      <td>48.0</td>\n",
       "      <td>...</td>\n",
       "      <td>3</td>\n",
       "      <td>10</td>\n",
       "      <td>18</td>\n",
       "      <td>24</td>\n",
       "      <td>11</td>\n",
       "      <td>195</td>\n",
       "      <td>1</td>\n",
       "      <td>192.0</td>\n",
       "      <td>1</td>\n",
       "      <td>2007-11-02</td>\n",
       "    </tr>\n",
       "  </tbody>\n",
       "</table>\n",
       "<p>5 rows × 114 columns</p>\n",
       "</div>"
      ],
      "text/plain": [
       "           Date  winprob_1  winprob_2          TEAM_NAME       TEAM_NAME.1  \\\n",
       "0  11-2-2007-08   0.022820   0.977180  Charlotte Bobcats   Milwaukee Bucks   \n",
       "1  11-2-2007-08   0.892655   0.107345      Orlando Magic   Detroit Pistons   \n",
       "2  11-2-2007-08   0.010967   0.989033     Indiana Pacers        Miami Heat   \n",
       "3  11-2-2007-08   0.957431   0.042569    New Jersey Nets   Toronto Raptors   \n",
       "4  11-2-2007-08   0.165892   0.834108      Atlanta Hawks  Dallas Mavericks   \n",
       "\n",
       "   GP  W  L  W_PCT   MIN  ...  BLKA_RANK.1  PF_RANK.1  PFD_RANK.1  PTS_RANK.1  \\\n",
       "0   1  1  0    1.0  48.0  ...           24         30          15          26   \n",
       "1   2  1  1    0.5  48.0  ...            3          2          21           9   \n",
       "2   2  2  0    1.0  50.5  ...           27          2          30          30   \n",
       "3   2  1  1    0.5  50.5  ...           22          7          22           4   \n",
       "4   1  1  0    1.0  48.0  ...            3         10          18          24   \n",
       "\n",
       "   PLUS_MINUS_RANK.1  Score  Home-Team-Win     OU  OU-Cover   datetime  \n",
       "0                 24    201              1  200.0         1 2007-11-02  \n",
       "1                  3    208              0  184.0         1 2007-11-02  \n",
       "2                 19    172              1  186.5         0 2007-11-02  \n",
       "3                  1    175              0  192.5         0 2007-11-02  \n",
       "4                 11    195              1  192.0         1 2007-11-02  \n",
       "\n",
       "[5 rows x 114 columns]"
      ]
     },
     "execution_count": 57,
     "metadata": {},
     "output_type": "execute_result"
    }
   ],
   "source": [
    "pre_f.head()"
   ]
  },
  {
   "cell_type": "code",
   "execution_count": 58,
   "metadata": {
    "ExecuteTime": {
     "end_time": "2022-04-01T02:04:09.505579Z",
     "start_time": "2022-04-01T02:04:09.487085Z"
    }
   },
   "outputs": [],
   "source": [
    "pre_f.rename(columns={\"winprob_1\": \"predict_away_winprob\",\n",
    "                   \"winprob_2\": \"predict_home_winprob\",\n",
    "                   \"TEAM_NAME\": \"home_team\",\n",
    "                   \"TEAM_NAME.1\": \"away_team\"}, inplace=True)"
   ]
  },
  {
   "cell_type": "code",
   "execution_count": 59,
   "metadata": {
    "ExecuteTime": {
     "end_time": "2022-04-01T02:04:10.149901Z",
     "start_time": "2022-04-01T02:04:10.135277Z"
    }
   },
   "outputs": [
    {
     "data": {
      "text/plain": [
       "Index(['AwayTeam', 'HomeTeam', 'HomeTeamHasWon', 'ConsensusHomeMoneyLine',\n",
       "       'ConsensusAwayMoneyLine'],\n",
       "      dtype='object')"
      ]
     },
     "execution_count": 59,
     "metadata": {},
     "output_type": "execute_result"
    }
   ],
   "source": [
    "odds_f_sub.columns"
   ]
  },
  {
   "cell_type": "code",
   "execution_count": 60,
   "metadata": {
    "ExecuteTime": {
     "end_time": "2022-04-01T02:04:10.860810Z",
     "start_time": "2022-04-01T02:04:10.855349Z"
    }
   },
   "outputs": [],
   "source": [
    "odds_f_sub.rename(columns = {\n",
    "    'AwayTeam':'away_team',\n",
    "    'HomeTeam':'home_team',\n",
    "    'HomeTeamHasWon':'home_win',\n",
    "    'ConsensusHomeMoneyLine': 'money_line_home',\n",
    "    'ConsensusAwayMoneyLine': 'money_line_away'\n",
    "}, inplace=True)"
   ]
  },
  {
   "cell_type": "code",
   "execution_count": 61,
   "metadata": {
    "ExecuteTime": {
     "end_time": "2022-04-01T02:04:15.864672Z",
     "start_time": "2022-04-01T02:04:15.839022Z"
    }
   },
   "outputs": [
    {
     "data": {
      "text/html": [
       "<div>\n",
       "<style scoped>\n",
       "    .dataframe tbody tr th:only-of-type {\n",
       "        vertical-align: middle;\n",
       "    }\n",
       "\n",
       "    .dataframe tbody tr th {\n",
       "        vertical-align: top;\n",
       "    }\n",
       "\n",
       "    .dataframe thead th {\n",
       "        text-align: right;\n",
       "    }\n",
       "</style>\n",
       "<table border=\"1\" class=\"dataframe\">\n",
       "  <thead>\n",
       "    <tr style=\"text-align: right;\">\n",
       "      <th></th>\n",
       "      <th>away_team</th>\n",
       "      <th>home_team</th>\n",
       "      <th>home_win</th>\n",
       "      <th>money_line_home</th>\n",
       "      <th>money_line_away</th>\n",
       "    </tr>\n",
       "    <tr>\n",
       "      <th>datetime</th>\n",
       "      <th></th>\n",
       "      <th></th>\n",
       "      <th></th>\n",
       "      <th></th>\n",
       "      <th></th>\n",
       "    </tr>\n",
       "  </thead>\n",
       "  <tbody>\n",
       "    <tr>\n",
       "      <th>2019-01-02</th>\n",
       "      <td>ORL</td>\n",
       "      <td>CHI</td>\n",
       "      <td>False</td>\n",
       "      <td>102.0</td>\n",
       "      <td>-112.0</td>\n",
       "    </tr>\n",
       "    <tr>\n",
       "      <th>2019-01-02</th>\n",
       "      <td>OKC</td>\n",
       "      <td>LAL</td>\n",
       "      <td>False</td>\n",
       "      <td>190.0</td>\n",
       "      <td>-210.0</td>\n",
       "    </tr>\n",
       "    <tr>\n",
       "      <th>2019-01-02</th>\n",
       "      <td>PHI</td>\n",
       "      <td>PHO</td>\n",
       "      <td>False</td>\n",
       "      <td>150.0</td>\n",
       "      <td>-160.0</td>\n",
       "    </tr>\n",
       "    <tr>\n",
       "      <th>2019-01-02</th>\n",
       "      <td>DET</td>\n",
       "      <td>MEM</td>\n",
       "      <td>False</td>\n",
       "      <td>-240.0</td>\n",
       "      <td>220.0</td>\n",
       "    </tr>\n",
       "    <tr>\n",
       "      <th>2019-01-02</th>\n",
       "      <td>MIN</td>\n",
       "      <td>BOS</td>\n",
       "      <td>True</td>\n",
       "      <td>-250.0</td>\n",
       "      <td>230.0</td>\n",
       "    </tr>\n",
       "  </tbody>\n",
       "</table>\n",
       "</div>"
      ],
      "text/plain": [
       "           away_team home_team  home_win  money_line_home  money_line_away\n",
       "datetime                                                                  \n",
       "2019-01-02       ORL       CHI     False            102.0           -112.0\n",
       "2019-01-02       OKC       LAL     False            190.0           -210.0\n",
       "2019-01-02       PHI       PHO     False            150.0           -160.0\n",
       "2019-01-02       DET       MEM     False           -240.0            220.0\n",
       "2019-01-02       MIN       BOS      True           -250.0            230.0"
      ]
     },
     "execution_count": 61,
     "metadata": {},
     "output_type": "execute_result"
    }
   ],
   "source": [
    "odds_f_sub.head()"
   ]
  },
  {
   "cell_type": "code",
   "execution_count": 64,
   "metadata": {
    "ExecuteTime": {
     "end_time": "2022-04-01T02:04:52.480462Z",
     "start_time": "2022-04-01T02:04:52.471855Z"
    }
   },
   "outputs": [
    {
     "data": {
      "text/plain": [
       "array(['ORL', 'OKC', 'PHI', 'DET', 'MIN', 'NO', 'DAL', 'ATL', 'MIA',\n",
       "       'HOU', 'DEN', 'TOR', 'UTA', 'IND', 'WAS', 'BKN', 'LAC', 'NY', 'GS',\n",
       "       'CHA', 'MEM', 'LAL', 'SA', 'SAC', 'CLE', 'MIL', 'CHI', 'PHO',\n",
       "       'BOS', 'POR'], dtype=object)"
      ]
     },
     "execution_count": 64,
     "metadata": {},
     "output_type": "execute_result"
    }
   ],
   "source": [
    "odds_f_sub[\"away_team\"].unique()"
   ]
  },
  {
   "cell_type": "code",
   "execution_count": 65,
   "metadata": {
    "ExecuteTime": {
     "end_time": "2022-04-01T02:05:09.714763Z",
     "start_time": "2022-04-01T02:05:09.695021Z"
    }
   },
   "outputs": [
    {
     "data": {
      "text/plain": [
       "array(['Milwaukee Bucks', 'Detroit Pistons', 'Miami Heat',\n",
       "       'Toronto Raptors', 'Dallas Mavericks', 'New York Knicks',\n",
       "       'Washington Wizards', 'Portland Trail Blazers', 'Denver Nuggets',\n",
       "       'Philadelphia 76ers', 'Sacramento Kings', 'Los Angeles Lakers',\n",
       "       'Golden State Warriors', 'New Jersey Nets', 'Orlando Magic',\n",
       "       'Indiana Pacers', 'Chicago Bulls', 'Boston Celtics',\n",
       "       'Seattle SuperSonics', 'Minnesota Timberwolves',\n",
       "       'Charlotte Bobcats', 'Atlanta Hawks', 'New Orleans Hornets',\n",
       "       'Cleveland Cavaliers', 'Utah Jazz', 'Houston Rockets',\n",
       "       'Phoenix Suns', 'San Antonio Spurs', 'Los Angeles Clippers',\n",
       "       'Memphis Grizzlies', 'Oklahoma City Thunder', 'Brooklyn Nets',\n",
       "       'New Orleans Pelicans', 'Charlotte Hornets', 'LA Clippers'],\n",
       "      dtype=object)"
      ]
     },
     "execution_count": 65,
     "metadata": {},
     "output_type": "execute_result"
    }
   ],
   "source": [
    "pre_f[\"away_team\"].unique()"
   ]
  },
  {
   "cell_type": "code",
   "execution_count": 83,
   "metadata": {
    "ExecuteTime": {
     "end_time": "2022-04-01T02:28:32.136841Z",
     "start_time": "2022-04-01T02:28:32.117853Z"
    }
   },
   "outputs": [
    {
     "name": "stdout",
     "output_type": "stream",
     "text": [
      "NO\n",
      "NY\n",
      "GS\n",
      "SA\n",
      "PHO\n"
     ]
    }
   ],
   "source": [
    "for x in odds_f_sub[\"away_team\"].unique():\n",
    "    if x not in TEAM_NAME_MAPPING.keys():\n",
    "        print(x)"
   ]
  },
  {
   "cell_type": "code",
   "execution_count": 102,
   "metadata": {
    "ExecuteTime": {
     "end_time": "2022-04-01T02:35:22.718823Z",
     "start_time": "2022-04-01T02:35:22.700910Z"
    }
   },
   "outputs": [
    {
     "name": "stdout",
     "output_type": "stream",
     "text": [
      "\n"
     ]
    }
   ],
   "source": [
    "print()\n",
    "TEAM_NAME_MAPPING_REVERT = {}\n",
    "for key, value in TEAM_NAME_MAPPING.items():\n",
    "   if value in new_dict:\n",
    "       TEAM_NAME_MAPPING_REVERT[value] = key\n",
    "   else:\n",
    "       TEAM_NAME_MAPPING_REVERT[value]=key\n",
    "  "
   ]
  },
  {
   "cell_type": "code",
   "execution_count": 111,
   "metadata": {
    "ExecuteTime": {
     "end_time": "2022-04-01T02:37:22.217388Z",
     "start_time": "2022-04-01T02:37:22.196442Z"
    }
   },
   "outputs": [],
   "source": [
    "TEAM_NAME_MAPPING = {\n",
    " 'Atlanta Hawks': 'ATL',\n",
    " 'Brooklyn Nets': 'BKN',\n",
    " 'Boston Celtics': 'BOS',\n",
    " 'Charlotte Hornets': 'CHA',\n",
    " 'Chicago Bulls': 'CHI',\n",
    " 'Cleveland Cavaliers': 'CLE',\n",
    " 'Dallas Mavericks': 'DAL',\n",
    " 'Denver Nuggets': 'DEN',\n",
    " 'Detroit Pistons': 'DET',\n",
    " 'Golden State Warriors': 'GS',\n",
    " 'Houston Rockets': 'HOU',\n",
    " 'Indiana Pacers': 'IND',\n",
    " 'Los Angeles Clippers': 'LAC',\n",
    " 'Los Angeles Lakers': 'LAL',\n",
    " 'Memphis Grizzlies': 'MEM',\n",
    " 'Miami Heat': 'MIA',\n",
    " 'Milwaukee Bucks': 'MIL',\n",
    " 'Minnesota Timberwolves': 'MIN',\n",
    " 'New Orleans Pelicans': 'NO',\n",
    " 'New York Knicks': 'NY',\n",
    " 'Oklahoma City Thunder': 'OKC',\n",
    " 'Orlando Magic': 'ORL',\n",
    " 'Philadelphia 76ers': 'PHI',\n",
    " 'Phoenix Suns': 'PHO',\n",
    " 'Portland Trail Blazers': 'POR',\n",
    " 'Sacramento Kings': 'SAC',\n",
    " 'San Antonio Spurs': 'SA',\n",
    " 'Toronto Raptors': 'TOR',\n",
    " 'Utah Jazz': 'UTA',\n",
    " 'Washington Wizards': 'WAS',\n",
    " 'New Jersey Nets': 'NKN',\n",
    " 'Seattle SuperSonics': 'SS',\n",
    " 'Charlotte Bobcats': 'CB',\n",
    " 'New Orleans Hornets': 'NOH',\n",
    " 'LA Clippers': 'LC',\n",
    "}"
   ]
  },
  {
   "cell_type": "code",
   "execution_count": 105,
   "metadata": {
    "ExecuteTime": {
     "end_time": "2022-04-01T02:35:35.670981Z",
     "start_time": "2022-04-01T02:35:35.651807Z"
    }
   },
   "outputs": [
    {
     "data": {
      "text/plain": [
       "35"
      ]
     },
     "execution_count": 105,
     "metadata": {},
     "output_type": "execute_result"
    }
   ],
   "source": [
    "len(pre_f[\"away_team\"].unique())"
   ]
  },
  {
   "cell_type": "code",
   "execution_count": 115,
   "metadata": {
    "ExecuteTime": {
     "end_time": "2022-04-01T02:38:50.387997Z",
     "start_time": "2022-04-01T02:38:50.358157Z"
    }
   },
   "outputs": [],
   "source": [
    "pre_f[\"away_team\"] = pre_f[\"away_team\"].apply(lambda x: TEAM_NAME_MAPPING[x])\n",
    "pre_f[\"home_team\"] = pre_f[\"home_team\"].apply(lambda x: TEAM_NAME_MAPPING[x])"
   ]
  },
  {
   "cell_type": "code",
   "execution_count": 117,
   "metadata": {
    "ExecuteTime": {
     "end_time": "2022-04-01T02:39:07.306221Z",
     "start_time": "2022-04-01T02:39:07.291657Z"
    }
   },
   "outputs": [
    {
     "data": {
      "text/plain": [
       "array(['MIL', 'DET', 'MIA', 'TOR', 'DAL', 'NY', 'WAS', 'POR', 'DEN',\n",
       "       'PHI', 'SAC', 'LAL', 'GS', 'NKN', 'ORL', 'IND', 'CHI', 'BOS', 'SS',\n",
       "       'MIN', 'CB', 'ATL', 'NOH', 'CLE', 'UTA', 'HOU', 'PHO', 'SA', 'LAC',\n",
       "       'MEM', 'OKC', 'BKN', 'NO', 'CHA', 'LC'], dtype=object)"
      ]
     },
     "execution_count": 117,
     "metadata": {},
     "output_type": "execute_result"
    }
   ],
   "source": [
    "pre_f[\"away_team\"].unique()"
   ]
  },
  {
   "cell_type": "code",
   "execution_count": 122,
   "metadata": {
    "ExecuteTime": {
     "end_time": "2022-04-01T02:40:57.210422Z",
     "start_time": "2022-04-01T02:40:57.196228Z"
    }
   },
   "outputs": [
    {
     "data": {
      "text/html": [
       "<div>\n",
       "<style scoped>\n",
       "    .dataframe tbody tr th:only-of-type {\n",
       "        vertical-align: middle;\n",
       "    }\n",
       "\n",
       "    .dataframe tbody tr th {\n",
       "        vertical-align: top;\n",
       "    }\n",
       "\n",
       "    .dataframe thead th {\n",
       "        text-align: right;\n",
       "    }\n",
       "</style>\n",
       "<table border=\"1\" class=\"dataframe\">\n",
       "  <thead>\n",
       "    <tr style=\"text-align: right;\">\n",
       "      <th></th>\n",
       "      <th>away_team</th>\n",
       "      <th>home_team</th>\n",
       "      <th>home_win</th>\n",
       "      <th>money_line_home</th>\n",
       "      <th>money_line_away</th>\n",
       "    </tr>\n",
       "    <tr>\n",
       "      <th>datetime</th>\n",
       "      <th></th>\n",
       "      <th></th>\n",
       "      <th></th>\n",
       "      <th></th>\n",
       "      <th></th>\n",
       "    </tr>\n",
       "  </thead>\n",
       "  <tbody>\n",
       "    <tr>\n",
       "      <th>2019-01-02</th>\n",
       "      <td>ORL</td>\n",
       "      <td>CHI</td>\n",
       "      <td>False</td>\n",
       "      <td>102.0</td>\n",
       "      <td>-112.0</td>\n",
       "    </tr>\n",
       "    <tr>\n",
       "      <th>2019-01-02</th>\n",
       "      <td>OKC</td>\n",
       "      <td>LAL</td>\n",
       "      <td>False</td>\n",
       "      <td>190.0</td>\n",
       "      <td>-210.0</td>\n",
       "    </tr>\n",
       "    <tr>\n",
       "      <th>2019-01-02</th>\n",
       "      <td>PHI</td>\n",
       "      <td>PHO</td>\n",
       "      <td>False</td>\n",
       "      <td>150.0</td>\n",
       "      <td>-160.0</td>\n",
       "    </tr>\n",
       "    <tr>\n",
       "      <th>2019-01-02</th>\n",
       "      <td>DET</td>\n",
       "      <td>MEM</td>\n",
       "      <td>False</td>\n",
       "      <td>-240.0</td>\n",
       "      <td>220.0</td>\n",
       "    </tr>\n",
       "    <tr>\n",
       "      <th>2019-01-02</th>\n",
       "      <td>MIN</td>\n",
       "      <td>BOS</td>\n",
       "      <td>True</td>\n",
       "      <td>-250.0</td>\n",
       "      <td>230.0</td>\n",
       "    </tr>\n",
       "    <tr>\n",
       "      <th>...</th>\n",
       "      <td>...</td>\n",
       "      <td>...</td>\n",
       "      <td>...</td>\n",
       "      <td>...</td>\n",
       "      <td>...</td>\n",
       "    </tr>\n",
       "    <tr>\n",
       "      <th>2022-03-27</th>\n",
       "      <td>PHI</td>\n",
       "      <td>PHO</td>\n",
       "      <td>True</td>\n",
       "      <td>-185.0</td>\n",
       "      <td>152.0</td>\n",
       "    </tr>\n",
       "    <tr>\n",
       "      <th>2022-03-27</th>\n",
       "      <td>GS</td>\n",
       "      <td>WAS</td>\n",
       "      <td>True</td>\n",
       "      <td>226.0</td>\n",
       "      <td>-281.0</td>\n",
       "    </tr>\n",
       "    <tr>\n",
       "      <th>2022-03-27</th>\n",
       "      <td>LAL</td>\n",
       "      <td>NO</td>\n",
       "      <td>True</td>\n",
       "      <td>-173.0</td>\n",
       "      <td>143.0</td>\n",
       "    </tr>\n",
       "    <tr>\n",
       "      <th>2022-03-27</th>\n",
       "      <td>UTA</td>\n",
       "      <td>DAL</td>\n",
       "      <td>True</td>\n",
       "      <td>-168.0</td>\n",
       "      <td>139.0</td>\n",
       "    </tr>\n",
       "    <tr>\n",
       "      <th>2022-03-27</th>\n",
       "      <td>CHA</td>\n",
       "      <td>BKN</td>\n",
       "      <td>False</td>\n",
       "      <td>-270.0</td>\n",
       "      <td>217.0</td>\n",
       "    </tr>\n",
       "  </tbody>\n",
       "</table>\n",
       "<p>4317 rows × 5 columns</p>\n",
       "</div>"
      ],
      "text/plain": [
       "           away_team home_team  home_win  money_line_home  money_line_away\n",
       "datetime                                                                  \n",
       "2019-01-02       ORL       CHI     False            102.0           -112.0\n",
       "2019-01-02       OKC       LAL     False            190.0           -210.0\n",
       "2019-01-02       PHI       PHO     False            150.0           -160.0\n",
       "2019-01-02       DET       MEM     False           -240.0            220.0\n",
       "2019-01-02       MIN       BOS      True           -250.0            230.0\n",
       "...              ...       ...       ...              ...              ...\n",
       "2022-03-27       PHI       PHO      True           -185.0            152.0\n",
       "2022-03-27        GS       WAS      True            226.0           -281.0\n",
       "2022-03-27       LAL        NO      True           -173.0            143.0\n",
       "2022-03-27       UTA       DAL      True           -168.0            139.0\n",
       "2022-03-27       CHA       BKN     False           -270.0            217.0\n",
       "\n",
       "[4317 rows x 5 columns]"
      ]
     },
     "execution_count": 122,
     "metadata": {},
     "output_type": "execute_result"
    }
   ],
   "source": [
    "odds_f_sub"
   ]
  },
  {
   "cell_type": "code",
   "execution_count": 123,
   "metadata": {
    "ExecuteTime": {
     "end_time": "2022-04-01T02:41:16.787286Z",
     "start_time": "2022-04-01T02:41:16.572683Z"
    }
   },
   "outputs": [],
   "source": [
    "odds_f_sub.loc[:, \"key\"] = odds_f_sub.index.astype(str) + odds_f_sub[\"home_team\"] + odds_f_sub[\"away_team\"]\n",
    "pre_f.loc[:, \"key\"] = pre_f[\"datetime\"].astype(str) + pre_f[\"home_team\"] + pre_f[\"away_team\"]"
   ]
  },
  {
   "cell_type": "code",
   "execution_count": 126,
   "metadata": {
    "ExecuteTime": {
     "end_time": "2022-04-01T02:42:14.935425Z",
     "start_time": "2022-04-01T02:42:14.915436Z"
    }
   },
   "outputs": [],
   "source": [
    "odds_f_sub.set_index(\"key\", inplace = True)\n",
    "pre_f.set_index(\"key\", inplace = True)"
   ]
  },
  {
   "cell_type": "code",
   "execution_count": 128,
   "metadata": {
    "ExecuteTime": {
     "end_time": "2022-04-01T02:43:29.319352Z",
     "start_time": "2022-04-01T02:43:28.860992Z"
    }
   },
   "outputs": [],
   "source": [
    "odds_f_sub.merge(pre_f, left_index=True, right_index=True, how='inner').to_csv(\"data.csv\")"
   ]
  },
  {
   "cell_type": "code",
   "execution_count": 129,
   "metadata": {
    "ExecuteTime": {
     "end_time": "2022-04-01T02:44:17.525869Z",
     "start_time": "2022-04-01T02:44:17.483340Z"
    }
   },
   "outputs": [],
   "source": [
    "combine_f = odds_f_sub.merge(pre_f, left_index=True, right_index=True, how='inner')"
   ]
  },
  {
   "cell_type": "code",
   "execution_count": 132,
   "metadata": {
    "ExecuteTime": {
     "end_time": "2022-04-01T02:44:54.936798Z",
     "start_time": "2022-04-01T02:44:54.916340Z"
    }
   },
   "outputs": [
    {
     "data": {
      "text/plain": [
       "True"
      ]
     },
     "execution_count": 132,
     "metadata": {},
     "output_type": "execute_result"
    }
   ],
   "source": [
    "(combine_f.home_team_x == combine_f.home_team_y).all()"
   ]
  },
  {
   "cell_type": "code",
   "execution_count": null,
   "metadata": {},
   "outputs": [],
   "source": []
  }
 ],
 "metadata": {
  "hide_input": false,
  "kernelspec": {
   "display_name": "Python 3.7.5 64-bit ('py37': conda)",
   "language": "python",
   "name": "python37564bitpy37conda6d85a55b214d42989cbea3eb4ddf6fb9"
  },
  "language_info": {
   "codemirror_mode": {
    "name": "ipython",
    "version": 3
   },
   "file_extension": ".py",
   "mimetype": "text/x-python",
   "name": "python",
   "nbconvert_exporter": "python",
   "pygments_lexer": "ipython3",
   "version": "3.7.5"
  },
  "toc": {
   "base_numbering": 1,
   "nav_menu": {},
   "number_sections": true,
   "sideBar": true,
   "skip_h1_title": false,
   "title_cell": "Table of Contents",
   "title_sidebar": "Contents",
   "toc_cell": false,
   "toc_position": {},
   "toc_section_display": true,
   "toc_window_display": false
  },
  "varInspector": {
   "cols": {
    "lenName": 16,
    "lenType": 16,
    "lenVar": 40
   },
   "kernels_config": {
    "python": {
     "delete_cmd_postfix": "",
     "delete_cmd_prefix": "del ",
     "library": "var_list.py",
     "varRefreshCmd": "print(var_dic_list())"
    },
    "r": {
     "delete_cmd_postfix": ") ",
     "delete_cmd_prefix": "rm(",
     "library": "var_list.r",
     "varRefreshCmd": "cat(var_dic_list()) "
    }
   },
   "types_to_exclude": [
    "module",
    "function",
    "builtin_function_or_method",
    "instance",
    "_Feature"
   ],
   "window_display": false
  }
 },
 "nbformat": 4,
 "nbformat_minor": 2
}
