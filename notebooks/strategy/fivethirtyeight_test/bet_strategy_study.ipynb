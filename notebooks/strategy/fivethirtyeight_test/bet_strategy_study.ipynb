{
 "cells": [
  {
   "cell_type": "code",
   "execution_count": 1,
   "metadata": {
    "ExecuteTime": {
     "end_time": "2022-03-31T02:46:51.547836Z",
     "start_time": "2022-03-31T02:46:50.827036Z"
    }
   },
   "outputs": [],
   "source": [
    "import pandas as pd"
   ]
  },
  {
   "cell_type": "code",
   "execution_count": 2,
   "metadata": {
    "ExecuteTime": {
     "end_time": "2022-03-31T02:46:51.623938Z",
     "start_time": "2022-03-31T02:46:51.579758Z"
    }
   },
   "outputs": [],
   "source": [
    "f = pd.read_csv(\"combine_data.csv\", parse_dates=[\"datetime\"], index_col=\"datetime\")"
   ]
  },
  {
   "cell_type": "code",
   "execution_count": 3,
   "metadata": {
    "ExecuteTime": {
     "end_time": "2022-03-31T02:46:52.152246Z",
     "start_time": "2022-03-31T02:46:52.106099Z"
    }
   },
   "outputs": [
    {
     "data": {
      "text/html": [
       "<div>\n",
       "<style scoped>\n",
       "    .dataframe tbody tr th:only-of-type {\n",
       "        vertical-align: middle;\n",
       "    }\n",
       "\n",
       "    .dataframe tbody tr th {\n",
       "        vertical-align: top;\n",
       "    }\n",
       "\n",
       "    .dataframe thead th {\n",
       "        text-align: right;\n",
       "    }\n",
       "</style>\n",
       "<table border=\"1\" class=\"dataframe\">\n",
       "  <thead>\n",
       "    <tr style=\"text-align: right;\">\n",
       "      <th></th>\n",
       "      <th>HomeTeamProb</th>\n",
       "      <th>AwayTeamProb</th>\n",
       "      <th>AwayTeam</th>\n",
       "      <th>HomeTeam</th>\n",
       "      <th>HomeTeamHasWon</th>\n",
       "      <th>ConsensusHomeMoneyLine</th>\n",
       "      <th>ConsensusAwayMoneyLine</th>\n",
       "    </tr>\n",
       "    <tr>\n",
       "      <th>datetime</th>\n",
       "      <th></th>\n",
       "      <th></th>\n",
       "      <th></th>\n",
       "      <th></th>\n",
       "      <th></th>\n",
       "      <th></th>\n",
       "      <th></th>\n",
       "    </tr>\n",
       "  </thead>\n",
       "  <tbody>\n",
       "    <tr>\n",
       "      <th>2019-01-02</th>\n",
       "      <td>0.671360</td>\n",
       "      <td>0.328640</td>\n",
       "      <td>DAL</td>\n",
       "      <td>CHO</td>\n",
       "      <td>False</td>\n",
       "      <td>-117.0</td>\n",
       "      <td>107.0</td>\n",
       "    </tr>\n",
       "    <tr>\n",
       "      <th>2019-01-02</th>\n",
       "      <td>0.421730</td>\n",
       "      <td>0.578270</td>\n",
       "      <td>MIA</td>\n",
       "      <td>CLE</td>\n",
       "      <td>False</td>\n",
       "      <td>210.0</td>\n",
       "      <td>-230.0</td>\n",
       "    </tr>\n",
       "    <tr>\n",
       "      <th>2019-01-02</th>\n",
       "      <td>0.724603</td>\n",
       "      <td>0.275397</td>\n",
       "      <td>ATL</td>\n",
       "      <td>WAS</td>\n",
       "      <td>True</td>\n",
       "      <td>-240.0</td>\n",
       "      <td>220.0</td>\n",
       "    </tr>\n",
       "    <tr>\n",
       "      <th>2019-01-02</th>\n",
       "      <td>0.536187</td>\n",
       "      <td>0.463813</td>\n",
       "      <td>NOP</td>\n",
       "      <td>BRK</td>\n",
       "      <td>True</td>\n",
       "      <td>115.0</td>\n",
       "      <td>-125.0</td>\n",
       "    </tr>\n",
       "    <tr>\n",
       "      <th>2019-01-02</th>\n",
       "      <td>0.552163</td>\n",
       "      <td>0.447837</td>\n",
       "      <td>ORL</td>\n",
       "      <td>CHI</td>\n",
       "      <td>False</td>\n",
       "      <td>102.0</td>\n",
       "      <td>-112.0</td>\n",
       "    </tr>\n",
       "    <tr>\n",
       "      <th>...</th>\n",
       "      <td>...</td>\n",
       "      <td>...</td>\n",
       "      <td>...</td>\n",
       "      <td>...</td>\n",
       "      <td>...</td>\n",
       "      <td>...</td>\n",
       "      <td>...</td>\n",
       "    </tr>\n",
       "    <tr>\n",
       "      <th>2022-03-27</th>\n",
       "      <td>0.347830</td>\n",
       "      <td>0.652170</td>\n",
       "      <td>GSW</td>\n",
       "      <td>WAS</td>\n",
       "      <td>True</td>\n",
       "      <td>226.0</td>\n",
       "      <td>-281.0</td>\n",
       "    </tr>\n",
       "    <tr>\n",
       "      <th>2022-03-27</th>\n",
       "      <td>0.766541</td>\n",
       "      <td>0.233459</td>\n",
       "      <td>MIN</td>\n",
       "      <td>BOS</td>\n",
       "      <td>True</td>\n",
       "      <td>-259.0</td>\n",
       "      <td>208.0</td>\n",
       "    </tr>\n",
       "    <tr>\n",
       "      <th>2022-03-27</th>\n",
       "      <td>0.755368</td>\n",
       "      <td>0.244632</td>\n",
       "      <td>LAL</td>\n",
       "      <td>NOP</td>\n",
       "      <td>True</td>\n",
       "      <td>-173.0</td>\n",
       "      <td>143.0</td>\n",
       "    </tr>\n",
       "    <tr>\n",
       "      <th>2022-03-27</th>\n",
       "      <td>0.621091</td>\n",
       "      <td>0.378909</td>\n",
       "      <td>UTA</td>\n",
       "      <td>DAL</td>\n",
       "      <td>True</td>\n",
       "      <td>-168.0</td>\n",
       "      <td>139.0</td>\n",
       "    </tr>\n",
       "    <tr>\n",
       "      <th>2022-03-27</th>\n",
       "      <td>0.660568</td>\n",
       "      <td>0.339432</td>\n",
       "      <td>CHO</td>\n",
       "      <td>BRK</td>\n",
       "      <td>False</td>\n",
       "      <td>-270.0</td>\n",
       "      <td>217.0</td>\n",
       "    </tr>\n",
       "  </tbody>\n",
       "</table>\n",
       "<p>4193 rows × 7 columns</p>\n",
       "</div>"
      ],
      "text/plain": [
       "            HomeTeamProb  AwayTeamProb AwayTeam HomeTeam  HomeTeamHasWon  \\\n",
       "datetime                                                                   \n",
       "2019-01-02      0.671360      0.328640      DAL      CHO           False   \n",
       "2019-01-02      0.421730      0.578270      MIA      CLE           False   \n",
       "2019-01-02      0.724603      0.275397      ATL      WAS            True   \n",
       "2019-01-02      0.536187      0.463813      NOP      BRK            True   \n",
       "2019-01-02      0.552163      0.447837      ORL      CHI           False   \n",
       "...                  ...           ...      ...      ...             ...   \n",
       "2022-03-27      0.347830      0.652170      GSW      WAS            True   \n",
       "2022-03-27      0.766541      0.233459      MIN      BOS            True   \n",
       "2022-03-27      0.755368      0.244632      LAL      NOP            True   \n",
       "2022-03-27      0.621091      0.378909      UTA      DAL            True   \n",
       "2022-03-27      0.660568      0.339432      CHO      BRK           False   \n",
       "\n",
       "            ConsensusHomeMoneyLine  ConsensusAwayMoneyLine  \n",
       "datetime                                                    \n",
       "2019-01-02                  -117.0                   107.0  \n",
       "2019-01-02                   210.0                  -230.0  \n",
       "2019-01-02                  -240.0                   220.0  \n",
       "2019-01-02                   115.0                  -125.0  \n",
       "2019-01-02                   102.0                  -112.0  \n",
       "...                            ...                     ...  \n",
       "2022-03-27                   226.0                  -281.0  \n",
       "2022-03-27                  -259.0                   208.0  \n",
       "2022-03-27                  -173.0                   143.0  \n",
       "2022-03-27                  -168.0                   139.0  \n",
       "2022-03-27                  -270.0                   217.0  \n",
       "\n",
       "[4193 rows x 7 columns]"
      ]
     },
     "execution_count": 3,
     "metadata": {},
     "output_type": "execute_result"
    }
   ],
   "source": [
    "f"
   ]
  },
  {
   "cell_type": "code",
   "execution_count": 4,
   "metadata": {
    "ExecuteTime": {
     "end_time": "2022-03-31T02:46:52.790085Z",
     "start_time": "2022-03-31T02:46:52.769142Z"
    }
   },
   "outputs": [
    {
     "data": {
      "text/plain": [
       "Index(['HomeTeamProb', 'AwayTeamProb', 'AwayTeam', 'HomeTeam',\n",
       "       'HomeTeamHasWon', 'ConsensusHomeMoneyLine', 'ConsensusAwayMoneyLine'],\n",
       "      dtype='object')"
      ]
     },
     "execution_count": 4,
     "metadata": {},
     "output_type": "execute_result"
    }
   ],
   "source": [
    "f.columns"
   ]
  },
  {
   "cell_type": "code",
   "execution_count": 5,
   "metadata": {
    "ExecuteTime": {
     "end_time": "2022-03-31T02:46:53.892893Z",
     "start_time": "2022-03-31T02:46:53.885913Z"
    }
   },
   "outputs": [],
   "source": [
    "def calc_winprob(odds):\n",
    "    if odds >= 0:\n",
    "        return round(100/(odds+100), 2)\n",
    "    else:\n",
    "        return round(1 - 100/(-odds+100), 2)"
   ]
  },
  {
   "cell_type": "code",
   "execution_count": 6,
   "metadata": {
    "ExecuteTime": {
     "end_time": "2022-03-31T02:46:54.546367Z",
     "start_time": "2022-03-31T02:46:54.507688Z"
    }
   },
   "outputs": [],
   "source": [
    "f.loc[:, \"ActualHomeWinProb\"] = f.loc[:, \"ConsensusHomeMoneyLine\"].apply(calc_winprob)\n",
    "f.loc[:, \"ActualAwayWinProb\"] = f.loc[:, \"ConsensusAwayMoneyLine\"].apply(calc_winprob)"
   ]
  },
  {
   "cell_type": "code",
   "execution_count": 7,
   "metadata": {
    "ExecuteTime": {
     "end_time": "2022-03-31T02:46:55.464132Z",
     "start_time": "2022-03-31T02:46:55.431676Z"
    }
   },
   "outputs": [
    {
     "data": {
      "text/html": [
       "<div>\n",
       "<style scoped>\n",
       "    .dataframe tbody tr th:only-of-type {\n",
       "        vertical-align: middle;\n",
       "    }\n",
       "\n",
       "    .dataframe tbody tr th {\n",
       "        vertical-align: top;\n",
       "    }\n",
       "\n",
       "    .dataframe thead th {\n",
       "        text-align: right;\n",
       "    }\n",
       "</style>\n",
       "<table border=\"1\" class=\"dataframe\">\n",
       "  <thead>\n",
       "    <tr style=\"text-align: right;\">\n",
       "      <th></th>\n",
       "      <th>HomeTeamProb</th>\n",
       "      <th>AwayTeamProb</th>\n",
       "      <th>AwayTeam</th>\n",
       "      <th>HomeTeam</th>\n",
       "      <th>HomeTeamHasWon</th>\n",
       "      <th>ConsensusHomeMoneyLine</th>\n",
       "      <th>ConsensusAwayMoneyLine</th>\n",
       "      <th>ActualHomeWinProb</th>\n",
       "      <th>ActualAwayWinProb</th>\n",
       "    </tr>\n",
       "    <tr>\n",
       "      <th>datetime</th>\n",
       "      <th></th>\n",
       "      <th></th>\n",
       "      <th></th>\n",
       "      <th></th>\n",
       "      <th></th>\n",
       "      <th></th>\n",
       "      <th></th>\n",
       "      <th></th>\n",
       "      <th></th>\n",
       "    </tr>\n",
       "  </thead>\n",
       "  <tbody>\n",
       "    <tr>\n",
       "      <th>2019-01-02</th>\n",
       "      <td>0.671360</td>\n",
       "      <td>0.328640</td>\n",
       "      <td>DAL</td>\n",
       "      <td>CHO</td>\n",
       "      <td>False</td>\n",
       "      <td>-117.0</td>\n",
       "      <td>107.0</td>\n",
       "      <td>0.54</td>\n",
       "      <td>0.48</td>\n",
       "    </tr>\n",
       "    <tr>\n",
       "      <th>2019-01-02</th>\n",
       "      <td>0.421730</td>\n",
       "      <td>0.578270</td>\n",
       "      <td>MIA</td>\n",
       "      <td>CLE</td>\n",
       "      <td>False</td>\n",
       "      <td>210.0</td>\n",
       "      <td>-230.0</td>\n",
       "      <td>0.32</td>\n",
       "      <td>0.70</td>\n",
       "    </tr>\n",
       "    <tr>\n",
       "      <th>2019-01-02</th>\n",
       "      <td>0.724603</td>\n",
       "      <td>0.275397</td>\n",
       "      <td>ATL</td>\n",
       "      <td>WAS</td>\n",
       "      <td>True</td>\n",
       "      <td>-240.0</td>\n",
       "      <td>220.0</td>\n",
       "      <td>0.71</td>\n",
       "      <td>0.31</td>\n",
       "    </tr>\n",
       "    <tr>\n",
       "      <th>2019-01-02</th>\n",
       "      <td>0.536187</td>\n",
       "      <td>0.463813</td>\n",
       "      <td>NOP</td>\n",
       "      <td>BRK</td>\n",
       "      <td>True</td>\n",
       "      <td>115.0</td>\n",
       "      <td>-125.0</td>\n",
       "      <td>0.47</td>\n",
       "      <td>0.56</td>\n",
       "    </tr>\n",
       "    <tr>\n",
       "      <th>2019-01-02</th>\n",
       "      <td>0.552163</td>\n",
       "      <td>0.447837</td>\n",
       "      <td>ORL</td>\n",
       "      <td>CHI</td>\n",
       "      <td>False</td>\n",
       "      <td>102.0</td>\n",
       "      <td>-112.0</td>\n",
       "      <td>0.50</td>\n",
       "      <td>0.53</td>\n",
       "    </tr>\n",
       "    <tr>\n",
       "      <th>...</th>\n",
       "      <td>...</td>\n",
       "      <td>...</td>\n",
       "      <td>...</td>\n",
       "      <td>...</td>\n",
       "      <td>...</td>\n",
       "      <td>...</td>\n",
       "      <td>...</td>\n",
       "      <td>...</td>\n",
       "      <td>...</td>\n",
       "    </tr>\n",
       "    <tr>\n",
       "      <th>2022-03-27</th>\n",
       "      <td>0.347830</td>\n",
       "      <td>0.652170</td>\n",
       "      <td>GSW</td>\n",
       "      <td>WAS</td>\n",
       "      <td>True</td>\n",
       "      <td>226.0</td>\n",
       "      <td>-281.0</td>\n",
       "      <td>0.31</td>\n",
       "      <td>0.74</td>\n",
       "    </tr>\n",
       "    <tr>\n",
       "      <th>2022-03-27</th>\n",
       "      <td>0.766541</td>\n",
       "      <td>0.233459</td>\n",
       "      <td>MIN</td>\n",
       "      <td>BOS</td>\n",
       "      <td>True</td>\n",
       "      <td>-259.0</td>\n",
       "      <td>208.0</td>\n",
       "      <td>0.72</td>\n",
       "      <td>0.32</td>\n",
       "    </tr>\n",
       "    <tr>\n",
       "      <th>2022-03-27</th>\n",
       "      <td>0.755368</td>\n",
       "      <td>0.244632</td>\n",
       "      <td>LAL</td>\n",
       "      <td>NOP</td>\n",
       "      <td>True</td>\n",
       "      <td>-173.0</td>\n",
       "      <td>143.0</td>\n",
       "      <td>0.63</td>\n",
       "      <td>0.41</td>\n",
       "    </tr>\n",
       "    <tr>\n",
       "      <th>2022-03-27</th>\n",
       "      <td>0.621091</td>\n",
       "      <td>0.378909</td>\n",
       "      <td>UTA</td>\n",
       "      <td>DAL</td>\n",
       "      <td>True</td>\n",
       "      <td>-168.0</td>\n",
       "      <td>139.0</td>\n",
       "      <td>0.63</td>\n",
       "      <td>0.42</td>\n",
       "    </tr>\n",
       "    <tr>\n",
       "      <th>2022-03-27</th>\n",
       "      <td>0.660568</td>\n",
       "      <td>0.339432</td>\n",
       "      <td>CHO</td>\n",
       "      <td>BRK</td>\n",
       "      <td>False</td>\n",
       "      <td>-270.0</td>\n",
       "      <td>217.0</td>\n",
       "      <td>0.73</td>\n",
       "      <td>0.32</td>\n",
       "    </tr>\n",
       "  </tbody>\n",
       "</table>\n",
       "<p>4193 rows × 9 columns</p>\n",
       "</div>"
      ],
      "text/plain": [
       "            HomeTeamProb  AwayTeamProb AwayTeam HomeTeam  HomeTeamHasWon  \\\n",
       "datetime                                                                   \n",
       "2019-01-02      0.671360      0.328640      DAL      CHO           False   \n",
       "2019-01-02      0.421730      0.578270      MIA      CLE           False   \n",
       "2019-01-02      0.724603      0.275397      ATL      WAS            True   \n",
       "2019-01-02      0.536187      0.463813      NOP      BRK            True   \n",
       "2019-01-02      0.552163      0.447837      ORL      CHI           False   \n",
       "...                  ...           ...      ...      ...             ...   \n",
       "2022-03-27      0.347830      0.652170      GSW      WAS            True   \n",
       "2022-03-27      0.766541      0.233459      MIN      BOS            True   \n",
       "2022-03-27      0.755368      0.244632      LAL      NOP            True   \n",
       "2022-03-27      0.621091      0.378909      UTA      DAL            True   \n",
       "2022-03-27      0.660568      0.339432      CHO      BRK           False   \n",
       "\n",
       "            ConsensusHomeMoneyLine  ConsensusAwayMoneyLine  ActualHomeWinProb  \\\n",
       "datetime                                                                        \n",
       "2019-01-02                  -117.0                   107.0               0.54   \n",
       "2019-01-02                   210.0                  -230.0               0.32   \n",
       "2019-01-02                  -240.0                   220.0               0.71   \n",
       "2019-01-02                   115.0                  -125.0               0.47   \n",
       "2019-01-02                   102.0                  -112.0               0.50   \n",
       "...                            ...                     ...                ...   \n",
       "2022-03-27                   226.0                  -281.0               0.31   \n",
       "2022-03-27                  -259.0                   208.0               0.72   \n",
       "2022-03-27                  -173.0                   143.0               0.63   \n",
       "2022-03-27                  -168.0                   139.0               0.63   \n",
       "2022-03-27                  -270.0                   217.0               0.73   \n",
       "\n",
       "            ActualAwayWinProb  \n",
       "datetime                       \n",
       "2019-01-02               0.48  \n",
       "2019-01-02               0.70  \n",
       "2019-01-02               0.31  \n",
       "2019-01-02               0.56  \n",
       "2019-01-02               0.53  \n",
       "...                       ...  \n",
       "2022-03-27               0.74  \n",
       "2022-03-27               0.32  \n",
       "2022-03-27               0.41  \n",
       "2022-03-27               0.42  \n",
       "2022-03-27               0.32  \n",
       "\n",
       "[4193 rows x 9 columns]"
      ]
     },
     "execution_count": 7,
     "metadata": {},
     "output_type": "execute_result"
    }
   ],
   "source": [
    "f"
   ]
  },
  {
   "cell_type": "code",
   "execution_count": 8,
   "metadata": {
    "ExecuteTime": {
     "end_time": "2022-03-31T02:46:58.192840Z",
     "start_time": "2022-03-31T02:46:58.174884Z"
    }
   },
   "outputs": [
    {
     "data": {
      "text/plain": [
       "Index(['HomeTeamProb', 'AwayTeamProb', 'AwayTeam', 'HomeTeam',\n",
       "       'HomeTeamHasWon', 'ConsensusHomeMoneyLine', 'ConsensusAwayMoneyLine',\n",
       "       'ActualHomeWinProb', 'ActualAwayWinProb'],\n",
       "      dtype='object')"
      ]
     },
     "execution_count": 8,
     "metadata": {},
     "output_type": "execute_result"
    }
   ],
   "source": [
    "f.columns"
   ]
  },
  {
   "cell_type": "markdown",
   "metadata": {},
   "source": [
    "# strategy one: invest a team for 0.2 dollar if probability shows that team a win"
   ]
  },
  {
   "cell_type": "code",
   "execution_count": 9,
   "metadata": {
    "ExecuteTime": {
     "end_time": "2022-03-31T02:46:58.985385Z",
     "start_time": "2022-03-31T02:46:58.982394Z"
    }
   },
   "outputs": [],
   "source": [
    "import numpy as np"
   ]
  },
  {
   "cell_type": "code",
   "execution_count": 13,
   "metadata": {
    "ExecuteTime": {
     "end_time": "2022-03-31T02:50:54.102926Z",
     "start_time": "2022-03-31T02:50:53.814950Z"
    }
   },
   "outputs": [
    {
     "data": {
      "text/plain": [
       "<matplotlib.axes._subplots.AxesSubplot at 0x1e0e1ca6cc8>"
      ]
     },
     "execution_count": 13,
     "metadata": {},
     "output_type": "execute_result"
    },
    {
     "data": {
      "image/png": "[encoded data removed]",
      "text/plain": [
       "<Figure size 432x288 with 1 Axes>"
      ]
     },
     "metadata": {
      "needs_background": "light"
     },
     "output_type": "display_data"
    }
   ],
   "source": [
    "f.loc[:, \"InvestHome\"] = f.loc[:, \"HomeTeamProb\"].apply(lambda x: 1 if x>0.5 else 0)\n",
    "\n",
    "f.loc[:, \"InvestAway\"] = f.loc[:, \"AwayTeamProb\"].apply(lambda x: 1 if x>0.5 else 0)\n",
    "\n",
    "f.loc[:, \"home_bet_win_result\"] = f.loc[:, \"HomeTeamHasWon\"]\n",
    "f.loc[:, \"home_bet_lose_result\"] = abs(f.loc[:, \"HomeTeamHasWon\"]-1)\n",
    "\n",
    "\n",
    "f.loc[:, \"away_bet_win_result\"] = abs(f.loc[:, \"HomeTeamHasWon\"] - 1)\n",
    "f.loc[:, \"away_bet_lose_result\"] = f.loc[:, \"HomeTeamHasWon\"]\n",
    "\n",
    "f.loc[:, \"home_win_total\"] = f.loc[:, \"ConsensusHomeMoneyLine\"].apply(lambda x: x/100 if x >=0 else 100/abs(x) )\n",
    "\n",
    "f.loc[:, \"away_win_total\"] = f.loc[:, \"ConsensusAwayMoneyLine\"].apply(lambda x: x/100 if x >=0 else 100/abs(x) )\n",
    "f.loc[:, \"home_lose_total\"] = -1\n",
    "\n",
    "f.loc[:, \"away_lose_total\"] = -1\n",
    "\n",
    "f.loc[:, \"home_bet_earning\"] = f.loc[:, \"home_bet_win_result\"] * f.loc[:, \"home_win_total\"] * f.loc[:, \"InvestHome\"] + f.loc[:, \"home_bet_lose_result\"] * f.loc[:, \"home_lose_total\"] * f.loc[:, \"InvestHome\"]\n",
    "\n",
    "f.loc[:, \"away_bet_earning\"] = f.loc[:, \"away_bet_win_result\"] * f.loc[:, \"away_win_total\"] * f.loc[:, \"InvestAway\"] + f.loc[:, \"away_bet_lose_result\"] * f.loc[:, \"away_lose_total\"] * f.loc[:, \"InvestAway\"]\n",
    "\n",
    "f.loc[:, \"bet_earning_sum\"] =  f.loc[:, \"home_bet_earning\"]  + f.loc[:, \"away_bet_earning\"]\n",
    "\n",
    "f.loc[:, \"bet_earning_cum_sum\"] = f.loc[:, \"bet_earning_sum\"].cumsum()\n",
    "\n",
    "f.loc[:, \"bet_earning_cum_sum\"].plot()\n",
    "\n",
    "#print(\"average investment per game= {}\".format(np.mean(f.loc[:, \"InvestHome\"].mean())))"
   ]
  },
  {
   "cell_type": "code",
   "execution_count": 14,
   "metadata": {
    "ExecuteTime": {
     "end_time": "2022-03-31T02:51:11.654610Z",
     "start_time": "2022-03-31T02:51:11.422123Z"
    }
   },
   "outputs": [],
   "source": [
    "f.to_csv(\"result_strategy1.csv\")"
   ]
  },
  {
   "cell_type": "code",
   "execution_count": 12,
   "metadata": {
    "ExecuteTime": {
     "end_time": "2022-03-31T02:50:18.245157Z",
     "start_time": "2022-03-31T02:50:17.998913Z"
    },
    "scrolled": true
   },
   "outputs": [
    {
     "data": {
      "text/plain": [
       "<matplotlib.axes._subplots.AxesSubplot at 0x1e0df7ed348>"
      ]
     },
     "execution_count": 12,
     "metadata": {},
     "output_type": "execute_result"
    },
    {
     "data": {
      "image/png": "[encoded data removed]",
      "text/plain": [
       "<Figure size 432x288 with 1 Axes>"
      ]
     },
     "metadata": {
      "needs_background": "light"
     },
     "output_type": "display_data"
    }
   ],
   "source": [
    "f.loc[:, \"kellyHome\"] = (((1 - f.loc[:, \"ActualHomeWinProb\"]) / f.loc[:, \"ActualHomeWinProb\"]) * f.loc[:, \"HomeTeamProb\"] - (1 - f.loc[:, \"HomeTeamProb\"])) / (\n",
    "                    (1 - f.loc[:, \"ActualHomeWinProb\"]) / f.loc[:, \"ActualHomeWinProb\"])\n",
    "\n",
    "f.loc[:, \"kellyAway\"] = (((1 - f.loc[:, \"ActualAwayWinProb\"]) / f.loc[:, \"ActualAwayWinProb\"]) * f.loc[:, \"AwayTeamProb\"] - (1 - f.loc[:, \"AwayTeamProb\"])) / (\n",
    "                    (1 - f.loc[:, \"ActualAwayWinProb\"]) / f.loc[:, \"ActualAwayWinProb\"])\n",
    "\n",
    "\n",
    "\n",
    "f.loc[:, \"kellyHome\"] = f.loc[:, \"kellyHome\"].apply(lambda x: x if x > 0.0 else 0)\n",
    "f.loc[:, \"kellyAway\"] = f.loc[:, \"kellyAway\"].apply(lambda x: x if x > 0.0 else 0)\n",
    "#f.loc[:, \"kellyHome\"] = f.loc[:, \"kellyHome\"].apply(lambda x: 0.2 if x > 0.2 else x)\n",
    "#f.loc[:, \"kellyAway\"] = f.loc[:, \"kellyAway\"].apply(lambda x: 0.2 if x > 0.2 else x)\n",
    "\n",
    "f.loc[:, \"home_bet_win_result\"] = f.loc[:, \"HomeTeamHasWon\"]\n",
    "f.loc[:, \"home_bet_lose_result\"] = abs(f.loc[:, \"HomeTeamHasWon\"]-1)\n",
    "\n",
    "\n",
    "f.loc[:, \"away_bet_win_result\"] = abs(f.loc[:, \"HomeTeamHasWon\"] - 1)\n",
    "f.loc[:, \"away_bet_lose_result\"] = f.loc[:, \"HomeTeamHasWon\"]\n",
    "\n",
    "f.loc[:, \"home_win_total\"] = f.loc[:, \"ConsensusHomeMoneyLine\"].apply(lambda x: x/100 if x >=0 else 100/abs(x) )\n",
    "\n",
    "f.loc[:, \"away_win_total\"] = f.loc[:, \"ConsensusAwayMoneyLine\"].apply(lambda x: x/100 if x >=0 else 100/abs(x) )\n",
    "f.loc[:, \"home_lose_total\"] = -1\n",
    "\n",
    "f.loc[:, \"away_lose_total\"] = -1\n",
    "\n",
    "\n",
    "\n",
    "f.loc[:, \"home_bet_earning\"] = f.loc[:, \"home_bet_win_result\"] * f.loc[:, \"home_win_total\"] * f.loc[:, \"kellyHome\"] + f.loc[:, \"home_bet_lose_result\"] * f.loc[:, \"home_lose_total\"] * f.loc[:, \"kellyHome\"]\n",
    "\n",
    "f.loc[:, \"away_bet_earning\"] = f.loc[:, \"away_bet_win_result\"] * f.loc[:, \"away_win_total\"] * f.loc[:, \"kellyAway\"] + f.loc[:, \"away_bet_lose_result\"] * f.loc[:, \"away_lose_total\"] * f.loc[:, \"kellyAway\"]\n",
    "\n",
    "f.loc[:, \"bet_earning_sum\"] =  f.loc[:, \"home_bet_earning\"]  + f.loc[:, \"away_bet_earning\"]\n",
    "\n",
    "f.loc[:, \"bet_earning_cum_sum\"] = f.loc[:, \"bet_earning_sum\"].cumsum()\n",
    "\n",
    "f.loc[:, \"bet_earning_cum_sum\"].plot()\n",
    "\n",
    "\n"
   ]
  },
  {
   "cell_type": "code",
   "execution_count": 52,
   "metadata": {
    "ExecuteTime": {
     "end_time": "2022-03-30T02:37:59.676046Z",
     "start_time": "2022-03-30T02:37:59.672111Z"
    }
   },
   "outputs": [
    {
     "data": {
      "text/plain": [
       "4193"
      ]
     },
     "execution_count": 52,
     "metadata": {},
     "output_type": "execute_result"
    }
   ],
   "source": [
    "len(f)"
   ]
  },
  {
   "cell_type": "code",
   "execution_count": null,
   "metadata": {},
   "outputs": [],
   "source": [
    "im"
   ]
  },
  {
   "cell_type": "code",
   "execution_count": 49,
   "metadata": {
    "ExecuteTime": {
     "end_time": "2022-03-30T02:30:22.870255Z",
     "start_time": "2022-03-30T02:30:22.865377Z"
    }
   },
   "outputs": [
    {
     "data": {
      "text/plain": [
       "0.1279431506276686"
      ]
     },
     "execution_count": 49,
     "metadata": {},
     "output_type": "execute_result"
    }
   ],
   "source": [
    "f.loc[:, \"kellyHome\"].mean()"
   ]
  },
  {
   "cell_type": "code",
   "execution_count": 45,
   "metadata": {
    "ExecuteTime": {
     "end_time": "2022-03-30T02:23:20.379768Z",
     "start_time": "2022-03-30T02:23:20.233143Z"
    }
   },
   "outputs": [],
   "source": [
    "f.to_csv(\"result_kelly.csv\")"
   ]
  },
  {
   "cell_type": "code",
   "execution_count": 91,
   "metadata": {
    "ExecuteTime": {
     "end_time": "2022-03-30T03:13:06.831246Z",
     "start_time": "2022-03-30T03:13:06.601833Z"
    }
   },
   "outputs": [
    {
     "data": {
      "text/plain": [
       "<matplotlib.axes._subplots.AxesSubplot at 0x1f544623bc8>"
      ]
     },
     "execution_count": 91,
     "metadata": {},
     "output_type": "execute_result"
    },
    {
     "data": {
      "image/png": "[encoded data removed]",
      "text/plain": [
       "<Figure size 432x288 with 1 Axes>"
      ]
     },
     "metadata": {
      "needs_background": "light"
     },
     "output_type": "display_data"
    }
   ],
   "source": [
    "f.loc[:, \"kellyHome\"] = f.loc[:, \"HomeTeamProb\"].apply(lambda x: 1 if x>0.8 else 0)\n",
    "\n",
    "f.loc[:, \"kellyAway\"] = f.loc[:, \"AwayTeamProb\"].apply(lambda x: 1 if x>0.8 else 0)\n",
    "\n",
    "f.loc[:, \"home_bet_win_result\"] = f.loc[:, \"HomeTeamHasWon\"].apply(lambda x: 1 if x is True else 0)\n",
    "f.loc[:, \"home_bet_lose_result\"] = f.loc[:, \"HomeTeamHasWon\"].apply(lambda x: 0 if x is True else 1)\n",
    "\n",
    "\n",
    "f.loc[:, \"away_bet_win_result\"] = f.loc[:, \"HomeTeamHasWon\"].apply(lambda x: 0 if x is True else 1)\n",
    "f.loc[:, \"away_bet_lose_result\"] = f.loc[:, \"HomeTeamHasWon\"].apply(lambda x: 1 if x is True else 0)\n",
    "\n",
    "f.loc[:, \"home_win_total\"] = f.loc[:, \"ConsensusHomeMoneyLine\"].apply(lambda x: x/100 if x >=0 else 100/abs(x) )\n",
    "\n",
    "f.loc[:, \"away_win_total\"] = f.loc[:, \"ConsensusAwayMoneyLine\"].apply(lambda x: x/100 if x >=0 else 100/abs(x) )\n",
    "f.loc[:, \"home_lose_total\"] = -1\n",
    "\n",
    "f.loc[:, \"away_lose_total\"] = -1\n",
    "\n",
    "\n",
    "\n",
    "f.loc[:, \"home_bet_earning\"] = f.loc[:, \"home_bet_win_result\"] * f.loc[:, \"home_win_total\"] * f.loc[:, \"kellyHome\"] + f.loc[:, \"home_bet_lose_result\"] * f.loc[:, \"home_lose_total\"] * f.loc[:, \"kellyHome\"]\n",
    "\n",
    "f.loc[:, \"away_bet_earning\"] = f.loc[:, \"away_bet_win_result\"] * f.loc[:, \"away_win_total\"] * f.loc[:, \"kellyAway\"] + f.loc[:, \"away_bet_lose_result\"] * f.loc[:, \"away_lose_total\"] * f.loc[:, \"kellyAway\"]\n",
    "\n",
    "f.loc[:, \"bet_earning_sum\"] =  f.loc[:, \"home_bet_earning\"]  + f.loc[:, \"away_bet_earning\"]\n",
    "\n",
    "f.loc[:, \"bet_earning_cum_sum\"] = f.loc[:, \"bet_earning_sum\"].cumsum()\n",
    "\n",
    "f.loc[:, \"bet_earning_cum_sum\"].plot()\n",
    "\n",
    "\n",
    "\n"
   ]
  },
  {
   "cell_type": "code",
   "execution_count": 63,
   "metadata": {
    "ExecuteTime": {
     "end_time": "2022-03-30T02:41:10.334328Z",
     "start_time": "2022-03-30T02:41:10.327499Z"
    }
   },
   "outputs": [
    {
     "data": {
      "text/plain": [
       "Index(['HomeTeamProb', 'AwayTeamProb', 'AwayTeam', 'HomeTeam',\n",
       "       'HomeTeamHasWon', 'ConsensusHomeMoneyLine', 'ConsensusAwayMoneyLine',\n",
       "       'ActualHomeWinProb', 'ActualAwayWinProb', 'kellyHome', 'kellyAway',\n",
       "       'home_bet_win_result', 'home_bet_lose_result', 'away_bet_win_result',\n",
       "       'away_bet_lose_result', 'home_win_total', 'away_win_total',\n",
       "       'home_lose_total', 'away_lose_total', 'home_bet_earning',\n",
       "       'away_bet_earning', 'bet_earning_sum', 'bet_earning_cum_sum'],\n",
       "      dtype='object')"
      ]
     },
     "execution_count": 63,
     "metadata": {},
     "output_type": "execute_result"
    }
   ],
   "source": [
    "f.columns"
   ]
  },
  {
   "cell_type": "code",
   "execution_count": 64,
   "metadata": {
    "ExecuteTime": {
     "end_time": "2022-03-30T02:41:11.998480Z",
     "start_time": "2022-03-30T02:41:11.912250Z"
    }
   },
   "outputs": [
    {
     "data": {
      "text/html": [
       "<div>\n",
       "<style scoped>\n",
       "    .dataframe tbody tr th:only-of-type {\n",
       "        vertical-align: middle;\n",
       "    }\n",
       "\n",
       "    .dataframe tbody tr th {\n",
       "        vertical-align: top;\n",
       "    }\n",
       "\n",
       "    .dataframe thead th {\n",
       "        text-align: right;\n",
       "    }\n",
       "</style>\n",
       "<table border=\"1\" class=\"dataframe\">\n",
       "  <thead>\n",
       "    <tr style=\"text-align: right;\">\n",
       "      <th></th>\n",
       "      <th>HomeTeamProb</th>\n",
       "      <th>AwayTeamProb</th>\n",
       "      <th>ConsensusHomeMoneyLine</th>\n",
       "      <th>ConsensusAwayMoneyLine</th>\n",
       "      <th>ActualHomeWinProb</th>\n",
       "      <th>ActualAwayWinProb</th>\n",
       "      <th>kellyHome</th>\n",
       "      <th>kellyAway</th>\n",
       "      <th>home_bet_win_result</th>\n",
       "      <th>home_bet_lose_result</th>\n",
       "      <th>away_bet_win_result</th>\n",
       "      <th>away_bet_lose_result</th>\n",
       "      <th>home_win_total</th>\n",
       "      <th>away_win_total</th>\n",
       "      <th>home_lose_total</th>\n",
       "      <th>away_lose_total</th>\n",
       "      <th>home_bet_earning</th>\n",
       "      <th>away_bet_earning</th>\n",
       "      <th>bet_earning_sum</th>\n",
       "      <th>bet_earning_cum_sum</th>\n",
       "    </tr>\n",
       "  </thead>\n",
       "  <tbody>\n",
       "    <tr>\n",
       "      <th>count</th>\n",
       "      <td>4193.000000</td>\n",
       "      <td>4193.000000</td>\n",
       "      <td>4193.000000</td>\n",
       "      <td>4193.000000</td>\n",
       "      <td>4193.000000</td>\n",
       "      <td>4193.000000</td>\n",
       "      <td>4193.000000</td>\n",
       "      <td>4193.000000</td>\n",
       "      <td>4193.000000</td>\n",
       "      <td>4193.000000</td>\n",
       "      <td>4193.000000</td>\n",
       "      <td>4193.000000</td>\n",
       "      <td>4193.000000</td>\n",
       "      <td>4193.000000</td>\n",
       "      <td>4193.000000</td>\n",
       "      <td>4193.000000</td>\n",
       "      <td>4193.000000</td>\n",
       "      <td>4193.000000</td>\n",
       "      <td>4193.000000</td>\n",
       "      <td>4193.000000</td>\n",
       "    </tr>\n",
       "    <tr>\n",
       "      <th>mean</th>\n",
       "      <td>0.616476</td>\n",
       "      <td>0.383524</td>\n",
       "      <td>-162.839256</td>\n",
       "      <td>67.033627</td>\n",
       "      <td>0.583637</td>\n",
       "      <td>0.457572</td>\n",
       "      <td>0.734796</td>\n",
       "      <td>0.265204</td>\n",
       "      <td>0.551634</td>\n",
       "      <td>0.448366</td>\n",
       "      <td>0.448366</td>\n",
       "      <td>0.551634</td>\n",
       "      <td>1.051740</td>\n",
       "      <td>1.905691</td>\n",
       "      <td>-0.734796</td>\n",
       "      <td>-0.265204</td>\n",
       "      <td>-0.044312</td>\n",
       "      <td>-0.007889</td>\n",
       "      <td>-0.052201</td>\n",
       "      <td>-112.287932</td>\n",
       "    </tr>\n",
       "    <tr>\n",
       "      <th>std</th>\n",
       "      <td>0.177444</td>\n",
       "      <td>0.177444</td>\n",
       "      <td>447.905005</td>\n",
       "      <td>337.188757</td>\n",
       "      <td>0.202803</td>\n",
       "      <td>0.203287</td>\n",
       "      <td>0.441494</td>\n",
       "      <td>0.441494</td>\n",
       "      <td>0.497386</td>\n",
       "      <td>0.497386</td>\n",
       "      <td>0.497386</td>\n",
       "      <td>0.497386</td>\n",
       "      <td>1.156518</td>\n",
       "      <td>2.029686</td>\n",
       "      <td>0.441494</td>\n",
       "      <td>0.441494</td>\n",
       "      <td>0.677799</td>\n",
       "      <td>0.386988</td>\n",
       "      <td>0.780046</td>\n",
       "      <td>80.279525</td>\n",
       "    </tr>\n",
       "    <tr>\n",
       "      <th>min</th>\n",
       "      <td>0.098624</td>\n",
       "      <td>0.036365</td>\n",
       "      <td>-7500.000000</td>\n",
       "      <td>-1800.000000</td>\n",
       "      <td>0.070000</td>\n",
       "      <td>0.050000</td>\n",
       "      <td>0.000000</td>\n",
       "      <td>0.000000</td>\n",
       "      <td>0.000000</td>\n",
       "      <td>0.000000</td>\n",
       "      <td>0.000000</td>\n",
       "      <td>0.000000</td>\n",
       "      <td>0.013333</td>\n",
       "      <td>0.055556</td>\n",
       "      <td>-1.000000</td>\n",
       "      <td>-1.000000</td>\n",
       "      <td>-1.000000</td>\n",
       "      <td>-1.000000</td>\n",
       "      <td>-1.000000</td>\n",
       "      <td>-224.972705</td>\n",
       "    </tr>\n",
       "    <tr>\n",
       "      <th>25%</th>\n",
       "      <td>0.491178</td>\n",
       "      <td>0.244199</td>\n",
       "      <td>-286.000000</td>\n",
       "      <td>-157.000000</td>\n",
       "      <td>0.430000</td>\n",
       "      <td>0.300000</td>\n",
       "      <td>0.000000</td>\n",
       "      <td>0.000000</td>\n",
       "      <td>0.000000</td>\n",
       "      <td>0.000000</td>\n",
       "      <td>0.000000</td>\n",
       "      <td>0.000000</td>\n",
       "      <td>0.349650</td>\n",
       "      <td>0.636943</td>\n",
       "      <td>-1.000000</td>\n",
       "      <td>-1.000000</td>\n",
       "      <td>-1.000000</td>\n",
       "      <td>0.000000</td>\n",
       "      <td>-1.000000</td>\n",
       "      <td>-185.166809</td>\n",
       "    </tr>\n",
       "    <tr>\n",
       "      <th>50%</th>\n",
       "      <td>0.636116</td>\n",
       "      <td>0.363884</td>\n",
       "      <td>-147.000000</td>\n",
       "      <td>124.000000</td>\n",
       "      <td>0.600000</td>\n",
       "      <td>0.450000</td>\n",
       "      <td>1.000000</td>\n",
       "      <td>0.000000</td>\n",
       "      <td>1.000000</td>\n",
       "      <td>0.000000</td>\n",
       "      <td>0.000000</td>\n",
       "      <td>1.000000</td>\n",
       "      <td>0.680272</td>\n",
       "      <td>1.240000</td>\n",
       "      <td>-1.000000</td>\n",
       "      <td>0.000000</td>\n",
       "      <td>0.000000</td>\n",
       "      <td>0.000000</td>\n",
       "      <td>0.210084</td>\n",
       "      <td>-134.376777</td>\n",
       "    </tr>\n",
       "    <tr>\n",
       "      <th>75%</th>\n",
       "      <td>0.755801</td>\n",
       "      <td>0.508822</td>\n",
       "      <td>133.000000</td>\n",
       "      <td>234.000000</td>\n",
       "      <td>0.740000</td>\n",
       "      <td>0.610000</td>\n",
       "      <td>1.000000</td>\n",
       "      <td>1.000000</td>\n",
       "      <td>1.000000</td>\n",
       "      <td>1.000000</td>\n",
       "      <td>1.000000</td>\n",
       "      <td>1.000000</td>\n",
       "      <td>1.330000</td>\n",
       "      <td>2.340000</td>\n",
       "      <td>0.000000</td>\n",
       "      <td>0.000000</td>\n",
       "      <td>0.373134</td>\n",
       "      <td>0.000000</td>\n",
       "      <td>0.497512</td>\n",
       "      <td>-30.214082</td>\n",
       "    </tr>\n",
       "    <tr>\n",
       "      <th>max</th>\n",
       "      <td>0.963635</td>\n",
       "      <td>0.901376</td>\n",
       "      <td>1400.000000</td>\n",
       "      <td>1800.000000</td>\n",
       "      <td>0.990000</td>\n",
       "      <td>0.950000</td>\n",
       "      <td>1.000000</td>\n",
       "      <td>1.000000</td>\n",
       "      <td>1.000000</td>\n",
       "      <td>1.000000</td>\n",
       "      <td>1.000000</td>\n",
       "      <td>1.000000</td>\n",
       "      <td>14.000000</td>\n",
       "      <td>18.000000</td>\n",
       "      <td>0.000000</td>\n",
       "      <td>0.000000</td>\n",
       "      <td>5.880000</td>\n",
       "      <td>4.270000</td>\n",
       "      <td>5.880000</td>\n",
       "      <td>6.570217</td>\n",
       "    </tr>\n",
       "  </tbody>\n",
       "</table>\n",
       "</div>"
      ],
      "text/plain": [
       "       HomeTeamProb  AwayTeamProb  ConsensusHomeMoneyLine  \\\n",
       "count   4193.000000   4193.000000             4193.000000   \n",
       "mean       0.616476      0.383524             -162.839256   \n",
       "std        0.177444      0.177444              447.905005   \n",
       "min        0.098624      0.036365            -7500.000000   \n",
       "25%        0.491178      0.244199             -286.000000   \n",
       "50%        0.636116      0.363884             -147.000000   \n",
       "75%        0.755801      0.508822              133.000000   \n",
       "max        0.963635      0.901376             1400.000000   \n",
       "\n",
       "       ConsensusAwayMoneyLine  ActualHomeWinProb  ActualAwayWinProb  \\\n",
       "count             4193.000000        4193.000000        4193.000000   \n",
       "mean                67.033627           0.583637           0.457572   \n",
       "std                337.188757           0.202803           0.203287   \n",
       "min              -1800.000000           0.070000           0.050000   \n",
       "25%               -157.000000           0.430000           0.300000   \n",
       "50%                124.000000           0.600000           0.450000   \n",
       "75%                234.000000           0.740000           0.610000   \n",
       "max               1800.000000           0.990000           0.950000   \n",
       "\n",
       "         kellyHome    kellyAway  home_bet_win_result  home_bet_lose_result  \\\n",
       "count  4193.000000  4193.000000          4193.000000           4193.000000   \n",
       "mean      0.734796     0.265204             0.551634              0.448366   \n",
       "std       0.441494     0.441494             0.497386              0.497386   \n",
       "min       0.000000     0.000000             0.000000              0.000000   \n",
       "25%       0.000000     0.000000             0.000000              0.000000   \n",
       "50%       1.000000     0.000000             1.000000              0.000000   \n",
       "75%       1.000000     1.000000             1.000000              1.000000   \n",
       "max       1.000000     1.000000             1.000000              1.000000   \n",
       "\n",
       "       away_bet_win_result  away_bet_lose_result  home_win_total  \\\n",
       "count          4193.000000           4193.000000     4193.000000   \n",
       "mean              0.448366              0.551634        1.051740   \n",
       "std               0.497386              0.497386        1.156518   \n",
       "min               0.000000              0.000000        0.013333   \n",
       "25%               0.000000              0.000000        0.349650   \n",
       "50%               0.000000              1.000000        0.680272   \n",
       "75%               1.000000              1.000000        1.330000   \n",
       "max               1.000000              1.000000       14.000000   \n",
       "\n",
       "       away_win_total  home_lose_total  away_lose_total  home_bet_earning  \\\n",
       "count     4193.000000      4193.000000      4193.000000       4193.000000   \n",
       "mean         1.905691        -0.734796        -0.265204         -0.044312   \n",
       "std          2.029686         0.441494         0.441494          0.677799   \n",
       "min          0.055556        -1.000000        -1.000000         -1.000000   \n",
       "25%          0.636943        -1.000000        -1.000000         -1.000000   \n",
       "50%          1.240000        -1.000000         0.000000          0.000000   \n",
       "75%          2.340000         0.000000         0.000000          0.373134   \n",
       "max         18.000000         0.000000         0.000000          5.880000   \n",
       "\n",
       "       away_bet_earning  bet_earning_sum  bet_earning_cum_sum  \n",
       "count       4193.000000      4193.000000          4193.000000  \n",
       "mean          -0.007889        -0.052201          -112.287932  \n",
       "std            0.386988         0.780046            80.279525  \n",
       "min           -1.000000        -1.000000          -224.972705  \n",
       "25%            0.000000        -1.000000          -185.166809  \n",
       "50%            0.000000         0.210084          -134.376777  \n",
       "75%            0.000000         0.497512           -30.214082  \n",
       "max            4.270000         5.880000             6.570217  "
      ]
     },
     "execution_count": 64,
     "metadata": {},
     "output_type": "execute_result"
    }
   ],
   "source": [
    "f.describe()"
   ]
  },
  {
   "cell_type": "code",
   "execution_count": 15,
   "metadata": {
    "ExecuteTime": {
     "end_time": "2022-03-31T03:10:09.484871Z",
     "start_time": "2022-03-31T03:10:09.476822Z"
    }
   },
   "outputs": [
    {
     "data": {
      "text/plain": [
       "Index(['HomeTeamProb', 'AwayTeamProb', 'AwayTeam', 'HomeTeam',\n",
       "       'HomeTeamHasWon', 'ConsensusHomeMoneyLine', 'ConsensusAwayMoneyLine',\n",
       "       'ActualHomeWinProb', 'ActualAwayWinProb', 'InvestHome', 'InvestAway',\n",
       "       'home_bet_win_result', 'home_bet_lose_result', 'away_bet_win_result',\n",
       "       'away_bet_lose_result', 'home_win_total', 'away_win_total',\n",
       "       'home_lose_total', 'away_lose_total', 'home_bet_earning',\n",
       "       'away_bet_earning', 'bet_earning_sum', 'bet_earning_cum_sum',\n",
       "       'kellyHome', 'kellyAway'],\n",
       "      dtype='object')"
      ]
     },
     "execution_count": 15,
     "metadata": {},
     "output_type": "execute_result"
    }
   ],
   "source": [
    "f.columns"
   ]
  },
  {
   "cell_type": "code",
   "execution_count": null,
   "metadata": {},
   "outputs": [],
   "source": []
  }
 ],
 "metadata": {
  "hide_input": false,
  "kernelspec": {
   "display_name": "Python [conda env:py37]",
   "language": "python",
   "name": "conda-env-py37-py"
  },
  "language_info": {
   "codemirror_mode": {
    "name": "ipython",
    "version": 3
   },
   "file_extension": ".py",
   "mimetype": "text/x-python",
   "name": "python",
   "nbconvert_exporter": "python",
   "pygments_lexer": "ipython3",
   "version": "3.7.5"
  },
  "toc": {
   "base_numbering": 1,
   "nav_menu": {},
   "number_sections": true,
   "sideBar": true,
   "skip_h1_title": false,
   "title_cell": "Table of Contents",
   "title_sidebar": "Contents",
   "toc_cell": false,
   "toc_position": {},
   "toc_section_display": true,
   "toc_window_display": false
  },
  "varInspector": {
   "cols": {
    "lenName": 16,
    "lenType": 16,
    "lenVar": 40
   },
   "kernels_config": {
    "python": {
     "delete_cmd_postfix": "",
     "delete_cmd_prefix": "del ",
     "library": "var_list.py",
     "varRefreshCmd": "print(var_dic_list())"
    },
    "r": {
     "delete_cmd_postfix": ") ",
     "delete_cmd_prefix": "rm(",
     "library": "var_list.r",
     "varRefreshCmd": "cat(var_dic_list()) "
    }
   },
   "types_to_exclude": [
    "module",
    "function",
    "builtin_function_or_method",
    "instance",
    "_Feature"
   ],
   "window_display": false
  }
 },
 "nbformat": 4,
 "nbformat_minor": 2
}
