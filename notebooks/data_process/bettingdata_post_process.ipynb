{
 "cells": [
  {
   "cell_type": "code",
   "execution_count": 43,
   "metadata": {
    "ExecuteTime": {
     "end_time": "2022-03-29T00:56:07.210911Z",
     "start_time": "2022-03-29T00:56:07.206550Z"
    }
   },
   "outputs": [],
   "source": [
    "import glob\n",
    "import os\n",
    "import pandas as pd\n",
    "import datetime"
   ]
  },
  {
   "cell_type": "code",
   "execution_count": 2,
   "metadata": {
    "ExecuteTime": {
     "end_time": "2022-03-29T00:40:46.759270Z",
     "start_time": "2022-03-29T00:40:46.738346Z"
    }
   },
   "outputs": [
    {
     "name": "stdout",
     "output_type": "stream",
     "text": [
      " 驱动器 D 中的卷是 data\n",
      " 卷的序列号是 9C5F-B0F2\n",
      "\n",
      " D:\\project\\nba_crawler 的目录\n",
      "\n",
      "2022/03/28  20:40    <DIR>          .\n",
      "2022/03/28  20:40    <DIR>          ..\n",
      "2022/03/28  20:40    <DIR>          .ipynb_checkpoints\n",
      "2022/03/28  07:18           224,798 bettingdata_log.txt\n",
      "2022/03/28  20:18    <DIR>          bettingdata_odds\n",
      "2022/03/28  07:20           401,863 bettingdata_web_crawler_batch.ipynb\n",
      "2022/03/28  07:01            21,285 bettingdata_web_crawler_draft.ipynb\n",
      "2022/03/27  20:59           305,280 hupu_learn_web_crawler.ipynb\n",
      "2022/03/26  21:32           395,647 log.txt\n",
      "2022/03/28  20:40                72 nba_odds_study.ipynb\n",
      "2022/03/26  21:32            98,974 odds_data.csv\n",
      "2022/03/28  10:00    <DIR>          predictions\n",
      "2022/03/27  23:23                 0 readme.md\n",
      "2022/03/27  23:03           477,608 sportsbookreview_crawler_batch.ipynb\n",
      "2022/03/27  20:59           141,875 sportsbookreview_crawler_draft.ipynb\n",
      "              10 个文件      2,067,402 字节\n",
      "               5 个目录 476,210,388,992 可用字节\n"
     ]
    }
   ],
   "source": [
    "!dir"
   ]
  },
  {
   "cell_type": "code",
   "execution_count": 15,
   "metadata": {
    "ExecuteTime": {
     "end_time": "2022-03-29T00:48:22.333529Z",
     "start_time": "2022-03-29T00:48:22.330601Z"
    }
   },
   "outputs": [],
   "source": [
    "odds_data_folder = r'bettingdata_odds'"
   ]
  },
  {
   "cell_type": "code",
   "execution_count": 18,
   "metadata": {
    "ExecuteTime": {
     "end_time": "2022-03-29T00:48:26.872823Z",
     "start_time": "2022-03-29T00:48:26.865932Z"
    }
   },
   "outputs": [],
   "source": [
    "odds_path_list = glob.glob(os.path.join(odds_data_folder, \"*\"))"
   ]
  },
  {
   "cell_type": "code",
   "execution_count": 24,
   "metadata": {
    "ExecuteTime": {
     "end_time": "2022-03-29T00:50:32.069854Z",
     "start_time": "2022-03-29T00:50:25.314271Z"
    }
   },
   "outputs": [],
   "source": [
    "frame_list = []\n",
    "for odds_path in odds_path_list:\n",
    "    frame_list.append(pd.read_csv(odds_path))"
   ]
  },
  {
   "cell_type": "code",
   "execution_count": 25,
   "metadata": {
    "ExecuteTime": {
     "end_time": "2022-03-29T00:50:48.741421Z",
     "start_time": "2022-03-29T00:50:43.841552Z"
    }
   },
   "outputs": [],
   "source": [
    "frame = pd.concat(frame_list)"
   ]
  },
  {
   "cell_type": "code",
   "execution_count": 31,
   "metadata": {
    "ExecuteTime": {
     "end_time": "2022-03-29T00:52:07.786666Z",
     "start_time": "2022-03-29T00:52:07.754520Z"
    },
    "scrolled": true
   },
   "outputs": [
    {
     "data": {
      "text/html": [
       "<div>\n",
       "<style scoped>\n",
       "    .dataframe tbody tr th:only-of-type {\n",
       "        vertical-align: middle;\n",
       "    }\n",
       "\n",
       "    .dataframe tbody tr th {\n",
       "        vertical-align: top;\n",
       "    }\n",
       "\n",
       "    .dataframe thead th {\n",
       "        text-align: right;\n",
       "    }\n",
       "</style>\n",
       "<table border=\"1\" class=\"dataframe\">\n",
       "  <thead>\n",
       "    <tr style=\"text-align: right;\">\n",
       "      <th></th>\n",
       "      <th>Unnamed: 0</th>\n",
       "      <th>Season</th>\n",
       "      <th>Type</th>\n",
       "      <th>DayString</th>\n",
       "      <th>TimeString</th>\n",
       "      <th>DayOfWeek</th>\n",
       "      <th>DateTimeString</th>\n",
       "      <th>LastUpdated</th>\n",
       "      <th>Status</th>\n",
       "      <th>AwayTeam</th>\n",
       "      <th>...</th>\n",
       "      <th>BarstoolAwayPointSpread</th>\n",
       "      <th>BarstoolHomePointSpreadPayout</th>\n",
       "      <th>BarstoolAwayPointSpreadPayout</th>\n",
       "      <th>BarstoolOverUnder</th>\n",
       "      <th>BarstoolOverPayout</th>\n",
       "      <th>BarstoolUnderPayout</th>\n",
       "      <th>BarstoolHomeTeamTotal</th>\n",
       "      <th>BarstoolAwayTeamTotal</th>\n",
       "      <th>BarstoolHomeTeamTotalPayout</th>\n",
       "      <th>BarstoolAwayTeamTotalPayout</th>\n",
       "    </tr>\n",
       "  </thead>\n",
       "  <tbody>\n",
       "    <tr>\n",
       "      <th>0</th>\n",
       "      <td>0</td>\n",
       "      <td>2020</td>\n",
       "      <td>RegularSeason</td>\n",
       "      <td>1/1/20</td>\n",
       "      <td>6:00 PM ET</td>\n",
       "      <td>Wed</td>\n",
       "      <td>1/1/20 @ 6:00 PM ET</td>\n",
       "      <td>NaN</td>\n",
       "      <td>Final</td>\n",
       "      <td>ORL</td>\n",
       "      <td>...</td>\n",
       "      <td>NaN</td>\n",
       "      <td>NaN</td>\n",
       "      <td>NaN</td>\n",
       "      <td>NaN</td>\n",
       "      <td>NaN</td>\n",
       "      <td>NaN</td>\n",
       "      <td>NaN</td>\n",
       "      <td>NaN</td>\n",
       "      <td>NaN</td>\n",
       "      <td>NaN</td>\n",
       "    </tr>\n",
       "    <tr>\n",
       "      <th>1</th>\n",
       "      <td>1</td>\n",
       "      <td>2020</td>\n",
       "      <td>RegularSeason</td>\n",
       "      <td>1/1/20</td>\n",
       "      <td>7:30 PM ET</td>\n",
       "      <td>Wed</td>\n",
       "      <td>1/1/20 @ 7:30 PM ET</td>\n",
       "      <td>NaN</td>\n",
       "      <td>Final</td>\n",
       "      <td>POR</td>\n",
       "      <td>...</td>\n",
       "      <td>NaN</td>\n",
       "      <td>NaN</td>\n",
       "      <td>NaN</td>\n",
       "      <td>NaN</td>\n",
       "      <td>NaN</td>\n",
       "      <td>NaN</td>\n",
       "      <td>NaN</td>\n",
       "      <td>NaN</td>\n",
       "      <td>NaN</td>\n",
       "      <td>NaN</td>\n",
       "    </tr>\n",
       "    <tr>\n",
       "      <th>2</th>\n",
       "      <td>2</td>\n",
       "      <td>2020</td>\n",
       "      <td>RegularSeason</td>\n",
       "      <td>1/1/20</td>\n",
       "      <td>8:00 PM ET</td>\n",
       "      <td>Wed</td>\n",
       "      <td>1/1/20 @ 8:00 PM ET</td>\n",
       "      <td>NaN</td>\n",
       "      <td>Final</td>\n",
       "      <td>MIN</td>\n",
       "      <td>...</td>\n",
       "      <td>NaN</td>\n",
       "      <td>NaN</td>\n",
       "      <td>NaN</td>\n",
       "      <td>NaN</td>\n",
       "      <td>NaN</td>\n",
       "      <td>NaN</td>\n",
       "      <td>NaN</td>\n",
       "      <td>NaN</td>\n",
       "      <td>NaN</td>\n",
       "      <td>NaN</td>\n",
       "    </tr>\n",
       "    <tr>\n",
       "      <th>3</th>\n",
       "      <td>3</td>\n",
       "      <td>2020</td>\n",
       "      <td>RegularSeason</td>\n",
       "      <td>1/1/20</td>\n",
       "      <td>10:30 PM ET</td>\n",
       "      <td>Wed</td>\n",
       "      <td>1/1/20 @ 10:30 PM ET</td>\n",
       "      <td>NaN</td>\n",
       "      <td>Final</td>\n",
       "      <td>PHO</td>\n",
       "      <td>...</td>\n",
       "      <td>NaN</td>\n",
       "      <td>NaN</td>\n",
       "      <td>NaN</td>\n",
       "      <td>NaN</td>\n",
       "      <td>NaN</td>\n",
       "      <td>NaN</td>\n",
       "      <td>NaN</td>\n",
       "      <td>NaN</td>\n",
       "      <td>NaN</td>\n",
       "      <td>NaN</td>\n",
       "    </tr>\n",
       "    <tr>\n",
       "      <th>0</th>\n",
       "      <td>0</td>\n",
       "      <td>2021</td>\n",
       "      <td>RegularSeason</td>\n",
       "      <td>1/1/21</td>\n",
       "      <td>7:00 PM ET</td>\n",
       "      <td>Fri</td>\n",
       "      <td>1/1/21 @ 7:00 PM ET</td>\n",
       "      <td>NaN</td>\n",
       "      <td>Final</td>\n",
       "      <td>MIA</td>\n",
       "      <td>...</td>\n",
       "      <td>NaN</td>\n",
       "      <td>NaN</td>\n",
       "      <td>NaN</td>\n",
       "      <td>NaN</td>\n",
       "      <td>NaN</td>\n",
       "      <td>NaN</td>\n",
       "      <td>NaN</td>\n",
       "      <td>NaN</td>\n",
       "      <td>NaN</td>\n",
       "      <td>NaN</td>\n",
       "    </tr>\n",
       "  </tbody>\n",
       "</table>\n",
       "<p>5 rows × 144 columns</p>\n",
       "</div>"
      ],
      "text/plain": [
       "   Unnamed: 0  Season           Type DayString   TimeString DayOfWeek  \\\n",
       "0           0    2020  RegularSeason    1/1/20   6:00 PM ET       Wed   \n",
       "1           1    2020  RegularSeason    1/1/20   7:30 PM ET       Wed   \n",
       "2           2    2020  RegularSeason    1/1/20   8:00 PM ET       Wed   \n",
       "3           3    2020  RegularSeason    1/1/20  10:30 PM ET       Wed   \n",
       "0           0    2021  RegularSeason    1/1/21   7:00 PM ET       Fri   \n",
       "\n",
       "         DateTimeString  LastUpdated Status AwayTeam  ...  \\\n",
       "0   1/1/20 @ 6:00 PM ET          NaN  Final      ORL  ...   \n",
       "1   1/1/20 @ 7:30 PM ET          NaN  Final      POR  ...   \n",
       "2   1/1/20 @ 8:00 PM ET          NaN  Final      MIN  ...   \n",
       "3  1/1/20 @ 10:30 PM ET          NaN  Final      PHO  ...   \n",
       "0   1/1/21 @ 7:00 PM ET          NaN  Final      MIA  ...   \n",
       "\n",
       "   BarstoolAwayPointSpread  BarstoolHomePointSpreadPayout  \\\n",
       "0                      NaN                            NaN   \n",
       "1                      NaN                            NaN   \n",
       "2                      NaN                            NaN   \n",
       "3                      NaN                            NaN   \n",
       "0                      NaN                            NaN   \n",
       "\n",
       "  BarstoolAwayPointSpreadPayout  BarstoolOverUnder  BarstoolOverPayout  \\\n",
       "0                           NaN                NaN                 NaN   \n",
       "1                           NaN                NaN                 NaN   \n",
       "2                           NaN                NaN                 NaN   \n",
       "3                           NaN                NaN                 NaN   \n",
       "0                           NaN                NaN                 NaN   \n",
       "\n",
       "  BarstoolUnderPayout BarstoolHomeTeamTotal  BarstoolAwayTeamTotal  \\\n",
       "0                 NaN                   NaN                    NaN   \n",
       "1                 NaN                   NaN                    NaN   \n",
       "2                 NaN                   NaN                    NaN   \n",
       "3                 NaN                   NaN                    NaN   \n",
       "0                 NaN                   NaN                    NaN   \n",
       "\n",
       "   BarstoolHomeTeamTotalPayout  BarstoolAwayTeamTotalPayout  \n",
       "0                          NaN                          NaN  \n",
       "1                          NaN                          NaN  \n",
       "2                          NaN                          NaN  \n",
       "3                          NaN                          NaN  \n",
       "0                          NaN                          NaN  \n",
       "\n",
       "[5 rows x 144 columns]"
      ]
     },
     "execution_count": 31,
     "metadata": {},
     "output_type": "execute_result"
    }
   ],
   "source": [
    "frame.head()"
   ]
  },
  {
   "cell_type": "code",
   "execution_count": 33,
   "metadata": {
    "ExecuteTime": {
     "end_time": "2022-03-29T00:52:33.215676Z",
     "start_time": "2022-03-29T00:52:33.209779Z"
    }
   },
   "outputs": [
    {
     "data": {
      "text/plain": [
       "Index(['Unnamed: 0', 'Season', 'Type', 'DayString', 'TimeString', 'DayOfWeek',\n",
       "       'DateTimeString', 'LastUpdated', 'Status', 'AwayTeam',\n",
       "       ...\n",
       "       'BarstoolAwayPointSpread', 'BarstoolHomePointSpreadPayout',\n",
       "       'BarstoolAwayPointSpreadPayout', 'BarstoolOverUnder',\n",
       "       'BarstoolOverPayout', 'BarstoolUnderPayout', 'BarstoolHomeTeamTotal',\n",
       "       'BarstoolAwayTeamTotal', 'BarstoolHomeTeamTotalPayout',\n",
       "       'BarstoolAwayTeamTotalPayout'],\n",
       "      dtype='object', length=144)"
      ]
     },
     "execution_count": 33,
     "metadata": {},
     "output_type": "execute_result"
    }
   ],
   "source": [
    "frame.columns"
   ]
  },
  {
   "cell_type": "code",
   "execution_count": 36,
   "metadata": {
    "ExecuteTime": {
     "end_time": "2022-03-29T00:52:58.007917Z",
     "start_time": "2022-03-29T00:52:57.979617Z"
    }
   },
   "outputs": [],
   "source": [
    "frame.drop('Unnamed: 0', axis=1, inplace=True)"
   ]
  },
  {
   "cell_type": "code",
   "execution_count": 55,
   "metadata": {
    "ExecuteTime": {
     "end_time": "2022-03-29T01:01:28.783066Z",
     "start_time": "2022-03-29T01:01:28.721366Z"
    }
   },
   "outputs": [],
   "source": [
    "frame.loc[:, \"datetime\"] = frame.loc[:, \"DayString\"].apply(lambda x: datetime.datetime.strptime(x, \"%m/%d/%y\"))"
   ]
  },
  {
   "cell_type": "code",
   "execution_count": 57,
   "metadata": {
    "ExecuteTime": {
     "end_time": "2022-03-29T01:02:00.829695Z",
     "start_time": "2022-03-29T01:02:00.824945Z"
    }
   },
   "outputs": [],
   "source": [
    "frame.set_index(\"datetime\", inplace=True)"
   ]
  },
  {
   "cell_type": "code",
   "execution_count": 58,
   "metadata": {
    "ExecuteTime": {
     "end_time": "2022-03-29T01:02:14.298559Z",
     "start_time": "2022-03-29T01:02:14.290301Z"
    }
   },
   "outputs": [],
   "source": [
    "frame.sort_index(inplace=True)"
   ]
  },
  {
   "cell_type": "code",
   "execution_count": 61,
   "metadata": {
    "ExecuteTime": {
     "end_time": "2022-03-29T01:03:18.810630Z",
     "start_time": "2022-03-29T01:03:18.354839Z"
    }
   },
   "outputs": [],
   "source": [
    "frame.to_csv(\"bettingdata_odds.csv\")"
   ]
  },
  {
   "cell_type": "code",
   "execution_count": null,
   "metadata": {},
   "outputs": [],
   "source": []
  }
 ],
 "metadata": {
  "hide_input": false,
  "kernelspec": {
   "display_name": "Python [conda env:py37]",
   "language": "python",
   "name": "conda-env-py37-py"
  },
  "language_info": {
   "codemirror_mode": {
    "name": "ipython",
    "version": 3
   },
   "file_extension": ".py",
   "mimetype": "text/x-python",
   "name": "python",
   "nbconvert_exporter": "python",
   "pygments_lexer": "ipython3",
   "version": "3.7.5"
  },
  "toc": {
   "base_numbering": 1,
   "nav_menu": {},
   "number_sections": true,
   "sideBar": true,
   "skip_h1_title": false,
   "title_cell": "Table of Contents",
   "title_sidebar": "Contents",
   "toc_cell": false,
   "toc_position": {},
   "toc_section_display": true,
   "toc_window_display": false
  },
  "varInspector": {
   "cols": {
    "lenName": 16,
    "lenType": 16,
    "lenVar": 40
   },
   "kernels_config": {
    "python": {
     "delete_cmd_postfix": "",
     "delete_cmd_prefix": "del ",
     "library": "var_list.py",
     "varRefreshCmd": "print(var_dic_list())"
    },
    "r": {
     "delete_cmd_postfix": ") ",
     "delete_cmd_prefix": "rm(",
     "library": "var_list.r",
     "varRefreshCmd": "cat(var_dic_list()) "
    }
   },
   "types_to_exclude": [
    "module",
    "function",
    "builtin_function_or_method",
    "instance",
    "_Feature"
   ],
   "window_display": false
  }
 },
 "nbformat": 4,
 "nbformat_minor": 2
}
