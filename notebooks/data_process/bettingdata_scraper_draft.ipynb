{
 "cells": [
  {
   "cell_type": "code",
   "execution_count": 1,
   "metadata": {
    "ExecuteTime": {
     "end_time": "2022-03-28T10:59:20.557858Z",
     "start_time": "2022-03-28T10:59:20.460940Z"
    }
   },
   "outputs": [],
   "source": [
    "import socket\n",
    "import http\n",
    "import random\n",
    "import time\n",
    "from fake_useragent import UserAgent\n",
    "import requests\n",
    "from datetime import date, timedelta"
   ]
  },
  {
   "cell_type": "code",
   "execution_count": 2,
   "metadata": {
    "ExecuteTime": {
     "end_time": "2022-03-28T10:59:20.948109Z",
     "start_time": "2022-03-28T10:59:20.941527Z"
    }
   },
   "outputs": [],
   "source": [
    "def get_web_content(my_url, my_data, my_headers):\n",
    "    timeout = random.choice(range(80, 180))\n",
    "    try:\n",
    "        rep = requests.post(my_url,data = my_data, headers = my_headers, timeout = timeout)\n",
    "        rep.encoding = 'utf-8'\n",
    "        # req = urllib.request.Request(url, data, header)\n",
    "        # response = urllib.request.urlopen(req, timeout=timeout)\n",
    "        # html1 = response.read().decode('UTF-8', errors='ignore')\n",
    "        # response.close()\n",
    "    # except urllib.request.HTTPError as e:\n",
    "    #         print( '1:', e)\n",
    "    #         time.sleep(random.choice(range(5, 10)))\n",
    "    #\n",
    "    # except urllib.request.URLError as e:\n",
    "    #     print( '2:', e)\n",
    "        time.sleep(random.choice(range(1, 3)))\n",
    "        return rep\n",
    "    except Exception as e:\n",
    "        print(e)\n",
    "        time.sleep(random.choice(range(1, 3)))\n",
    "        return None\n",
    "\n",
    "    "
   ]
  },
  {
   "cell_type": "code",
   "execution_count": 3,
   "metadata": {
    "ExecuteTime": {
     "end_time": "2022-03-28T11:00:09.693364Z",
     "start_time": "2022-03-28T11:00:05.365640Z"
    }
   },
   "outputs": [],
   "source": [
    "import requests\n",
    "import json\n",
    "\n",
    "ua = UserAgent()\n",
    "user_agent = ua.random\n",
    "\n",
    "url = \"https://bettingdata.com/NBA_Odds/Odds_Read\"\n",
    "# 以字典的形式构造数据\n",
    "data = {\"scope\":2,\"subscope\":1,\"week\":None,\"season\":2022,\"seasontype\":1,\"team\":None,\"conference\":None,\"exportType\":\"csv\",\"date\":\"01-02-2019\",\"teamkey\":\"ATL\",\"show_no_odds\":False,\"client\":1,\"state\":\"MI\",\"geo_state\":None,\"league\":\"nba\",\"widget_scope\":1}\n",
    "\n",
    "\n",
    "data = json.dumps(data)\n",
    "headers = {\n",
    "    \"user-agent\": user_agent,\n",
    "    \"accept\": \"application/json, text/plain, */*\",\n",
    "    \"accept-language\": \"en-US,en;q=0.9,zh-CN;q=0.8,zh;q=0.7,zh-TW;q=0.6,es;q=0.5,ja;q=0.4\",\n",
    "    \"content-type\": \"application/json;charset=UTF-8\",\n",
    "    \"cookie\": \"_ga=GA1.1.1975252377.1647814774; _cioanonid=9f5c3bc3-08e4-f009-ea31-5aedba08646e; ASP.NET_SessionId=jbmyrl0heebfldtuakjccmyi; _cioid=87798; BettingData_CookiesAccepted=1; fdw_geo_state=MI; geo_state=%7B%22Code%22%3A%22MI%22%2C%22Name%22%3A%22Michigan%22%7D; ks03ndsapqq84662kglvmcya009273nhdkwsn=8147d7ac-dc99-4c44-a5ad-8c66471de615; _ga_QXY5NYRE7Q=GS1.1.1648419712.9.1.1648420624.0\",\n",
    "  }\n",
    "# 与 get 请求一样，r 为响应对象\n",
    "r =get_web_content(my_url=url, my_data=data, my_headers=headers)\n",
    "# 查看响应结果"
   ]
  },
  {
   "cell_type": "code",
   "execution_count": 4,
   "metadata": {
    "ExecuteTime": {
     "end_time": "2022-03-28T11:00:32.751424Z",
     "start_time": "2022-03-28T11:00:32.740718Z"
    }
   },
   "outputs": [
    {
     "data": {
      "text/plain": [
       "<Response [200]>"
      ]
     },
     "execution_count": 4,
     "metadata": {},
     "output_type": "execute_result"
    }
   ],
   "source": [
    "r"
   ]
  },
  {
   "cell_type": "code",
   "execution_count": 5,
   "metadata": {
    "ExecuteTime": {
     "end_time": "2022-03-28T11:00:33.723007Z",
     "start_time": "2022-03-28T11:00:33.718129Z"
    }
   },
   "outputs": [
    {
     "data": {
      "text/plain": [
       "True"
      ]
     },
     "execution_count": 5,
     "metadata": {},
     "output_type": "execute_result"
    }
   ],
   "source": [
    "r!=None"
   ]
  },
  {
   "cell_type": "code",
   "execution_count": 6,
   "metadata": {
    "ExecuteTime": {
     "end_time": "2022-03-28T11:00:34.209639Z",
     "start_time": "2022-03-28T11:00:34.205700Z"
    }
   },
   "outputs": [
    {
     "data": {
      "text/plain": [
       "True"
      ]
     },
     "execution_count": 6,
     "metadata": {},
     "output_type": "execute_result"
    }
   ],
   "source": [
    "r.status_code == 200"
   ]
  },
  {
   "cell_type": "code",
   "execution_count": 7,
   "metadata": {
    "ExecuteTime": {
     "end_time": "2022-03-28T11:00:34.658056Z",
     "start_time": "2022-03-28T11:00:34.653139Z"
    }
   },
   "outputs": [
    {
     "data": {
      "text/plain": [
       "True"
      ]
     },
     "execution_count": 7,
     "metadata": {},
     "output_type": "execute_result"
    }
   ],
   "source": [
    "r.text!=\"\""
   ]
  },
  {
   "cell_type": "code",
   "execution_count": 8,
   "metadata": {
    "ExecuteTime": {
     "end_time": "2022-03-28T11:00:35.771434Z",
     "start_time": "2022-03-28T11:00:35.325646Z"
    }
   },
   "outputs": [
    {
     "data": {
      "text/html": [
       "<div>\n",
       "<style scoped>\n",
       "    .dataframe tbody tr th:only-of-type {\n",
       "        vertical-align: middle;\n",
       "    }\n",
       "\n",
       "    .dataframe tbody tr th {\n",
       "        vertical-align: top;\n",
       "    }\n",
       "\n",
       "    .dataframe thead th {\n",
       "        text-align: right;\n",
       "    }\n",
       "</style>\n",
       "<table border=\"1\" class=\"dataframe\">\n",
       "  <thead>\n",
       "    <tr style=\"text-align: right;\">\n",
       "      <th></th>\n",
       "      <th>Season</th>\n",
       "      <th>Type</th>\n",
       "      <th>DayString</th>\n",
       "      <th>TimeString</th>\n",
       "      <th>DayOfWeek</th>\n",
       "      <th>DateTimeString</th>\n",
       "      <th>LastUpdated</th>\n",
       "      <th>Status</th>\n",
       "      <th>AwayTeam</th>\n",
       "      <th>AwayTeamScore</th>\n",
       "      <th>...</th>\n",
       "      <th>BarstoolAwayPointSpread</th>\n",
       "      <th>BarstoolHomePointSpreadPayout</th>\n",
       "      <th>BarstoolAwayPointSpreadPayout</th>\n",
       "      <th>BarstoolOverUnder</th>\n",
       "      <th>BarstoolOverPayout</th>\n",
       "      <th>BarstoolUnderPayout</th>\n",
       "      <th>BarstoolHomeTeamTotal</th>\n",
       "      <th>BarstoolAwayTeamTotal</th>\n",
       "      <th>BarstoolHomeTeamTotalPayout</th>\n",
       "      <th>BarstoolAwayTeamTotalPayout</th>\n",
       "    </tr>\n",
       "  </thead>\n",
       "  <tbody>\n",
       "    <tr>\n",
       "      <th>0</th>\n",
       "      <td>2019</td>\n",
       "      <td>RegularSeason</td>\n",
       "      <td>1/2/19</td>\n",
       "      <td>7:00 PM ET</td>\n",
       "      <td>Wed</td>\n",
       "      <td>1/2/19 @ 7:00 PM ET</td>\n",
       "      <td>NaN</td>\n",
       "      <td>Final</td>\n",
       "      <td>MIA</td>\n",
       "      <td>117</td>\n",
       "      <td>...</td>\n",
       "      <td>NaN</td>\n",
       "      <td>NaN</td>\n",
       "      <td>NaN</td>\n",
       "      <td>NaN</td>\n",
       "      <td>NaN</td>\n",
       "      <td>NaN</td>\n",
       "      <td>NaN</td>\n",
       "      <td>NaN</td>\n",
       "      <td>NaN</td>\n",
       "      <td>NaN</td>\n",
       "    </tr>\n",
       "    <tr>\n",
       "      <th>1</th>\n",
       "      <td>2019</td>\n",
       "      <td>RegularSeason</td>\n",
       "      <td>1/2/19</td>\n",
       "      <td>7:00 PM ET</td>\n",
       "      <td>Wed</td>\n",
       "      <td>1/2/19 @ 7:00 PM ET</td>\n",
       "      <td>NaN</td>\n",
       "      <td>Final</td>\n",
       "      <td>ATL</td>\n",
       "      <td>98</td>\n",
       "      <td>...</td>\n",
       "      <td>NaN</td>\n",
       "      <td>NaN</td>\n",
       "      <td>NaN</td>\n",
       "      <td>NaN</td>\n",
       "      <td>NaN</td>\n",
       "      <td>NaN</td>\n",
       "      <td>NaN</td>\n",
       "      <td>NaN</td>\n",
       "      <td>NaN</td>\n",
       "      <td>NaN</td>\n",
       "    </tr>\n",
       "    <tr>\n",
       "      <th>2</th>\n",
       "      <td>2019</td>\n",
       "      <td>RegularSeason</td>\n",
       "      <td>1/2/19</td>\n",
       "      <td>7:00 PM ET</td>\n",
       "      <td>Wed</td>\n",
       "      <td>1/2/19 @ 7:00 PM ET</td>\n",
       "      <td>NaN</td>\n",
       "      <td>Final</td>\n",
       "      <td>DAL</td>\n",
       "      <td>122</td>\n",
       "      <td>...</td>\n",
       "      <td>NaN</td>\n",
       "      <td>NaN</td>\n",
       "      <td>NaN</td>\n",
       "      <td>NaN</td>\n",
       "      <td>NaN</td>\n",
       "      <td>NaN</td>\n",
       "      <td>NaN</td>\n",
       "      <td>NaN</td>\n",
       "      <td>NaN</td>\n",
       "      <td>NaN</td>\n",
       "    </tr>\n",
       "    <tr>\n",
       "      <th>3</th>\n",
       "      <td>2019</td>\n",
       "      <td>RegularSeason</td>\n",
       "      <td>1/2/19</td>\n",
       "      <td>7:30 PM ET</td>\n",
       "      <td>Wed</td>\n",
       "      <td>1/2/19 @ 7:30 PM ET</td>\n",
       "      <td>NaN</td>\n",
       "      <td>Final</td>\n",
       "      <td>NO</td>\n",
       "      <td>121</td>\n",
       "      <td>...</td>\n",
       "      <td>NaN</td>\n",
       "      <td>NaN</td>\n",
       "      <td>NaN</td>\n",
       "      <td>NaN</td>\n",
       "      <td>NaN</td>\n",
       "      <td>NaN</td>\n",
       "      <td>NaN</td>\n",
       "      <td>NaN</td>\n",
       "      <td>NaN</td>\n",
       "      <td>NaN</td>\n",
       "    </tr>\n",
       "    <tr>\n",
       "      <th>4</th>\n",
       "      <td>2019</td>\n",
       "      <td>RegularSeason</td>\n",
       "      <td>1/2/19</td>\n",
       "      <td>8:00 PM ET</td>\n",
       "      <td>Wed</td>\n",
       "      <td>1/2/19 @ 8:00 PM ET</td>\n",
       "      <td>NaN</td>\n",
       "      <td>Final</td>\n",
       "      <td>MIN</td>\n",
       "      <td>102</td>\n",
       "      <td>...</td>\n",
       "      <td>NaN</td>\n",
       "      <td>NaN</td>\n",
       "      <td>NaN</td>\n",
       "      <td>NaN</td>\n",
       "      <td>NaN</td>\n",
       "      <td>NaN</td>\n",
       "      <td>NaN</td>\n",
       "      <td>NaN</td>\n",
       "      <td>NaN</td>\n",
       "      <td>NaN</td>\n",
       "    </tr>\n",
       "    <tr>\n",
       "      <th>5</th>\n",
       "      <td>2019</td>\n",
       "      <td>RegularSeason</td>\n",
       "      <td>1/2/19</td>\n",
       "      <td>8:00 PM ET</td>\n",
       "      <td>Wed</td>\n",
       "      <td>1/2/19 @ 8:00 PM ET</td>\n",
       "      <td>NaN</td>\n",
       "      <td>Final</td>\n",
       "      <td>ORL</td>\n",
       "      <td>112</td>\n",
       "      <td>...</td>\n",
       "      <td>NaN</td>\n",
       "      <td>NaN</td>\n",
       "      <td>NaN</td>\n",
       "      <td>NaN</td>\n",
       "      <td>NaN</td>\n",
       "      <td>NaN</td>\n",
       "      <td>NaN</td>\n",
       "      <td>NaN</td>\n",
       "      <td>NaN</td>\n",
       "      <td>NaN</td>\n",
       "    </tr>\n",
       "    <tr>\n",
       "      <th>6</th>\n",
       "      <td>2019</td>\n",
       "      <td>RegularSeason</td>\n",
       "      <td>1/2/19</td>\n",
       "      <td>8:00 PM ET</td>\n",
       "      <td>Wed</td>\n",
       "      <td>1/2/19 @ 8:00 PM ET</td>\n",
       "      <td>NaN</td>\n",
       "      <td>Final</td>\n",
       "      <td>DET</td>\n",
       "      <td>101</td>\n",
       "      <td>...</td>\n",
       "      <td>NaN</td>\n",
       "      <td>NaN</td>\n",
       "      <td>NaN</td>\n",
       "      <td>NaN</td>\n",
       "      <td>NaN</td>\n",
       "      <td>NaN</td>\n",
       "      <td>NaN</td>\n",
       "      <td>NaN</td>\n",
       "      <td>NaN</td>\n",
       "      <td>NaN</td>\n",
       "    </tr>\n",
       "    <tr>\n",
       "      <th>7</th>\n",
       "      <td>2019</td>\n",
       "      <td>RegularSeason</td>\n",
       "      <td>1/2/19</td>\n",
       "      <td>9:00 PM ET</td>\n",
       "      <td>Wed</td>\n",
       "      <td>1/2/19 @ 9:00 PM ET</td>\n",
       "      <td>NaN</td>\n",
       "      <td>Final</td>\n",
       "      <td>PHI</td>\n",
       "      <td>132</td>\n",
       "      <td>...</td>\n",
       "      <td>NaN</td>\n",
       "      <td>NaN</td>\n",
       "      <td>NaN</td>\n",
       "      <td>NaN</td>\n",
       "      <td>NaN</td>\n",
       "      <td>NaN</td>\n",
       "      <td>NaN</td>\n",
       "      <td>NaN</td>\n",
       "      <td>NaN</td>\n",
       "      <td>NaN</td>\n",
       "    </tr>\n",
       "    <tr>\n",
       "      <th>8</th>\n",
       "      <td>2019</td>\n",
       "      <td>RegularSeason</td>\n",
       "      <td>1/2/19</td>\n",
       "      <td>10:30 PM ET</td>\n",
       "      <td>Wed</td>\n",
       "      <td>1/2/19 @ 10:30 PM ET</td>\n",
       "      <td>NaN</td>\n",
       "      <td>Final</td>\n",
       "      <td>OKC</td>\n",
       "      <td>107</td>\n",
       "      <td>...</td>\n",
       "      <td>NaN</td>\n",
       "      <td>NaN</td>\n",
       "      <td>NaN</td>\n",
       "      <td>NaN</td>\n",
       "      <td>NaN</td>\n",
       "      <td>NaN</td>\n",
       "      <td>NaN</td>\n",
       "      <td>NaN</td>\n",
       "      <td>NaN</td>\n",
       "      <td>NaN</td>\n",
       "    </tr>\n",
       "  </tbody>\n",
       "</table>\n",
       "<p>9 rows × 143 columns</p>\n",
       "</div>"
      ],
      "text/plain": [
       "   Season           Type DayString   TimeString DayOfWeek  \\\n",
       "0    2019  RegularSeason    1/2/19   7:00 PM ET       Wed   \n",
       "1    2019  RegularSeason    1/2/19   7:00 PM ET       Wed   \n",
       "2    2019  RegularSeason    1/2/19   7:00 PM ET       Wed   \n",
       "3    2019  RegularSeason    1/2/19   7:30 PM ET       Wed   \n",
       "4    2019  RegularSeason    1/2/19   8:00 PM ET       Wed   \n",
       "5    2019  RegularSeason    1/2/19   8:00 PM ET       Wed   \n",
       "6    2019  RegularSeason    1/2/19   8:00 PM ET       Wed   \n",
       "7    2019  RegularSeason    1/2/19   9:00 PM ET       Wed   \n",
       "8    2019  RegularSeason    1/2/19  10:30 PM ET       Wed   \n",
       "\n",
       "         DateTimeString  LastUpdated Status AwayTeam  AwayTeamScore  ...  \\\n",
       "0   1/2/19 @ 7:00 PM ET          NaN  Final      MIA            117  ...   \n",
       "1   1/2/19 @ 7:00 PM ET          NaN  Final      ATL             98  ...   \n",
       "2   1/2/19 @ 7:00 PM ET          NaN  Final      DAL            122  ...   \n",
       "3   1/2/19 @ 7:30 PM ET          NaN  Final       NO            121  ...   \n",
       "4   1/2/19 @ 8:00 PM ET          NaN  Final      MIN            102  ...   \n",
       "5   1/2/19 @ 8:00 PM ET          NaN  Final      ORL            112  ...   \n",
       "6   1/2/19 @ 8:00 PM ET          NaN  Final      DET            101  ...   \n",
       "7   1/2/19 @ 9:00 PM ET          NaN  Final      PHI            132  ...   \n",
       "8  1/2/19 @ 10:30 PM ET          NaN  Final      OKC            107  ...   \n",
       "\n",
       "   BarstoolAwayPointSpread BarstoolHomePointSpreadPayout  \\\n",
       "0                      NaN                           NaN   \n",
       "1                      NaN                           NaN   \n",
       "2                      NaN                           NaN   \n",
       "3                      NaN                           NaN   \n",
       "4                      NaN                           NaN   \n",
       "5                      NaN                           NaN   \n",
       "6                      NaN                           NaN   \n",
       "7                      NaN                           NaN   \n",
       "8                      NaN                           NaN   \n",
       "\n",
       "   BarstoolAwayPointSpreadPayout  BarstoolOverUnder BarstoolOverPayout  \\\n",
       "0                            NaN                NaN                NaN   \n",
       "1                            NaN                NaN                NaN   \n",
       "2                            NaN                NaN                NaN   \n",
       "3                            NaN                NaN                NaN   \n",
       "4                            NaN                NaN                NaN   \n",
       "5                            NaN                NaN                NaN   \n",
       "6                            NaN                NaN                NaN   \n",
       "7                            NaN                NaN                NaN   \n",
       "8                            NaN                NaN                NaN   \n",
       "\n",
       "  BarstoolUnderPayout  BarstoolHomeTeamTotal  BarstoolAwayTeamTotal  \\\n",
       "0                 NaN                    NaN                    NaN   \n",
       "1                 NaN                    NaN                    NaN   \n",
       "2                 NaN                    NaN                    NaN   \n",
       "3                 NaN                    NaN                    NaN   \n",
       "4                 NaN                    NaN                    NaN   \n",
       "5                 NaN                    NaN                    NaN   \n",
       "6                 NaN                    NaN                    NaN   \n",
       "7                 NaN                    NaN                    NaN   \n",
       "8                 NaN                    NaN                    NaN   \n",
       "\n",
       "   BarstoolHomeTeamTotalPayout  BarstoolAwayTeamTotalPayout  \n",
       "0                          NaN                          NaN  \n",
       "1                          NaN                          NaN  \n",
       "2                          NaN                          NaN  \n",
       "3                          NaN                          NaN  \n",
       "4                          NaN                          NaN  \n",
       "5                          NaN                          NaN  \n",
       "6                          NaN                          NaN  \n",
       "7                          NaN                          NaN  \n",
       "8                          NaN                          NaN  \n",
       "\n",
       "[9 rows x 143 columns]"
      ]
     },
     "execution_count": 8,
     "metadata": {},
     "output_type": "execute_result"
    }
   ],
   "source": [
    "import pandas as pd\n",
    "import io   \n",
    "pd.read_csv(io.StringIO(r.text))"
   ]
  },
  {
   "cell_type": "code",
   "execution_count": 46,
   "metadata": {
    "ExecuteTime": {
     "end_time": "2022-03-28T10:52:13.990068Z",
     "start_time": "2022-03-28T10:52:13.966352Z"
    }
   },
   "outputs": [],
   "source": [
    "pd.read_csv(io.StringIO(r.text)).to_csv(\"11-15-2019\")"
   ]
  },
  {
   "cell_type": "code",
   "execution_count": 38,
   "metadata": {
    "ExecuteTime": {
     "end_time": "2022-03-28T03:16:59.333472Z",
     "start_time": "2022-03-28T03:16:59.328591Z"
    }
   },
   "outputs": [
    {
     "data": {
      "text/plain": [
       "''"
      ]
     },
     "execution_count": 38,
     "metadata": {},
     "output_type": "execute_result"
    }
   ],
   "source": [
    "r.text"
   ]
  },
  {
   "cell_type": "code",
   "execution_count": null,
   "metadata": {},
   "outputs": [],
   "source": []
  }
 ],
 "metadata": {
  "hide_input": false,
  "kernelspec": {
   "display_name": "Python [conda env:py37]",
   "language": "python",
   "name": "conda-env-py37-py"
  },
  "language_info": {
   "codemirror_mode": {
    "name": "ipython",
    "version": 3
   },
   "file_extension": ".py",
   "mimetype": "text/x-python",
   "name": "python",
   "nbconvert_exporter": "python",
   "pygments_lexer": "ipython3",
   "version": "3.7.5"
  },
  "toc": {
   "base_numbering": 1,
   "nav_menu": {},
   "number_sections": true,
   "sideBar": true,
   "skip_h1_title": false,
   "title_cell": "Table of Contents",
   "title_sidebar": "Contents",
   "toc_cell": false,
   "toc_position": {},
   "toc_section_display": true,
   "toc_window_display": false
  },
  "varInspector": {
   "cols": {
    "lenName": 16,
    "lenType": 16,
    "lenVar": 40
   },
   "kernels_config": {
    "python": {
     "delete_cmd_postfix": "",
     "delete_cmd_prefix": "del ",
     "library": "var_list.py",
     "varRefreshCmd": "print(var_dic_list())"
    },
    "r": {
     "delete_cmd_postfix": ") ",
     "delete_cmd_prefix": "rm(",
     "library": "var_list.r",
     "varRefreshCmd": "cat(var_dic_list()) "
    }
   },
   "types_to_exclude": [
    "module",
    "function",
    "builtin_function_or_method",
    "instance",
    "_Feature"
   ],
   "window_display": false
  }
 },
 "nbformat": 4,
 "nbformat_minor": 2
}
