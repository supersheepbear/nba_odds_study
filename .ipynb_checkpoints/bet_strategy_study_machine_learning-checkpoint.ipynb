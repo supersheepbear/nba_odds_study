{
 "cells": [
  {
   "cell_type": "code",
   "execution_count": 1,
   "metadata": {
    "ExecuteTime": {
     "end_time": "2022-03-31T02:19:51.981895Z",
     "start_time": "2022-03-31T02:19:51.045161Z"
    }
   },
   "outputs": [],
   "source": [
    "import pandas as pd"
   ]
  },
  {
   "cell_type": "code",
   "execution_count": 5,
   "metadata": {
    "ExecuteTime": {
     "end_time": "2022-03-31T02:23:29.937096Z",
     "start_time": "2022-03-31T02:23:29.921044Z"
    }
   },
   "outputs": [],
   "source": [
    "data_path = r\"D:\\project\\nba_crawler\\machine_learning\\2021-22_evaluation.csv\""
   ]
  },
  {
   "cell_type": "code",
   "execution_count": 12,
   "metadata": {
    "ExecuteTime": {
     "end_time": "2022-03-31T02:25:13.231603Z",
     "start_time": "2022-03-31T02:25:13.216526Z"
    }
   },
   "outputs": [],
   "source": [
    "f = pd.read_csv(data_path, index_col=\"Date\")"
   ]
  },
  {
   "cell_type": "code",
   "execution_count": 14,
   "metadata": {
    "ExecuteTime": {
     "end_time": "2022-03-31T02:25:21.911048Z",
     "start_time": "2022-03-31T02:25:21.881023Z"
    }
   },
   "outputs": [
    {
     "data": {
      "text/html": [
       "<div>\n",
       "<style scoped>\n",
       "    .dataframe tbody tr th:only-of-type {\n",
       "        vertical-align: middle;\n",
       "    }\n",
       "\n",
       "    .dataframe tbody tr th {\n",
       "        vertical-align: top;\n",
       "    }\n",
       "\n",
       "    .dataframe thead th {\n",
       "        text-align: right;\n",
       "    }\n",
       "</style>\n",
       "<table border=\"1\" class=\"dataframe\">\n",
       "  <thead>\n",
       "    <tr style=\"text-align: right;\">\n",
       "      <th></th>\n",
       "      <th>Home</th>\n",
       "      <th>Away</th>\n",
       "      <th>OU</th>\n",
       "      <th>Spread</th>\n",
       "      <th>ML_Home</th>\n",
       "      <th>ML_Away</th>\n",
       "      <th>Points</th>\n",
       "      <th>Win_Margin</th>\n",
       "      <th>AWAY_winprob</th>\n",
       "      <th>HOME_winprob</th>\n",
       "      <th>home_win_predict</th>\n",
       "      <th>home_win</th>\n",
       "      <th>accurate</th>\n",
       "    </tr>\n",
       "    <tr>\n",
       "      <th>Date</th>\n",
       "      <th></th>\n",
       "      <th></th>\n",
       "      <th></th>\n",
       "      <th></th>\n",
       "      <th></th>\n",
       "      <th></th>\n",
       "      <th></th>\n",
       "      <th></th>\n",
       "      <th></th>\n",
       "      <th></th>\n",
       "      <th></th>\n",
       "      <th></th>\n",
       "      <th></th>\n",
       "    </tr>\n",
       "  </thead>\n",
       "  <tbody>\n",
       "    <tr>\n",
       "      <th>2021-22-1031</th>\n",
       "      <td>Dallas Mavericks</td>\n",
       "      <td>Sacramento Kings</td>\n",
       "      <td>219.0</td>\n",
       "      <td>4.5</td>\n",
       "      <td>-185</td>\n",
       "      <td>165</td>\n",
       "      <td>204</td>\n",
       "      <td>6</td>\n",
       "      <td>0.597700</td>\n",
       "      <td>0.402300</td>\n",
       "      <td>0</td>\n",
       "      <td>1</td>\n",
       "      <td>0</td>\n",
       "    </tr>\n",
       "    <tr>\n",
       "      <th>2021-22-1031</th>\n",
       "      <td>Charlotte Bobcats</td>\n",
       "      <td>Portland Trail Blazers</td>\n",
       "      <td>230.0</td>\n",
       "      <td>1.0</td>\n",
       "      <td>105</td>\n",
       "      <td>-125</td>\n",
       "      <td>238</td>\n",
       "      <td>12</td>\n",
       "      <td>0.415266</td>\n",
       "      <td>0.584734</td>\n",
       "      <td>1</td>\n",
       "      <td>1</td>\n",
       "      <td>1</td>\n",
       "    </tr>\n",
       "    <tr>\n",
       "      <th>2021-22-1031</th>\n",
       "      <td>Milwaukee Bucks</td>\n",
       "      <td>Utah Jazz</td>\n",
       "      <td>224.5</td>\n",
       "      <td>1.0</td>\n",
       "      <td>165</td>\n",
       "      <td>-185</td>\n",
       "      <td>202</td>\n",
       "      <td>-12</td>\n",
       "      <td>0.826378</td>\n",
       "      <td>0.173622</td>\n",
       "      <td>0</td>\n",
       "      <td>0</td>\n",
       "      <td>1</td>\n",
       "    </tr>\n",
       "    <tr>\n",
       "      <th>2021-22-1031</th>\n",
       "      <td>Brooklyn Nets</td>\n",
       "      <td>Detroit Pistons</td>\n",
       "      <td>215.0</td>\n",
       "      <td>12.5</td>\n",
       "      <td>-900</td>\n",
       "      <td>600</td>\n",
       "      <td>208</td>\n",
       "      <td>26</td>\n",
       "      <td>0.047606</td>\n",
       "      <td>0.952394</td>\n",
       "      <td>1</td>\n",
       "      <td>1</td>\n",
       "      <td>1</td>\n",
       "    </tr>\n",
       "    <tr>\n",
       "      <th>2021-22-1031</th>\n",
       "      <td>Los Angeles Lakers</td>\n",
       "      <td>Houston Rockets</td>\n",
       "      <td>224.0</td>\n",
       "      <td>12.0</td>\n",
       "      <td>-650</td>\n",
       "      <td>475</td>\n",
       "      <td>180</td>\n",
       "      <td>10</td>\n",
       "      <td>0.028174</td>\n",
       "      <td>0.971826</td>\n",
       "      <td>1</td>\n",
       "      <td>1</td>\n",
       "      <td>1</td>\n",
       "    </tr>\n",
       "    <tr>\n",
       "      <th>...</th>\n",
       "      <td>...</td>\n",
       "      <td>...</td>\n",
       "      <td>...</td>\n",
       "      <td>...</td>\n",
       "      <td>...</td>\n",
       "      <td>...</td>\n",
       "      <td>...</td>\n",
       "      <td>...</td>\n",
       "      <td>...</td>\n",
       "      <td>...</td>\n",
       "      <td>...</td>\n",
       "      <td>...</td>\n",
       "      <td>...</td>\n",
       "    </tr>\n",
       "    <tr>\n",
       "      <th>2021-22-0327</th>\n",
       "      <td>Washington Wizards</td>\n",
       "      <td>Golden State Warriors</td>\n",
       "      <td>221.5</td>\n",
       "      <td>7.5</td>\n",
       "      <td>240</td>\n",
       "      <td>-280</td>\n",
       "      <td>238</td>\n",
       "      <td>8</td>\n",
       "      <td>0.727573</td>\n",
       "      <td>0.272426</td>\n",
       "      <td>0</td>\n",
       "      <td>1</td>\n",
       "      <td>0</td>\n",
       "    </tr>\n",
       "    <tr>\n",
       "      <th>2021-22-0327</th>\n",
       "      <td>Phoenix Suns</td>\n",
       "      <td>Philadelphia 76ers</td>\n",
       "      <td>229.5</td>\n",
       "      <td>5.0</td>\n",
       "      <td>-185</td>\n",
       "      <td>165</td>\n",
       "      <td>218</td>\n",
       "      <td>10</td>\n",
       "      <td>0.207389</td>\n",
       "      <td>0.792611</td>\n",
       "      <td>1</td>\n",
       "      <td>1</td>\n",
       "      <td>1</td>\n",
       "    </tr>\n",
       "    <tr>\n",
       "      <th>2021-22-0327</th>\n",
       "      <td>New Orleans Pelicans</td>\n",
       "      <td>Los Angeles Lakers</td>\n",
       "      <td>228.0</td>\n",
       "      <td>3.0</td>\n",
       "      <td>-160</td>\n",
       "      <td>140</td>\n",
       "      <td>224</td>\n",
       "      <td>8</td>\n",
       "      <td>0.363462</td>\n",
       "      <td>0.636538</td>\n",
       "      <td>1</td>\n",
       "      <td>1</td>\n",
       "      <td>1</td>\n",
       "    </tr>\n",
       "    <tr>\n",
       "      <th>2021-22-0327</th>\n",
       "      <td>Brooklyn Nets</td>\n",
       "      <td>Charlotte Bobcats</td>\n",
       "      <td>237.5</td>\n",
       "      <td>7.0</td>\n",
       "      <td>-265</td>\n",
       "      <td>225</td>\n",
       "      <td>229</td>\n",
       "      <td>-9</td>\n",
       "      <td>0.353280</td>\n",
       "      <td>0.646720</td>\n",
       "      <td>1</td>\n",
       "      <td>0</td>\n",
       "      <td>0</td>\n",
       "    </tr>\n",
       "    <tr>\n",
       "      <th>2021-22-0327</th>\n",
       "      <td>Dallas Mavericks</td>\n",
       "      <td>Utah Jazz</td>\n",
       "      <td>222.0</td>\n",
       "      <td>2.5</td>\n",
       "      <td>-170</td>\n",
       "      <td>150</td>\n",
       "      <td>214</td>\n",
       "      <td>14</td>\n",
       "      <td>0.407100</td>\n",
       "      <td>0.592900</td>\n",
       "      <td>1</td>\n",
       "      <td>1</td>\n",
       "      <td>1</td>\n",
       "    </tr>\n",
       "  </tbody>\n",
       "</table>\n",
       "<p>1032 rows × 13 columns</p>\n",
       "</div>"
      ],
      "text/plain": [
       "                              Home                    Away     OU  Spread  \\\n",
       "Date                                                                        \n",
       "2021-22-1031      Dallas Mavericks        Sacramento Kings  219.0     4.5   \n",
       "2021-22-1031     Charlotte Bobcats  Portland Trail Blazers  230.0     1.0   \n",
       "2021-22-1031       Milwaukee Bucks               Utah Jazz  224.5     1.0   \n",
       "2021-22-1031         Brooklyn Nets         Detroit Pistons  215.0    12.5   \n",
       "2021-22-1031    Los Angeles Lakers         Houston Rockets  224.0    12.0   \n",
       "...                            ...                     ...    ...     ...   \n",
       "2021-22-0327    Washington Wizards   Golden State Warriors  221.5     7.5   \n",
       "2021-22-0327          Phoenix Suns      Philadelphia 76ers  229.5     5.0   \n",
       "2021-22-0327  New Orleans Pelicans      Los Angeles Lakers  228.0     3.0   \n",
       "2021-22-0327         Brooklyn Nets       Charlotte Bobcats  237.5     7.0   \n",
       "2021-22-0327      Dallas Mavericks               Utah Jazz  222.0     2.5   \n",
       "\n",
       "              ML_Home  ML_Away  Points  Win_Margin  AWAY_winprob  \\\n",
       "Date                                                               \n",
       "2021-22-1031     -185      165     204           6      0.597700   \n",
       "2021-22-1031      105     -125     238          12      0.415266   \n",
       "2021-22-1031      165     -185     202         -12      0.826378   \n",
       "2021-22-1031     -900      600     208          26      0.047606   \n",
       "2021-22-1031     -650      475     180          10      0.028174   \n",
       "...               ...      ...     ...         ...           ...   \n",
       "2021-22-0327      240     -280     238           8      0.727573   \n",
       "2021-22-0327     -185      165     218          10      0.207389   \n",
       "2021-22-0327     -160      140     224           8      0.363462   \n",
       "2021-22-0327     -265      225     229          -9      0.353280   \n",
       "2021-22-0327     -170      150     214          14      0.407100   \n",
       "\n",
       "              HOME_winprob  home_win_predict  home_win  accurate  \n",
       "Date                                                              \n",
       "2021-22-1031      0.402300                 0         1         0  \n",
       "2021-22-1031      0.584734                 1         1         1  \n",
       "2021-22-1031      0.173622                 0         0         1  \n",
       "2021-22-1031      0.952394                 1         1         1  \n",
       "2021-22-1031      0.971826                 1         1         1  \n",
       "...                    ...               ...       ...       ...  \n",
       "2021-22-0327      0.272426                 0         1         0  \n",
       "2021-22-0327      0.792611                 1         1         1  \n",
       "2021-22-0327      0.636538                 1         1         1  \n",
       "2021-22-0327      0.646720                 1         0         0  \n",
       "2021-22-0327      0.592900                 1         1         1  \n",
       "\n",
       "[1032 rows x 13 columns]"
      ]
     },
     "execution_count": 14,
     "metadata": {},
     "output_type": "execute_result"
    }
   ],
   "source": [
    "f"
   ]
  },
  {
   "cell_type": "code",
   "execution_count": 15,
   "metadata": {
    "ExecuteTime": {
     "end_time": "2022-03-31T02:25:55.197973Z",
     "start_time": "2022-03-31T02:25:55.179026Z"
    }
   },
   "outputs": [
    {
     "data": {
      "text/plain": [
       "Index(['Home', 'Away', 'OU', 'Spread', 'ML_Home', 'ML_Away', 'Points',\n",
       "       'Win_Margin', 'AWAY_winprob', 'HOME_winprob', 'home_win_predict',\n",
       "       'home_win', 'accurate'],\n",
       "      dtype='object')"
      ]
     },
     "execution_count": 15,
     "metadata": {},
     "output_type": "execute_result"
    }
   ],
   "source": [
    "f.columns"
   ]
  },
  {
   "cell_type": "code",
   "execution_count": 31,
   "metadata": {
    "ExecuteTime": {
     "end_time": "2022-03-31T03:02:47.454840Z",
     "start_time": "2022-03-31T03:02:47.278143Z"
    }
   },
   "outputs": [
    {
     "data": {
      "text/plain": [
       "<matplotlib.axes._subplots.AxesSubplot at 0x10f669c7d48>"
      ]
     },
     "execution_count": 31,
     "metadata": {},
     "output_type": "execute_result"
    },
    {
     "data": {
      "image/png": "[encoded data removed]",
      "text/plain": [
       "<Figure size 432x288 with 1 Axes>"
      ]
     },
     "metadata": {
      "needs_background": "light"
     },
     "output_type": "display_data"
    }
   ],
   "source": [
    "f.loc[:, \"InvestHome\"] = f.loc[:, \"HOME_winprob\"].apply(lambda x: 1 if (x>0.6) else 0)\n",
    "\n",
    "f.loc[:, \"InvestAway\"] = f.loc[:, \"AWAY_winprob\"].apply(lambda x: 1 if (x>0.6) else 0)\n",
    "\n",
    "f.loc[:, \"home_bet_win_result\"] = f.loc[:, \"home_win\"]\n",
    "f.loc[:, \"home_bet_lose_result\"] = abs(f.loc[:, \"home_win\"] - 1)\n",
    "\n",
    "\n",
    "f.loc[:, \"away_bet_win_result\"] = abs(f.loc[:, \"home_win\"] - 1)\n",
    "f.loc[:, \"away_bet_lose_result\"] = f.loc[:, \"home_win\"]\n",
    "\n",
    "f.loc[:, \"home_win_total\"] = f.loc[:, \"ML_Home\"].apply(lambda x: x/100 if x >=0 else 100/abs(x) )\n",
    "\n",
    "f.loc[:, \"away_win_total\"] = f.loc[:, \"ML_Away\"].apply(lambda x: x/100 if x >=0 else 100/abs(x) )\n",
    "\n",
    "f.loc[:, \"home_lose_total\"] = -1\n",
    "\n",
    "f.loc[:, \"away_lose_total\"] = -1\n",
    "\n",
    "f.loc[:, \"home_bet_earning\"] = f.loc[:, \"home_bet_win_result\"] * f.loc[:, \"home_win_total\"] * f.loc[:, \"InvestHome\"] + f.loc[:, \"home_bet_lose_result\"] * f.loc[:, \"home_lose_total\"] * f.loc[:, \"InvestHome\"]\n",
    "\n",
    "f.loc[:, \"away_bet_earning\"] = f.loc[:, \"away_bet_win_result\"] * f.loc[:, \"away_win_total\"] * f.loc[:, \"InvestAway\"] + f.loc[:, \"away_bet_lose_result\"] * f.loc[:, \"away_lose_total\"] * f.loc[:, \"InvestAway\"]\n",
    "\n",
    "f.loc[:, \"bet_earning_sum\"] =  f.loc[:, \"home_bet_earning\"]  + f.loc[:, \"away_bet_earning\"]\n",
    "\n",
    "f.loc[:, \"bet_earning_cum_sum\"] = f.loc[:, \"bet_earning_sum\"].cumsum()\n",
    "\n",
    "f.loc[:, \"bet_earning_cum_sum\"].plot()\n",
    "\n",
    "#print(\"average investment per game= {}\".format(np.mean(f.loc[:, \"InvestHome\"].mean())))"
   ]
  },
  {
   "cell_type": "code",
   "execution_count": 17,
   "metadata": {
    "ExecuteTime": {
     "end_time": "2022-03-31T02:39:50.879585Z",
     "start_time": "2022-03-31T02:39:50.830920Z"
    }
   },
   "outputs": [],
   "source": [
    "f.to_csv(\"result_machine_learning.csv\")"
   ]
  },
  {
   "cell_type": "code",
   "execution_count": 22,
   "metadata": {
    "ExecuteTime": {
     "end_time": "2022-03-31T02:58:10.714713Z",
     "start_time": "2022-03-31T02:58:10.709230Z"
    }
   },
   "outputs": [],
   "source": [
    "def calc_winprob(odds):\n",
    "    if odds >= 0:\n",
    "        return round(100/(odds+100), 2)\n",
    "    else:\n",
    "        return round(1 - 100/(-odds+100), 2)"
   ]
  },
  {
   "cell_type": "code",
   "execution_count": null,
   "metadata": {},
   "outputs": [],
   "source": [
    "f.loc[:, \"ActualHomeWinProb\"] = f.loc[:, \"ML_Home\"].apply(calc_winprob)\n",
    "f.loc[:, \"ActualHomeWinProb\"] = f.loc[:, \"ML_Away\"].apply(calc_winprob)\n",
    "f.loc[:, \"kellyHome\"] = (((1 - f.loc[:, \"ActualHomeWinProb\"]) / f.loc[:, \"ActualHomeWinProb\"]) * f.loc[:, \"HOME_winprob\"] - (1 - f.loc[:, \"HomeTeamProb\"])) / (\n",
    "                    (1 - f.loc[:, \"ActualHomeWinProb\"]) / f.loc[:, \"ActualHomeWinProb\"])\n",
    "\n",
    "f.loc[:, \"kellyAway\"] = (((1 - f.loc[:, \"ActualAwayWinProb\"]) / f.loc[:, \"ActualAwayWinProb\"]) * f.loc[:, \"AWAY_winprob\"] - (1 - f.loc[:, \"AwayTeamProb\"])) / (\n",
    "                    (1 - f.loc[:, \"ActualAwayWinProb\"]) / f.loc[:, \"ActualAwayWinProb\"])\n",
    "\n",
    "\n",
    "\n",
    "f.loc[:, \"InvestHome\"] = f.loc[:, \"kellyHome\"]\n",
    "\n",
    "f.loc[:, \"InvestAway\"] = f.loc[:, \"kellyAway\"]\n",
    "\n",
    "f.loc[:, \"home_bet_win_result\"] = f.loc[:, \"home_win\"]\n",
    "f.loc[:, \"home_bet_lose_result\"] = abs(f.loc[:, \"home_win\"] - 1)\n",
    "\n",
    "\n",
    "f.loc[:, \"away_bet_win_result\"] = abs(f.loc[:, \"home_win\"] - 1)\n",
    "f.loc[:, \"away_bet_lose_result\"] = f.loc[:, \"home_win\"]\n",
    "\n",
    "f.loc[:, \"home_win_total\"] = f.loc[:, \"ML_Home\"].apply(lambda x: x/100 if x >=0 else 100/abs(x) )\n",
    "\n",
    "f.loc[:, \"away_win_total\"] = f.loc[:, \"ML_Away\"].apply(lambda x: x/100 if x >=0 else 100/abs(x) )\n",
    "\n",
    "f.loc[:, \"home_lose_total\"] = -1\n",
    "\n",
    "f.loc[:, \"away_lose_total\"] = -1\n",
    "\n",
    "f.loc[:, \"home_bet_earning\"] = f.loc[:, \"home_bet_win_result\"] * f.loc[:, \"home_win_total\"] * f.loc[:, \"InvestHome\"] + f.loc[:, \"home_bet_lose_result\"] * f.loc[:, \"home_lose_total\"] * f.loc[:, \"InvestHome\"]\n",
    "\n",
    "f.loc[:, \"away_bet_earning\"] = f.loc[:, \"away_bet_win_result\"] * f.loc[:, \"away_win_total\"] * f.loc[:, \"InvestAway\"] + f.loc[:, \"away_bet_lose_result\"] * f.loc[:, \"away_lose_total\"] * f.loc[:, \"InvestAway\"]\n",
    "\n",
    "f.loc[:, \"bet_earning_sum\"] =  f.loc[:, \"home_bet_earning\"]  + f.loc[:, \"away_bet_earning\"]\n",
    "\n",
    "f.loc[:, \"bet_earning_cum_sum\"] = f.loc[:, \"bet_earning_sum\"].cumsum()\n",
    "\n",
    "f.loc[:, \"bet_earning_cum_sum\"].plot()\n",
    "\n",
    "#print(\"average investment per game= {}\".format(np.mean(f.loc[:, \"InvestHome\"].mean())))"
   ]
  },
  {
   "cell_type": "code",
   "execution_count": 18,
   "metadata": {
    "ExecuteTime": {
     "end_time": "2022-03-31T02:42:13.081029Z",
     "start_time": "2022-03-31T02:42:13.071485Z"
    }
   },
   "outputs": [
    {
     "data": {
      "text/plain": [
       "705"
      ]
     },
     "execution_count": 18,
     "metadata": {},
     "output_type": "execute_result"
    }
   ],
   "source": [
    "f.accurate.sum()"
   ]
  },
  {
   "cell_type": "code",
   "execution_count": 19,
   "metadata": {
    "ExecuteTime": {
     "end_time": "2022-03-31T02:42:17.298972Z",
     "start_time": "2022-03-31T02:42:17.279039Z"
    }
   },
   "outputs": [
    {
     "data": {
      "text/plain": [
       "1032"
      ]
     },
     "execution_count": 19,
     "metadata": {},
     "output_type": "execute_result"
    }
   ],
   "source": [
    "len(f)"
   ]
  },
  {
   "cell_type": "code",
   "execution_count": null,
   "metadata": {},
   "outputs": [],
   "source": []
  }
 ],
 "metadata": {
  "hide_input": false,
  "kernelspec": {
   "display_name": "Python [conda env:py37]",
   "language": "python",
   "name": "conda-env-py37-py"
  },
  "language_info": {
   "codemirror_mode": {
    "name": "ipython",
    "version": 3
   },
   "file_extension": ".py",
   "mimetype": "text/x-python",
   "name": "python",
   "nbconvert_exporter": "python",
   "pygments_lexer": "ipython3",
   "version": "3.7.5"
  },
  "toc": {
   "base_numbering": 1,
   "nav_menu": {},
   "number_sections": true,
   "sideBar": true,
   "skip_h1_title": false,
   "title_cell": "Table of Contents",
   "title_sidebar": "Contents",
   "toc_cell": false,
   "toc_position": {},
   "toc_section_display": true,
   "toc_window_display": false
  },
  "varInspector": {
   "cols": {
    "lenName": 16,
    "lenType": 16,
    "lenVar": 40
   },
   "kernels_config": {
    "python": {
     "delete_cmd_postfix": "",
     "delete_cmd_prefix": "del ",
     "library": "var_list.py",
     "varRefreshCmd": "print(var_dic_list())"
    },
    "r": {
     "delete_cmd_postfix": ") ",
     "delete_cmd_prefix": "rm(",
     "library": "var_list.r",
     "varRefreshCmd": "cat(var_dic_list()) "
    }
   },
   "types_to_exclude": [
    "module",
    "function",
    "builtin_function_or_method",
    "instance",
    "_Feature"
   ],
   "window_display": false
  }
 },
 "nbformat": 4,
 "nbformat_minor": 2
}
