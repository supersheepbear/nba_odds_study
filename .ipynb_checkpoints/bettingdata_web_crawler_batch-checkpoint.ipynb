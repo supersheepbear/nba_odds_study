{
 "cells": [
  {
   "cell_type": "code",
   "execution_count": 14,
   "metadata": {
    "ExecuteTime": {
     "end_time": "2022-03-28T03:17:26.508719Z",
     "start_time": "2022-03-28T03:17:26.503843Z"
    }
   },
   "outputs": [],
   "source": [
    "import socket\n",
    "import http\n",
    "import random\n",
    "import time\n",
    "from fake_useragent import UserAgent\n",
    "import requests\n",
    "import requests\n",
    "import json\n",
    "from datetime import date, timedelta\n",
    "import logging\n",
    "import pandas as pd\n",
    "import io   \n",
    "import os"
   ]
  },
  {
   "cell_type": "code",
   "execution_count": 3,
   "metadata": {
    "ExecuteTime": {
     "end_time": "2022-03-28T01:02:37.608286Z",
     "start_time": "2022-03-28T01:02:37.601270Z"
    }
   },
   "outputs": [],
   "source": [
    "def get_web_content(my_url, my_data, my_headers):\n",
    "    timeout = random.choice(range(80, 180))\n",
    "    try:\n",
    "        rep = requests.post(my_url,data = my_data, headers = my_headers, timeout = timeout)\n",
    "        rep.encoding = 'utf-8'\n",
    "        time.sleep(random.choice(range(1, 3)))\n",
    "        return rep\n",
    "    except Exception as e:\n",
    "        print(e)\n",
    "        time.sleep(random.choice(range(1, 3)))\n",
    "        return None"
   ]
  },
  {
   "cell_type": "code",
   "execution_count": 6,
   "metadata": {
    "ExecuteTime": {
     "end_time": "2022-03-28T03:00:51.518214Z",
     "start_time": "2022-03-28T03:00:51.512322Z"
    }
   },
   "outputs": [],
   "source": [
    "def get_current_date_csv(date_string:str):\n",
    "    ua = UserAgent()\n",
    "    user_agent = ua.random\n",
    "\n",
    "    url = \"https://bettingdata.com/NBA_Odds/Odds_Read\"\n",
    "    # 以字典的形式构造数据\n",
    "    data = {\"scope\":2,\"subscope\":1,\"week\":None,\"season\":2022,\"seasontype\":1,\"team\":None,\"conference\":None,\"exportType\":\"csv\",\"date\":date_string,\"teamkey\":\"ATL\",\"show_no_odds\":False,\"client\":1,\"state\":\"MI\",\"geo_state\":None,\"league\":\"nba\",\"widget_scope\":1}\n",
    "\n",
    "\n",
    "    data = json.dumps(data)\n",
    "    headers = {\n",
    "        \"user-agent\": user_agent,\n",
    "        \"accept\": \"application/json, text/plain, */*\",\n",
    "        \"accept-language\": \"en-US,en;q=0.9,zh-CN;q=0.8,zh;q=0.7,zh-TW;q=0.6,es;q=0.5,ja;q=0.4\",\n",
    "        \"content-type\": \"application/json;charset=UTF-8\",\n",
    "        \"cookie\": \"_ga=GA1.1.1975252377.1647814774; _cioanonid=9f5c3bc3-08e4-f009-ea31-5aedba08646e; ASP.NET_SessionId=jbmyrl0heebfldtuakjccmyi; _cioid=87798; BettingData_CookiesAccepted=1; fdw_geo_state=MI; geo_state=%7B%22Code%22%3A%22MI%22%2C%22Name%22%3A%22Michigan%22%7D; ks03ndsapqq84662kglvmcya009273nhdkwsn=8147d7ac-dc99-4c44-a5ad-8c66471de615; _ga_QXY5NYRE7Q=GS1.1.1648419712.9.1.1648420624.0\",\n",
    "      }\n",
    "    response =get_web_content(my_url=url, my_data=data, my_headers=headers)\n",
    "    return response"
   ]
  },
  {
   "cell_type": "code",
   "execution_count": 9,
   "metadata": {
    "ExecuteTime": {
     "end_time": "2022-03-28T03:09:53.828074Z",
     "start_time": "2022-03-28T03:09:53.812462Z"
    }
   },
   "outputs": [],
   "source": [
    "start_date = date(2019, 8, 20) \n",
    "end_date = date(2022, 3, 27)    # perhaps date.now()\n",
    "\n",
    "delta = end_date - start_date   # returns timedelta\n",
    "\n",
    "date_string_list = []\n",
    "date_list = []\n",
    "for i in range(delta.days + 1):\n",
    "    day = start_date + timedelta(days=i)\n",
    "    date_list.append(day)\n",
    "    date_string_list.append(day.strftime(\"%m-%d-%Y\"))"
   ]
  },
  {
   "cell_type": "code",
   "execution_count": 12,
   "metadata": {
    "ExecuteTime": {
     "end_time": "2022-03-28T03:11:04.622333Z",
     "start_time": "2022-03-28T03:11:04.554046Z"
    }
   },
   "outputs": [],
   "source": [
    "# create logger with name\n",
    "# if not specified, it will be root\n",
    "logger = logging.getLogger('my_logger')\n",
    "logger.setLevel(logging.DEBUG)\n",
    "\n",
    "# create a handler, write to log.txt\n",
    "# logging.FileHandler(self, filename, mode='a', encoding=None, delay=0)\n",
    "# A handler class which writes formatted logging records to disk files.\n",
    "fh = logging.FileHandler('bettingdata_log.txt')\n",
    "fh.setLevel(logging.DEBUG)\n",
    "\n",
    "# create another handler, for stdout in terminal\n",
    "# A handler class which writes logging records to a stream\n",
    "sh = logging.StreamHandler()\n",
    "sh.setLevel(logging.DEBUG)\n",
    "\n",
    "# set formatter\n",
    "formatter = logging.Formatter('%(asctime)s - %(name)s - %(levelname)s - %(message)s')\n",
    "fh.setFormatter(formatter)\n",
    "sh.setFormatter(formatter)\n",
    "\n",
    "# add handler to logger\n",
    "logger.addHandler(fh)\n",
    "logger.addHandler(sh)"
   ]
  },
  {
   "cell_type": "code",
   "execution_count": null,
   "metadata": {
    "ExecuteTime": {
     "start_time": "2022-03-28T03:18:39.534Z"
    }
   },
   "outputs": [
    {
     "name": "stderr",
     "output_type": "stream",
     "text": [
      "2022-03-27 23:18:39,539 - my_logger - INFO - Getting data from date: 08-20-2019 \n",
      "\n",
      "2022-03-27 23:18:43,985 - my_logger - INFO - request response is 200\n",
      "2022-03-27 23:18:43,986 - my_logger - INFO - current date has no data\n",
      "2022-03-27 23:18:43,987 - my_logger - INFO - Getting data from date: 08-21-2019 \n",
      "\n",
      "2022-03-27 23:18:46,003 - my_logger - INFO - request response is 200\n",
      "2022-03-27 23:18:46,004 - my_logger - INFO - current date has no data\n",
      "2022-03-27 23:18:46,005 - my_logger - INFO - Getting data from date: 08-22-2019 \n",
      "\n",
      "2022-03-27 23:18:50,999 - my_logger - INFO - request response is 200\n",
      "2022-03-27 23:18:51,000 - my_logger - INFO - current date has no data\n",
      "2022-03-27 23:18:51,007 - my_logger - INFO - Getting data from date: 08-23-2019 \n",
      "\n",
      "2022-03-27 23:18:53,961 - my_logger - INFO - request response is 200\n",
      "2022-03-27 23:18:53,962 - my_logger - INFO - current date has no data\n",
      "2022-03-27 23:18:53,962 - my_logger - INFO - Getting data from date: 08-24-2019 \n",
      "\n",
      "2022-03-27 23:18:56,999 - my_logger - INFO - request response is 200\n",
      "2022-03-27 23:18:57,000 - my_logger - INFO - current date has no data\n",
      "2022-03-27 23:18:57,002 - my_logger - INFO - Getting data from date: 08-25-2019 \n",
      "\n",
      "2022-03-27 23:18:59,969 - my_logger - INFO - request response is 200\n",
      "2022-03-27 23:18:59,975 - my_logger - INFO - current date has no data\n",
      "2022-03-27 23:18:59,976 - my_logger - INFO - Getting data from date: 08-26-2019 \n",
      "\n",
      "2022-03-27 23:19:05,867 - my_logger - INFO - request response is 200\n",
      "2022-03-27 23:19:05,868 - my_logger - INFO - current date has no data\n",
      "2022-03-27 23:19:05,868 - my_logger - INFO - Getting data from date: 08-27-2019 \n",
      "\n",
      "2022-03-27 23:19:09,023 - my_logger - INFO - request response is 200\n",
      "2022-03-27 23:19:09,024 - my_logger - INFO - current date has no data\n",
      "2022-03-27 23:19:09,025 - my_logger - INFO - Getting data from date: 08-28-2019 \n",
      "\n",
      "2022-03-27 23:19:10,893 - my_logger - INFO - request response is 200\n",
      "2022-03-27 23:19:10,894 - my_logger - INFO - current date has no data\n",
      "2022-03-27 23:19:10,895 - my_logger - INFO - Getting data from date: 08-29-2019 \n",
      "\n",
      "2022-03-27 23:19:14,803 - my_logger - INFO - request response is 200\n",
      "2022-03-27 23:19:14,804 - my_logger - INFO - current date has no data\n",
      "2022-03-27 23:19:14,804 - my_logger - INFO - Getting data from date: 08-30-2019 \n",
      "\n",
      "2022-03-27 23:19:17,634 - my_logger - INFO - request response is 200\n",
      "2022-03-27 23:19:17,638 - my_logger - INFO - current date has no data\n",
      "2022-03-27 23:19:17,640 - my_logger - INFO - Getting data from date: 08-31-2019 \n",
      "\n",
      "2022-03-27 23:19:20,525 - my_logger - INFO - request response is 200\n",
      "2022-03-27 23:19:20,526 - my_logger - INFO - current date has no data\n",
      "2022-03-27 23:19:20,526 - my_logger - INFO - Getting data from date: 09-01-2019 \n",
      "\n",
      "2022-03-27 23:19:22,760 - my_logger - INFO - request response is 200\n",
      "2022-03-27 23:19:22,760 - my_logger - INFO - current date has no data\n",
      "2022-03-27 23:19:22,761 - my_logger - INFO - Getting data from date: 09-02-2019 \n",
      "\n",
      "2022-03-27 23:19:25,980 - my_logger - INFO - request response is 200\n",
      "2022-03-27 23:19:25,981 - my_logger - INFO - current date has no data\n",
      "2022-03-27 23:19:25,981 - my_logger - INFO - Getting data from date: 09-03-2019 \n",
      "\n",
      "2022-03-27 23:19:28,882 - my_logger - INFO - request response is 200\n",
      "2022-03-27 23:19:28,883 - my_logger - INFO - current date has no data\n",
      "2022-03-27 23:19:28,884 - my_logger - INFO - Getting data from date: 09-04-2019 \n",
      "\n",
      "2022-03-27 23:19:31,981 - my_logger - INFO - request response is 200\n",
      "2022-03-27 23:19:31,982 - my_logger - INFO - current date has no data\n",
      "2022-03-27 23:19:31,983 - my_logger - INFO - Getting data from date: 09-05-2019 \n",
      "\n",
      "2022-03-27 23:19:34,172 - my_logger - INFO - request response is 200\n",
      "2022-03-27 23:19:34,172 - my_logger - INFO - current date has no data\n",
      "2022-03-27 23:19:34,173 - my_logger - INFO - Getting data from date: 09-06-2019 \n",
      "\n",
      "2022-03-27 23:19:37,090 - my_logger - INFO - request response is 200\n",
      "2022-03-27 23:19:37,091 - my_logger - INFO - current date has no data\n",
      "2022-03-27 23:19:37,093 - my_logger - INFO - Getting data from date: 09-07-2019 \n",
      "\n",
      "2022-03-27 23:19:39,349 - my_logger - INFO - request response is 200\n",
      "2022-03-27 23:19:39,350 - my_logger - INFO - current date has no data\n",
      "2022-03-27 23:19:39,350 - my_logger - INFO - Getting data from date: 09-08-2019 \n",
      "\n",
      "2022-03-27 23:19:41,495 - my_logger - INFO - request response is 200\n",
      "2022-03-27 23:19:41,496 - my_logger - INFO - current date has no data\n",
      "2022-03-27 23:19:41,496 - my_logger - INFO - Getting data from date: 09-09-2019 \n",
      "\n",
      "2022-03-27 23:19:44,394 - my_logger - INFO - request response is 200\n",
      "2022-03-27 23:19:44,395 - my_logger - INFO - current date has no data\n",
      "2022-03-27 23:19:44,396 - my_logger - INFO - Getting data from date: 09-10-2019 \n",
      "\n",
      "2022-03-27 23:19:46,351 - my_logger - INFO - request response is 200\n",
      "2022-03-27 23:19:46,351 - my_logger - INFO - current date has no data\n",
      "2022-03-27 23:19:46,353 - my_logger - INFO - Getting data from date: 09-11-2019 \n",
      "\n",
      "2022-03-27 23:19:49,403 - my_logger - INFO - request response is 200\n",
      "2022-03-27 23:19:49,403 - my_logger - INFO - current date has no data\n",
      "2022-03-27 23:19:49,404 - my_logger - INFO - Getting data from date: 09-12-2019 \n",
      "\n",
      "2022-03-27 23:19:51,266 - my_logger - INFO - request response is 200\n",
      "2022-03-27 23:19:51,266 - my_logger - INFO - current date has no data\n",
      "2022-03-27 23:19:51,267 - my_logger - INFO - Getting data from date: 09-13-2019 \n",
      "\n",
      "2022-03-27 23:19:54,776 - my_logger - INFO - request response is 200\n",
      "2022-03-27 23:19:54,778 - my_logger - INFO - current date has no data\n",
      "2022-03-27 23:19:54,779 - my_logger - INFO - Getting data from date: 09-14-2019 \n",
      "\n",
      "2022-03-27 23:19:57,001 - my_logger - INFO - request response is 200\n",
      "2022-03-27 23:19:57,003 - my_logger - INFO - current date has no data\n",
      "2022-03-27 23:19:57,004 - my_logger - INFO - Getting data from date: 09-15-2019 \n",
      "\n",
      "2022-03-27 23:20:02,806 - my_logger - INFO - request response is 200\n",
      "2022-03-27 23:20:02,806 - my_logger - INFO - current date has no data\n",
      "2022-03-27 23:20:02,807 - my_logger - INFO - Getting data from date: 09-16-2019 \n",
      "\n",
      "2022-03-27 23:20:07,945 - my_logger - INFO - request response is 200\n",
      "2022-03-27 23:20:07,946 - my_logger - INFO - current date has no data\n",
      "2022-03-27 23:20:07,946 - my_logger - INFO - Getting data from date: 09-17-2019 \n",
      "\n",
      "2022-03-27 23:20:14,117 - my_logger - INFO - request response is 200\n",
      "2022-03-27 23:20:14,118 - my_logger - INFO - current date has no data\n",
      "2022-03-27 23:20:14,119 - my_logger - INFO - Getting data from date: 09-18-2019 \n",
      "\n",
      "2022-03-27 23:20:17,172 - my_logger - INFO - request response is 200\n",
      "2022-03-27 23:20:17,172 - my_logger - INFO - current date has no data\n",
      "2022-03-27 23:20:17,172 - my_logger - INFO - Getting data from date: 09-19-2019 \n",
      "\n",
      "2022-03-27 23:20:20,083 - my_logger - INFO - request response is 200\n",
      "2022-03-27 23:20:20,084 - my_logger - INFO - current date has no data\n",
      "2022-03-27 23:20:20,085 - my_logger - INFO - Getting data from date: 09-20-2019 \n",
      "\n",
      "2022-03-27 23:20:21,415 - my_logger - INFO - request response is 200\n",
      "2022-03-27 23:20:21,415 - my_logger - INFO - current date has no data\n",
      "2022-03-27 23:20:21,416 - my_logger - INFO - Getting data from date: 09-21-2019 \n",
      "\n",
      "2022-03-27 23:20:24,625 - my_logger - INFO - request response is 200\n",
      "2022-03-27 23:20:24,625 - my_logger - INFO - current date has no data\n",
      "2022-03-27 23:20:24,626 - my_logger - INFO - Getting data from date: 09-22-2019 \n",
      "\n",
      "2022-03-27 23:20:26,757 - my_logger - INFO - request response is 200\n",
      "2022-03-27 23:20:26,757 - my_logger - INFO - current date has no data\n",
      "2022-03-27 23:20:26,758 - my_logger - INFO - Getting data from date: 09-23-2019 \n",
      "\n",
      "2022-03-27 23:20:30,007 - my_logger - INFO - request response is 200\n",
      "2022-03-27 23:20:30,009 - my_logger - INFO - current date has no data\n",
      "2022-03-27 23:20:30,011 - my_logger - INFO - Getting data from date: 09-24-2019 \n",
      "\n",
      "2022-03-27 23:20:33,369 - my_logger - INFO - request response is 200\n",
      "2022-03-27 23:20:33,369 - my_logger - INFO - current date has no data\n",
      "2022-03-27 23:20:33,370 - my_logger - INFO - Getting data from date: 09-25-2019 \n",
      "\n",
      "2022-03-27 23:20:36,822 - my_logger - INFO - request response is 200\n",
      "2022-03-27 23:20:36,823 - my_logger - INFO - current date has no data\n",
      "2022-03-27 23:20:36,823 - my_logger - INFO - Getting data from date: 09-26-2019 \n",
      "\n"
     ]
    },
    {
     "name": "stderr",
     "output_type": "stream",
     "text": [
      "2022-03-27 23:20:38,937 - my_logger - INFO - request response is 200\n",
      "2022-03-27 23:20:38,938 - my_logger - INFO - current date has no data\n",
      "2022-03-27 23:20:38,938 - my_logger - INFO - Getting data from date: 09-27-2019 \n",
      "\n",
      "2022-03-27 23:20:41,131 - my_logger - INFO - request response is 200\n",
      "2022-03-27 23:20:41,132 - my_logger - INFO - current date has no data\n",
      "2022-03-27 23:20:41,133 - my_logger - INFO - Getting data from date: 09-28-2019 \n",
      "\n"
     ]
    }
   ],
   "source": [
    "for date_string in date_string_list:\n",
    "    try:\n",
    "        logger.info(\"Getting data from date: {} \\n\".format(date_string))\n",
    "        response = get_current_date_csv(date_string)\n",
    "        logger.info(\"request response is {}\".format(response.status_code))\n",
    "        if response.status_code != 200:\n",
    "            logger.error(\"response code failed\")\n",
    "            continue\n",
    "        if response == None:\n",
    "            logger.error(\"response is None type\")\n",
    "            continue\n",
    "        if response.text == \"\":\n",
    "            logger.info(\"current date has no data\")\n",
    "            continue\n",
    "        pd.read_csv(io.StringIO(response.text)).to_csv(os.path.join(\"bettingdata_odds\", date_string + \".csv\"))\n",
    "    except Exception as e:\n",
    "        logging.exception(e)\n",
    "        continue"
   ]
  },
  {
   "cell_type": "code",
   "execution_count": null,
   "metadata": {},
   "outputs": [],
   "source": []
  }
 ],
 "metadata": {
  "hide_input": false,
  "kernelspec": {
   "display_name": "Python [conda env:py37]",
   "language": "python",
   "name": "conda-env-py37-py"
  },
  "language_info": {
   "codemirror_mode": {
    "name": "ipython",
    "version": 3
   },
   "file_extension": ".py",
   "mimetype": "text/x-python",
   "name": "python",
   "nbconvert_exporter": "python",
   "pygments_lexer": "ipython3",
   "version": "3.7.5"
  },
  "toc": {
   "base_numbering": 1,
   "nav_menu": {},
   "number_sections": true,
   "sideBar": true,
   "skip_h1_title": false,
   "title_cell": "Table of Contents",
   "title_sidebar": "Contents",
   "toc_cell": false,
   "toc_position": {},
   "toc_section_display": true,
   "toc_window_display": false
  },
  "varInspector": {
   "cols": {
    "lenName": 16,
    "lenType": 16,
    "lenVar": 40
   },
   "kernels_config": {
    "python": {
     "delete_cmd_postfix": "",
     "delete_cmd_prefix": "del ",
     "library": "var_list.py",
     "varRefreshCmd": "print(var_dic_list())"
    },
    "r": {
     "delete_cmd_postfix": ") ",
     "delete_cmd_prefix": "rm(",
     "library": "var_list.r",
     "varRefreshCmd": "cat(var_dic_list()) "
    }
   },
   "types_to_exclude": [
    "module",
    "function",
    "builtin_function_or_method",
    "instance",
    "_Feature"
   ],
   "window_display": false
  }
 },
 "nbformat": 4,
 "nbformat_minor": 2
}
