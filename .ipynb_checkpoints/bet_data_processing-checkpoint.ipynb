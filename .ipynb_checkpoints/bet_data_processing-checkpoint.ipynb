{
 "cells": [
  {
   "cell_type": "code",
   "execution_count": 1,
   "metadata": {
    "ExecuteTime": {
     "end_time": "2022-03-29T02:27:55.926413Z",
     "start_time": "2022-03-29T02:27:55.504913Z"
    }
   },
   "outputs": [],
   "source": [
    "import pandas as pd\n",
    "from datetime import datetime, timedelta\n",
    "import numpy as np"
   ]
  },
  {
   "cell_type": "code",
   "execution_count": 2,
   "metadata": {
    "ExecuteTime": {
     "end_time": "2022-03-29T02:27:56.220500Z",
     "start_time": "2022-03-29T02:27:56.129167Z"
    }
   },
   "outputs": [],
   "source": [
    "odds_f = pd.read_csv(\"bettingdata_odds.csv\", parse_dates=[\"datetime\"], index_col=\"datetime\")"
   ]
  },
  {
   "cell_type": "code",
   "execution_count": 3,
   "metadata": {
    "ExecuteTime": {
     "end_time": "2022-03-29T02:27:56.645330Z",
     "start_time": "2022-03-29T02:27:56.632643Z"
    }
   },
   "outputs": [
    {
     "data": {
      "text/plain": [
       "DatetimeIndex(['2019-01-02', '2019-01-02', '2019-01-02', '2019-01-02',\n",
       "               '2019-01-02', '2019-01-02', '2019-01-02', '2019-01-02',\n",
       "               '2019-01-02', '2019-01-03',\n",
       "               ...\n",
       "               '2022-03-26', '2022-03-26', '2022-03-26', '2022-03-27',\n",
       "               '2022-03-27', '2022-03-27', '2022-03-27', '2022-03-27',\n",
       "               '2022-03-27', '2022-03-27'],\n",
       "              dtype='datetime64[ns]', name='datetime', length=4321, freq=None)"
      ]
     },
     "execution_count": 3,
     "metadata": {},
     "output_type": "execute_result"
    }
   ],
   "source": [
    "odds_f.index"
   ]
  },
  {
   "cell_type": "code",
   "execution_count": 4,
   "metadata": {
    "ExecuteTime": {
     "end_time": "2022-03-29T02:27:57.021088Z",
     "start_time": "2022-03-29T02:27:56.984978Z"
    }
   },
   "outputs": [],
   "source": [
    "odds_f.drop(datetime(2019, 2, 17), axis=0, inplace=True)\n",
    "odds_f.drop(datetime(2022, 2, 20), axis=0, inplace=True)\n",
    "odds_f.drop(datetime(2020, 2, 16), axis=0, inplace=True)\n",
    "odds_f.drop(datetime(2021, 3, 7), axis=0, inplace=True)"
   ]
  },
  {
   "cell_type": "code",
   "execution_count": 5,
   "metadata": {
    "ExecuteTime": {
     "end_time": "2022-03-29T02:27:57.560043Z",
     "start_time": "2022-03-29T02:27:57.362857Z"
    }
   },
   "outputs": [],
   "source": [
    "predict_f = pd.read_csv(\"predictions/five_thirtyeight/nba_elo.csv\", parse_dates=[\"date\"], index_col=\"date\")"
   ]
  },
  {
   "cell_type": "code",
   "execution_count": 9,
   "metadata": {
    "ExecuteTime": {
     "end_time": "2022-03-29T02:28:14.228323Z",
     "start_time": "2022-03-29T02:28:14.217615Z"
    }
   },
   "outputs": [],
   "source": [
    "odds_f_sub = odds_f[[\"AwayTeam\", \"HomeTeam\",\"HomeTeamHasWon\",\"ConsensusHomeMoneyLine\", \"ConsensusAwayMoneyLine\"]]\n",
    "predict_f_sub = predict_f[[\"team1\", \"team2\", \"elo_prob1\", \"elo_prob2\"]]\n",
    "predict_f_sub = predict_f_sub[predict_f_sub.index >= odds_f_sub.index[0]]\n",
    "predict_f_sub = predict_f_sub[predict_f_sub.index <= odds_f_sub.index[-1]]"
   ]
  },
  {
   "cell_type": "code",
   "execution_count": 10,
   "metadata": {
    "ExecuteTime": {
     "end_time": "2022-03-29T02:28:16.349130Z",
     "start_time": "2022-03-29T02:28:16.337242Z"
    }
   },
   "outputs": [
    {
     "data": {
      "text/html": [
       "<div>\n",
       "<style scoped>\n",
       "    .dataframe tbody tr th:only-of-type {\n",
       "        vertical-align: middle;\n",
       "    }\n",
       "\n",
       "    .dataframe tbody tr th {\n",
       "        vertical-align: top;\n",
       "    }\n",
       "\n",
       "    .dataframe thead th {\n",
       "        text-align: right;\n",
       "    }\n",
       "</style>\n",
       "<table border=\"1\" class=\"dataframe\">\n",
       "  <thead>\n",
       "    <tr style=\"text-align: right;\">\n",
       "      <th></th>\n",
       "      <th>team1</th>\n",
       "      <th>team2</th>\n",
       "      <th>elo_prob1</th>\n",
       "      <th>elo_prob2</th>\n",
       "    </tr>\n",
       "    <tr>\n",
       "      <th>date</th>\n",
       "      <th></th>\n",
       "      <th></th>\n",
       "      <th></th>\n",
       "      <th></th>\n",
       "    </tr>\n",
       "  </thead>\n",
       "  <tbody>\n",
       "    <tr>\n",
       "      <th>2019-01-02</th>\n",
       "      <td>CHO</td>\n",
       "      <td>DAL</td>\n",
       "      <td>0.671360</td>\n",
       "      <td>0.328640</td>\n",
       "    </tr>\n",
       "    <tr>\n",
       "      <th>2019-01-02</th>\n",
       "      <td>CLE</td>\n",
       "      <td>MIA</td>\n",
       "      <td>0.421730</td>\n",
       "      <td>0.578270</td>\n",
       "    </tr>\n",
       "    <tr>\n",
       "      <th>2019-01-02</th>\n",
       "      <td>WAS</td>\n",
       "      <td>ATL</td>\n",
       "      <td>0.724603</td>\n",
       "      <td>0.275397</td>\n",
       "    </tr>\n",
       "    <tr>\n",
       "      <th>2019-01-02</th>\n",
       "      <td>BRK</td>\n",
       "      <td>NOP</td>\n",
       "      <td>0.536187</td>\n",
       "      <td>0.463813</td>\n",
       "    </tr>\n",
       "    <tr>\n",
       "      <th>2019-01-02</th>\n",
       "      <td>CHI</td>\n",
       "      <td>ORL</td>\n",
       "      <td>0.552163</td>\n",
       "      <td>0.447837</td>\n",
       "    </tr>\n",
       "    <tr>\n",
       "      <th>...</th>\n",
       "      <td>...</td>\n",
       "      <td>...</td>\n",
       "      <td>...</td>\n",
       "      <td>...</td>\n",
       "    </tr>\n",
       "    <tr>\n",
       "      <th>2022-03-27</th>\n",
       "      <td>WAS</td>\n",
       "      <td>GSW</td>\n",
       "      <td>0.347830</td>\n",
       "      <td>0.652170</td>\n",
       "    </tr>\n",
       "    <tr>\n",
       "      <th>2022-03-27</th>\n",
       "      <td>BOS</td>\n",
       "      <td>MIN</td>\n",
       "      <td>0.766541</td>\n",
       "      <td>0.233459</td>\n",
       "    </tr>\n",
       "    <tr>\n",
       "      <th>2022-03-27</th>\n",
       "      <td>NOP</td>\n",
       "      <td>LAL</td>\n",
       "      <td>0.755368</td>\n",
       "      <td>0.244632</td>\n",
       "    </tr>\n",
       "    <tr>\n",
       "      <th>2022-03-27</th>\n",
       "      <td>DAL</td>\n",
       "      <td>UTA</td>\n",
       "      <td>0.621091</td>\n",
       "      <td>0.378909</td>\n",
       "    </tr>\n",
       "    <tr>\n",
       "      <th>2022-03-27</th>\n",
       "      <td>BRK</td>\n",
       "      <td>CHO</td>\n",
       "      <td>0.660568</td>\n",
       "      <td>0.339432</td>\n",
       "    </tr>\n",
       "  </tbody>\n",
       "</table>\n",
       "<p>4193 rows × 4 columns</p>\n",
       "</div>"
      ],
      "text/plain": [
       "           team1 team2  elo_prob1  elo_prob2\n",
       "date                                        \n",
       "2019-01-02   CHO   DAL   0.671360   0.328640\n",
       "2019-01-02   CLE   MIA   0.421730   0.578270\n",
       "2019-01-02   WAS   ATL   0.724603   0.275397\n",
       "2019-01-02   BRK   NOP   0.536187   0.463813\n",
       "2019-01-02   CHI   ORL   0.552163   0.447837\n",
       "...          ...   ...        ...        ...\n",
       "2022-03-27   WAS   GSW   0.347830   0.652170\n",
       "2022-03-27   BOS   MIN   0.766541   0.233459\n",
       "2022-03-27   NOP   LAL   0.755368   0.244632\n",
       "2022-03-27   DAL   UTA   0.621091   0.378909\n",
       "2022-03-27   BRK   CHO   0.660568   0.339432\n",
       "\n",
       "[4193 rows x 4 columns]"
      ]
     },
     "execution_count": 10,
     "metadata": {},
     "output_type": "execute_result"
    }
   ],
   "source": [
    "predict_f_sub"
   ]
  },
  {
   "cell_type": "code",
   "execution_count": null,
   "metadata": {
    "ExecuteTime": {
     "end_time": "2022-03-29T02:27:58.334996Z",
     "start_time": "2022-03-29T02:27:58.330115Z"
    }
   },
   "outputs": [],
   "source": []
  },
  {
   "cell_type": "code",
   "execution_count": 11,
   "metadata": {
    "ExecuteTime": {
     "end_time": "2022-03-29T02:28:17.686082Z",
     "start_time": "2022-03-29T02:28:17.672837Z"
    }
   },
   "outputs": [
    {
     "data": {
      "text/html": [
       "<div>\n",
       "<style scoped>\n",
       "    .dataframe tbody tr th:only-of-type {\n",
       "        vertical-align: middle;\n",
       "    }\n",
       "\n",
       "    .dataframe tbody tr th {\n",
       "        vertical-align: top;\n",
       "    }\n",
       "\n",
       "    .dataframe thead th {\n",
       "        text-align: right;\n",
       "    }\n",
       "</style>\n",
       "<table border=\"1\" class=\"dataframe\">\n",
       "  <thead>\n",
       "    <tr style=\"text-align: right;\">\n",
       "      <th></th>\n",
       "      <th>AwayTeam</th>\n",
       "      <th>HomeTeam</th>\n",
       "      <th>HomeTeamHasWon</th>\n",
       "      <th>ConsensusHomeMoneyLine</th>\n",
       "      <th>ConsensusAwayMoneyLine</th>\n",
       "    </tr>\n",
       "    <tr>\n",
       "      <th>datetime</th>\n",
       "      <th></th>\n",
       "      <th></th>\n",
       "      <th></th>\n",
       "      <th></th>\n",
       "      <th></th>\n",
       "    </tr>\n",
       "  </thead>\n",
       "  <tbody>\n",
       "    <tr>\n",
       "      <th>2019-01-02</th>\n",
       "      <td>ORL</td>\n",
       "      <td>CHI</td>\n",
       "      <td>False</td>\n",
       "      <td>102.0</td>\n",
       "      <td>-112.0</td>\n",
       "    </tr>\n",
       "    <tr>\n",
       "      <th>2019-01-02</th>\n",
       "      <td>OKC</td>\n",
       "      <td>LAL</td>\n",
       "      <td>False</td>\n",
       "      <td>190.0</td>\n",
       "      <td>-210.0</td>\n",
       "    </tr>\n",
       "    <tr>\n",
       "      <th>2019-01-02</th>\n",
       "      <td>PHI</td>\n",
       "      <td>PHO</td>\n",
       "      <td>False</td>\n",
       "      <td>150.0</td>\n",
       "      <td>-160.0</td>\n",
       "    </tr>\n",
       "    <tr>\n",
       "      <th>2019-01-02</th>\n",
       "      <td>DET</td>\n",
       "      <td>MEM</td>\n",
       "      <td>False</td>\n",
       "      <td>-240.0</td>\n",
       "      <td>220.0</td>\n",
       "    </tr>\n",
       "    <tr>\n",
       "      <th>2019-01-02</th>\n",
       "      <td>MIN</td>\n",
       "      <td>BOS</td>\n",
       "      <td>True</td>\n",
       "      <td>-250.0</td>\n",
       "      <td>230.0</td>\n",
       "    </tr>\n",
       "    <tr>\n",
       "      <th>...</th>\n",
       "      <td>...</td>\n",
       "      <td>...</td>\n",
       "      <td>...</td>\n",
       "      <td>...</td>\n",
       "      <td>...</td>\n",
       "    </tr>\n",
       "    <tr>\n",
       "      <th>2022-03-27</th>\n",
       "      <td>PHI</td>\n",
       "      <td>PHO</td>\n",
       "      <td>True</td>\n",
       "      <td>-185.0</td>\n",
       "      <td>152.0</td>\n",
       "    </tr>\n",
       "    <tr>\n",
       "      <th>2022-03-27</th>\n",
       "      <td>GS</td>\n",
       "      <td>WAS</td>\n",
       "      <td>True</td>\n",
       "      <td>226.0</td>\n",
       "      <td>-281.0</td>\n",
       "    </tr>\n",
       "    <tr>\n",
       "      <th>2022-03-27</th>\n",
       "      <td>LAL</td>\n",
       "      <td>NO</td>\n",
       "      <td>True</td>\n",
       "      <td>-173.0</td>\n",
       "      <td>143.0</td>\n",
       "    </tr>\n",
       "    <tr>\n",
       "      <th>2022-03-27</th>\n",
       "      <td>UTA</td>\n",
       "      <td>DAL</td>\n",
       "      <td>True</td>\n",
       "      <td>-168.0</td>\n",
       "      <td>139.0</td>\n",
       "    </tr>\n",
       "    <tr>\n",
       "      <th>2022-03-27</th>\n",
       "      <td>CHA</td>\n",
       "      <td>BKN</td>\n",
       "      <td>False</td>\n",
       "      <td>-270.0</td>\n",
       "      <td>217.0</td>\n",
       "    </tr>\n",
       "  </tbody>\n",
       "</table>\n",
       "<p>4317 rows × 5 columns</p>\n",
       "</div>"
      ],
      "text/plain": [
       "           AwayTeam HomeTeam  HomeTeamHasWon  ConsensusHomeMoneyLine  \\\n",
       "datetime                                                               \n",
       "2019-01-02      ORL      CHI           False                   102.0   \n",
       "2019-01-02      OKC      LAL           False                   190.0   \n",
       "2019-01-02      PHI      PHO           False                   150.0   \n",
       "2019-01-02      DET      MEM           False                  -240.0   \n",
       "2019-01-02      MIN      BOS            True                  -250.0   \n",
       "...             ...      ...             ...                     ...   \n",
       "2022-03-27      PHI      PHO            True                  -185.0   \n",
       "2022-03-27       GS      WAS            True                   226.0   \n",
       "2022-03-27      LAL       NO            True                  -173.0   \n",
       "2022-03-27      UTA      DAL            True                  -168.0   \n",
       "2022-03-27      CHA      BKN           False                  -270.0   \n",
       "\n",
       "            ConsensusAwayMoneyLine  \n",
       "datetime                            \n",
       "2019-01-02                  -112.0  \n",
       "2019-01-02                  -210.0  \n",
       "2019-01-02                  -160.0  \n",
       "2019-01-02                   220.0  \n",
       "2019-01-02                   230.0  \n",
       "...                            ...  \n",
       "2022-03-27                   152.0  \n",
       "2022-03-27                  -281.0  \n",
       "2022-03-27                   143.0  \n",
       "2022-03-27                   139.0  \n",
       "2022-03-27                   217.0  \n",
       "\n",
       "[4317 rows x 5 columns]"
      ]
     },
     "execution_count": 11,
     "metadata": {},
     "output_type": "execute_result"
    }
   ],
   "source": [
    "odds_f_sub"
   ]
  },
  {
   "cell_type": "code",
   "execution_count": 12,
   "metadata": {
    "ExecuteTime": {
     "end_time": "2022-03-29T02:28:20.403292Z",
     "start_time": "2022-03-29T02:28:20.400364Z"
    }
   },
   "outputs": [],
   "source": [
    "#combine_f = predict_f_sub.merge(odds_f_sub, left_index=True,right_index=True, how=\"inner\")"
   ]
  },
  {
   "cell_type": "code",
   "execution_count": 13,
   "metadata": {
    "ExecuteTime": {
     "end_time": "2022-03-29T02:28:20.862466Z",
     "start_time": "2022-03-29T02:28:20.856607Z"
    }
   },
   "outputs": [
    {
     "data": {
      "text/plain": [
       "array(['ORL', 'OKC', 'PHI', 'DET', 'MIN', 'NO', 'DAL', 'ATL', 'MIA',\n",
       "       'HOU', 'DEN', 'TOR', 'UTA', 'IND', 'WAS', 'BKN', 'LAC', 'NY', 'GS',\n",
       "       'CHA', 'MEM', 'LAL', 'SA', 'SAC', 'CLE', 'MIL', 'CHI', 'PHO',\n",
       "       'BOS', 'POR'], dtype=object)"
      ]
     },
     "execution_count": 13,
     "metadata": {},
     "output_type": "execute_result"
    }
   ],
   "source": [
    "odds_f_sub[\"AwayTeam\"].unique()"
   ]
  },
  {
   "cell_type": "code",
   "execution_count": 14,
   "metadata": {
    "ExecuteTime": {
     "end_time": "2022-03-29T02:28:24.061748Z",
     "start_time": "2022-03-29T02:28:24.057845Z"
    }
   },
   "outputs": [],
   "source": [
    "odds_f_sub_teams = np.union1d(odds_f_sub[\"HomeTeam\"].unique(), odds_f_sub[\"AwayTeam\"].unique())"
   ]
  },
  {
   "cell_type": "code",
   "execution_count": 15,
   "metadata": {
    "ExecuteTime": {
     "end_time": "2022-03-29T02:28:24.589132Z",
     "start_time": "2022-03-29T02:28:24.584218Z"
    }
   },
   "outputs": [],
   "source": [
    "predict_f_sub_teams  = np.union1d( predict_f_sub[\"team1\"].unique(), predict_f_sub[\"team2\"].unique())"
   ]
  },
  {
   "cell_type": "code",
   "execution_count": 16,
   "metadata": {
    "ExecuteTime": {
     "end_time": "2022-03-29T02:28:25.685596Z",
     "start_time": "2022-03-29T02:28:25.680940Z"
    }
   },
   "outputs": [
    {
     "data": {
      "text/plain": [
       "['BKN', 'CHA', 'GS', 'NO', 'NY', 'SA']"
      ]
     },
     "execution_count": 16,
     "metadata": {},
     "output_type": "execute_result"
    }
   ],
   "source": [
    "[x for x in odds_f_sub_teams if x not in predict_f_sub_teams]"
   ]
  },
  {
   "cell_type": "code",
   "execution_count": 17,
   "metadata": {
    "ExecuteTime": {
     "end_time": "2022-03-29T02:28:26.117384Z",
     "start_time": "2022-03-29T02:28:26.112477Z"
    }
   },
   "outputs": [
    {
     "data": {
      "text/plain": [
       "['BRK', 'CHO', 'GSW', 'NOP', 'NYK', 'SAS']"
      ]
     },
     "execution_count": 17,
     "metadata": {},
     "output_type": "execute_result"
    }
   ],
   "source": [
    "[x for x in predict_f_sub_teams if x not in odds_f_sub_teams]"
   ]
  },
  {
   "cell_type": "code",
   "execution_count": 18,
   "metadata": {
    "ExecuteTime": {
     "end_time": "2022-03-29T02:28:27.859732Z",
     "start_time": "2022-03-29T02:28:27.855796Z"
    }
   },
   "outputs": [],
   "source": [
    "TEAM_NAME_MAPPING = {\"NO\": \"NOP\",\n",
    "                     \"BKN\": \"BRK\",\n",
    "                     \"NY\": \"NYK\",\n",
    "                     \"GS\": \"GSW\",\n",
    "                     \"CHA\": \"CHO\",\n",
    "                     \"SA\": \"SAS\"}"
   ]
  },
  {
   "cell_type": "code",
   "execution_count": 19,
   "metadata": {
    "ExecuteTime": {
     "end_time": "2022-03-29T02:28:45.939927Z",
     "start_time": "2022-03-29T02:28:45.931143Z"
    }
   },
   "outputs": [],
   "source": [
    "odds_f[\"AwayTeam\"] = odds_f[\"AwayTeam\"].apply(lambda x: TEAM_NAME_MAPPING[x] if x in TEAM_NAME_MAPPING.keys() else x)\n",
    "odds_f[\"HomeTeam\"] = odds_f[\"HomeTeam\"].apply(lambda x: TEAM_NAME_MAPPING[x] if x in TEAM_NAME_MAPPING.keys() else x)"
   ]
  },
  {
   "cell_type": "code",
   "execution_count": 20,
   "metadata": {
    "ExecuteTime": {
     "end_time": "2022-03-29T02:29:01.462414Z",
     "start_time": "2022-03-29T02:29:01.457164Z"
    }
   },
   "outputs": [],
   "source": [
    "odds_f_sub = odds_f[[\"AwayTeam\", \"HomeTeam\",\"HomeTeamHasWon\",\"ConsensusHomeMoneyLine\", \"ConsensusAwayMoneyLine\"]]"
   ]
  },
  {
   "cell_type": "code",
   "execution_count": 28,
   "metadata": {
    "ExecuteTime": {
     "end_time": "2022-03-29T02:45:58.324257Z",
     "start_time": "2022-03-29T02:45:58.310591Z"
    }
   },
   "outputs": [
    {
     "data": {
      "text/html": [
       "<div>\n",
       "<style scoped>\n",
       "    .dataframe tbody tr th:only-of-type {\n",
       "        vertical-align: middle;\n",
       "    }\n",
       "\n",
       "    .dataframe tbody tr th {\n",
       "        vertical-align: top;\n",
       "    }\n",
       "\n",
       "    .dataframe thead th {\n",
       "        text-align: right;\n",
       "    }\n",
       "</style>\n",
       "<table border=\"1\" class=\"dataframe\">\n",
       "  <thead>\n",
       "    <tr style=\"text-align: right;\">\n",
       "      <th></th>\n",
       "      <th>team1</th>\n",
       "      <th>team2</th>\n",
       "      <th>elo_prob1</th>\n",
       "      <th>elo_prob2</th>\n",
       "    </tr>\n",
       "    <tr>\n",
       "      <th>date</th>\n",
       "      <th></th>\n",
       "      <th></th>\n",
       "      <th></th>\n",
       "      <th></th>\n",
       "    </tr>\n",
       "  </thead>\n",
       "  <tbody>\n",
       "    <tr>\n",
       "      <th>2019-01-02</th>\n",
       "      <td>CHO</td>\n",
       "      <td>DAL</td>\n",
       "      <td>0.671360</td>\n",
       "      <td>0.328640</td>\n",
       "    </tr>\n",
       "    <tr>\n",
       "      <th>2019-01-02</th>\n",
       "      <td>CLE</td>\n",
       "      <td>MIA</td>\n",
       "      <td>0.421730</td>\n",
       "      <td>0.578270</td>\n",
       "    </tr>\n",
       "    <tr>\n",
       "      <th>2019-01-02</th>\n",
       "      <td>WAS</td>\n",
       "      <td>ATL</td>\n",
       "      <td>0.724603</td>\n",
       "      <td>0.275397</td>\n",
       "    </tr>\n",
       "    <tr>\n",
       "      <th>2019-01-02</th>\n",
       "      <td>BRK</td>\n",
       "      <td>NOP</td>\n",
       "      <td>0.536187</td>\n",
       "      <td>0.463813</td>\n",
       "    </tr>\n",
       "    <tr>\n",
       "      <th>2019-01-02</th>\n",
       "      <td>CHI</td>\n",
       "      <td>ORL</td>\n",
       "      <td>0.552163</td>\n",
       "      <td>0.447837</td>\n",
       "    </tr>\n",
       "    <tr>\n",
       "      <th>...</th>\n",
       "      <td>...</td>\n",
       "      <td>...</td>\n",
       "      <td>...</td>\n",
       "      <td>...</td>\n",
       "    </tr>\n",
       "    <tr>\n",
       "      <th>2022-03-27</th>\n",
       "      <td>WAS</td>\n",
       "      <td>GSW</td>\n",
       "      <td>0.347830</td>\n",
       "      <td>0.652170</td>\n",
       "    </tr>\n",
       "    <tr>\n",
       "      <th>2022-03-27</th>\n",
       "      <td>BOS</td>\n",
       "      <td>MIN</td>\n",
       "      <td>0.766541</td>\n",
       "      <td>0.233459</td>\n",
       "    </tr>\n",
       "    <tr>\n",
       "      <th>2022-03-27</th>\n",
       "      <td>NOP</td>\n",
       "      <td>LAL</td>\n",
       "      <td>0.755368</td>\n",
       "      <td>0.244632</td>\n",
       "    </tr>\n",
       "    <tr>\n",
       "      <th>2022-03-27</th>\n",
       "      <td>DAL</td>\n",
       "      <td>UTA</td>\n",
       "      <td>0.621091</td>\n",
       "      <td>0.378909</td>\n",
       "    </tr>\n",
       "    <tr>\n",
       "      <th>2022-03-27</th>\n",
       "      <td>BRK</td>\n",
       "      <td>CHO</td>\n",
       "      <td>0.660568</td>\n",
       "      <td>0.339432</td>\n",
       "    </tr>\n",
       "  </tbody>\n",
       "</table>\n",
       "<p>4193 rows × 4 columns</p>\n",
       "</div>"
      ],
      "text/plain": [
       "           team1 team2  elo_prob1  elo_prob2\n",
       "date                                        \n",
       "2019-01-02   CHO   DAL   0.671360   0.328640\n",
       "2019-01-02   CLE   MIA   0.421730   0.578270\n",
       "2019-01-02   WAS   ATL   0.724603   0.275397\n",
       "2019-01-02   BRK   NOP   0.536187   0.463813\n",
       "2019-01-02   CHI   ORL   0.552163   0.447837\n",
       "...          ...   ...        ...        ...\n",
       "2022-03-27   WAS   GSW   0.347830   0.652170\n",
       "2022-03-27   BOS   MIN   0.766541   0.233459\n",
       "2022-03-27   NOP   LAL   0.755368   0.244632\n",
       "2022-03-27   DAL   UTA   0.621091   0.378909\n",
       "2022-03-27   BRK   CHO   0.660568   0.339432\n",
       "\n",
       "[4193 rows x 4 columns]"
      ]
     },
     "execution_count": 28,
     "metadata": {},
     "output_type": "execute_result"
    }
   ],
   "source": [
    "predict_f_sub"
   ]
  },
  {
   "cell_type": "code",
   "execution_count": 27,
   "metadata": {
    "ExecuteTime": {
     "end_time": "2022-03-29T02:30:23.218159Z",
     "start_time": "2022-03-29T02:30:23.201502Z"
    }
   },
   "outputs": [
    {
     "data": {
      "text/html": [
       "<div>\n",
       "<style scoped>\n",
       "    .dataframe tbody tr th:only-of-type {\n",
       "        vertical-align: middle;\n",
       "    }\n",
       "\n",
       "    .dataframe tbody tr th {\n",
       "        vertical-align: top;\n",
       "    }\n",
       "\n",
       "    .dataframe thead th {\n",
       "        text-align: right;\n",
       "    }\n",
       "</style>\n",
       "<table border=\"1\" class=\"dataframe\">\n",
       "  <thead>\n",
       "    <tr style=\"text-align: right;\">\n",
       "      <th></th>\n",
       "      <th>AwayTeam</th>\n",
       "      <th>HomeTeam</th>\n",
       "      <th>HomeTeamHasWon</th>\n",
       "      <th>ConsensusHomeMoneyLine</th>\n",
       "      <th>ConsensusAwayMoneyLine</th>\n",
       "    </tr>\n",
       "    <tr>\n",
       "      <th>datetime</th>\n",
       "      <th></th>\n",
       "      <th></th>\n",
       "      <th></th>\n",
       "      <th></th>\n",
       "      <th></th>\n",
       "    </tr>\n",
       "  </thead>\n",
       "  <tbody>\n",
       "    <tr>\n",
       "      <th>2019-01-02</th>\n",
       "      <td>ORL</td>\n",
       "      <td>CHI</td>\n",
       "      <td>False</td>\n",
       "      <td>102.0</td>\n",
       "      <td>-112.0</td>\n",
       "    </tr>\n",
       "    <tr>\n",
       "      <th>2019-01-02</th>\n",
       "      <td>OKC</td>\n",
       "      <td>LAL</td>\n",
       "      <td>False</td>\n",
       "      <td>190.0</td>\n",
       "      <td>-210.0</td>\n",
       "    </tr>\n",
       "    <tr>\n",
       "      <th>2019-01-02</th>\n",
       "      <td>PHI</td>\n",
       "      <td>PHO</td>\n",
       "      <td>False</td>\n",
       "      <td>150.0</td>\n",
       "      <td>-160.0</td>\n",
       "    </tr>\n",
       "    <tr>\n",
       "      <th>2019-01-02</th>\n",
       "      <td>DET</td>\n",
       "      <td>MEM</td>\n",
       "      <td>False</td>\n",
       "      <td>-240.0</td>\n",
       "      <td>220.0</td>\n",
       "    </tr>\n",
       "    <tr>\n",
       "      <th>2019-01-02</th>\n",
       "      <td>MIN</td>\n",
       "      <td>BOS</td>\n",
       "      <td>True</td>\n",
       "      <td>-250.0</td>\n",
       "      <td>230.0</td>\n",
       "    </tr>\n",
       "    <tr>\n",
       "      <th>...</th>\n",
       "      <td>...</td>\n",
       "      <td>...</td>\n",
       "      <td>...</td>\n",
       "      <td>...</td>\n",
       "      <td>...</td>\n",
       "    </tr>\n",
       "    <tr>\n",
       "      <th>2022-03-27</th>\n",
       "      <td>PHI</td>\n",
       "      <td>PHO</td>\n",
       "      <td>True</td>\n",
       "      <td>-185.0</td>\n",
       "      <td>152.0</td>\n",
       "    </tr>\n",
       "    <tr>\n",
       "      <th>2022-03-27</th>\n",
       "      <td>GSW</td>\n",
       "      <td>WAS</td>\n",
       "      <td>True</td>\n",
       "      <td>226.0</td>\n",
       "      <td>-281.0</td>\n",
       "    </tr>\n",
       "    <tr>\n",
       "      <th>2022-03-27</th>\n",
       "      <td>LAL</td>\n",
       "      <td>NOP</td>\n",
       "      <td>True</td>\n",
       "      <td>-173.0</td>\n",
       "      <td>143.0</td>\n",
       "    </tr>\n",
       "    <tr>\n",
       "      <th>2022-03-27</th>\n",
       "      <td>UTA</td>\n",
       "      <td>DAL</td>\n",
       "      <td>True</td>\n",
       "      <td>-168.0</td>\n",
       "      <td>139.0</td>\n",
       "    </tr>\n",
       "    <tr>\n",
       "      <th>2022-03-27</th>\n",
       "      <td>CHO</td>\n",
       "      <td>BRK</td>\n",
       "      <td>False</td>\n",
       "      <td>-270.0</td>\n",
       "      <td>217.0</td>\n",
       "    </tr>\n",
       "  </tbody>\n",
       "</table>\n",
       "<p>4317 rows × 5 columns</p>\n",
       "</div>"
      ],
      "text/plain": [
       "           AwayTeam HomeTeam  HomeTeamHasWon  ConsensusHomeMoneyLine  \\\n",
       "datetime                                                               \n",
       "2019-01-02      ORL      CHI           False                   102.0   \n",
       "2019-01-02      OKC      LAL           False                   190.0   \n",
       "2019-01-02      PHI      PHO           False                   150.0   \n",
       "2019-01-02      DET      MEM           False                  -240.0   \n",
       "2019-01-02      MIN      BOS            True                  -250.0   \n",
       "...             ...      ...             ...                     ...   \n",
       "2022-03-27      PHI      PHO            True                  -185.0   \n",
       "2022-03-27      GSW      WAS            True                   226.0   \n",
       "2022-03-27      LAL      NOP            True                  -173.0   \n",
       "2022-03-27      UTA      DAL            True                  -168.0   \n",
       "2022-03-27      CHO      BRK           False                  -270.0   \n",
       "\n",
       "            ConsensusAwayMoneyLine  \n",
       "datetime                            \n",
       "2019-01-02                  -112.0  \n",
       "2019-01-02                  -210.0  \n",
       "2019-01-02                  -160.0  \n",
       "2019-01-02                   220.0  \n",
       "2019-01-02                   230.0  \n",
       "...                            ...  \n",
       "2022-03-27                   152.0  \n",
       "2022-03-27                  -281.0  \n",
       "2022-03-27                   143.0  \n",
       "2022-03-27                   139.0  \n",
       "2022-03-27                   217.0  \n",
       "\n",
       "[4317 rows x 5 columns]"
      ]
     },
     "execution_count": 27,
     "metadata": {},
     "output_type": "execute_result"
    }
   ],
   "source": []
  },
  {
   "cell_type": "code",
   "execution_count": 33,
   "metadata": {
    "ExecuteTime": {
     "end_time": "2022-03-29T02:49:31.402058Z",
     "start_time": "2022-03-29T02:49:31.389867Z"
    }
   },
   "outputs": [],
   "source": [
    "combine_f = predict_f_sub.reset_index().merge(odds_f_sub.reset_index(), left_on=['date', 'team1', 'team2'], right_on=['datetime', 'HomeTeam', 'AwayTeam'], how=\"inner\")"
   ]
  },
  {
   "cell_type": "code",
   "execution_count": 34,
   "metadata": {
    "ExecuteTime": {
     "end_time": "2022-03-29T02:49:37.462462Z",
     "start_time": "2022-03-29T02:49:37.431189Z"
    }
   },
   "outputs": [
    {
     "data": {
      "text/html": [
       "<div>\n",
       "<style scoped>\n",
       "    .dataframe tbody tr th:only-of-type {\n",
       "        vertical-align: middle;\n",
       "    }\n",
       "\n",
       "    .dataframe tbody tr th {\n",
       "        vertical-align: top;\n",
       "    }\n",
       "\n",
       "    .dataframe thead th {\n",
       "        text-align: right;\n",
       "    }\n",
       "</style>\n",
       "<table border=\"1\" class=\"dataframe\">\n",
       "  <thead>\n",
       "    <tr style=\"text-align: right;\">\n",
       "      <th></th>\n",
       "      <th>date</th>\n",
       "      <th>team1</th>\n",
       "      <th>team2</th>\n",
       "      <th>elo_prob1</th>\n",
       "      <th>elo_prob2</th>\n",
       "      <th>datetime</th>\n",
       "      <th>AwayTeam</th>\n",
       "      <th>HomeTeam</th>\n",
       "      <th>HomeTeamHasWon</th>\n",
       "      <th>ConsensusHomeMoneyLine</th>\n",
       "      <th>ConsensusAwayMoneyLine</th>\n",
       "    </tr>\n",
       "  </thead>\n",
       "  <tbody>\n",
       "    <tr>\n",
       "      <th>0</th>\n",
       "      <td>2019-01-02</td>\n",
       "      <td>CHO</td>\n",
       "      <td>DAL</td>\n",
       "      <td>0.671360</td>\n",
       "      <td>0.328640</td>\n",
       "      <td>2019-01-02</td>\n",
       "      <td>DAL</td>\n",
       "      <td>CHO</td>\n",
       "      <td>False</td>\n",
       "      <td>-117.0</td>\n",
       "      <td>107.0</td>\n",
       "    </tr>\n",
       "    <tr>\n",
       "      <th>1</th>\n",
       "      <td>2019-01-02</td>\n",
       "      <td>CLE</td>\n",
       "      <td>MIA</td>\n",
       "      <td>0.421730</td>\n",
       "      <td>0.578270</td>\n",
       "      <td>2019-01-02</td>\n",
       "      <td>MIA</td>\n",
       "      <td>CLE</td>\n",
       "      <td>False</td>\n",
       "      <td>210.0</td>\n",
       "      <td>-230.0</td>\n",
       "    </tr>\n",
       "    <tr>\n",
       "      <th>2</th>\n",
       "      <td>2019-01-02</td>\n",
       "      <td>WAS</td>\n",
       "      <td>ATL</td>\n",
       "      <td>0.724603</td>\n",
       "      <td>0.275397</td>\n",
       "      <td>2019-01-02</td>\n",
       "      <td>ATL</td>\n",
       "      <td>WAS</td>\n",
       "      <td>True</td>\n",
       "      <td>-240.0</td>\n",
       "      <td>220.0</td>\n",
       "    </tr>\n",
       "    <tr>\n",
       "      <th>3</th>\n",
       "      <td>2019-01-02</td>\n",
       "      <td>BRK</td>\n",
       "      <td>NOP</td>\n",
       "      <td>0.536187</td>\n",
       "      <td>0.463813</td>\n",
       "      <td>2019-01-02</td>\n",
       "      <td>NOP</td>\n",
       "      <td>BRK</td>\n",
       "      <td>True</td>\n",
       "      <td>115.0</td>\n",
       "      <td>-125.0</td>\n",
       "    </tr>\n",
       "    <tr>\n",
       "      <th>4</th>\n",
       "      <td>2019-01-02</td>\n",
       "      <td>CHI</td>\n",
       "      <td>ORL</td>\n",
       "      <td>0.552163</td>\n",
       "      <td>0.447837</td>\n",
       "      <td>2019-01-02</td>\n",
       "      <td>ORL</td>\n",
       "      <td>CHI</td>\n",
       "      <td>False</td>\n",
       "      <td>102.0</td>\n",
       "      <td>-112.0</td>\n",
       "    </tr>\n",
       "    <tr>\n",
       "      <th>...</th>\n",
       "      <td>...</td>\n",
       "      <td>...</td>\n",
       "      <td>...</td>\n",
       "      <td>...</td>\n",
       "      <td>...</td>\n",
       "      <td>...</td>\n",
       "      <td>...</td>\n",
       "      <td>...</td>\n",
       "      <td>...</td>\n",
       "      <td>...</td>\n",
       "      <td>...</td>\n",
       "    </tr>\n",
       "    <tr>\n",
       "      <th>4188</th>\n",
       "      <td>2022-03-27</td>\n",
       "      <td>WAS</td>\n",
       "      <td>GSW</td>\n",
       "      <td>0.347830</td>\n",
       "      <td>0.652170</td>\n",
       "      <td>2022-03-27</td>\n",
       "      <td>GSW</td>\n",
       "      <td>WAS</td>\n",
       "      <td>True</td>\n",
       "      <td>226.0</td>\n",
       "      <td>-281.0</td>\n",
       "    </tr>\n",
       "    <tr>\n",
       "      <th>4189</th>\n",
       "      <td>2022-03-27</td>\n",
       "      <td>BOS</td>\n",
       "      <td>MIN</td>\n",
       "      <td>0.766541</td>\n",
       "      <td>0.233459</td>\n",
       "      <td>2022-03-27</td>\n",
       "      <td>MIN</td>\n",
       "      <td>BOS</td>\n",
       "      <td>True</td>\n",
       "      <td>-259.0</td>\n",
       "      <td>208.0</td>\n",
       "    </tr>\n",
       "    <tr>\n",
       "      <th>4190</th>\n",
       "      <td>2022-03-27</td>\n",
       "      <td>NOP</td>\n",
       "      <td>LAL</td>\n",
       "      <td>0.755368</td>\n",
       "      <td>0.244632</td>\n",
       "      <td>2022-03-27</td>\n",
       "      <td>LAL</td>\n",
       "      <td>NOP</td>\n",
       "      <td>True</td>\n",
       "      <td>-173.0</td>\n",
       "      <td>143.0</td>\n",
       "    </tr>\n",
       "    <tr>\n",
       "      <th>4191</th>\n",
       "      <td>2022-03-27</td>\n",
       "      <td>DAL</td>\n",
       "      <td>UTA</td>\n",
       "      <td>0.621091</td>\n",
       "      <td>0.378909</td>\n",
       "      <td>2022-03-27</td>\n",
       "      <td>UTA</td>\n",
       "      <td>DAL</td>\n",
       "      <td>True</td>\n",
       "      <td>-168.0</td>\n",
       "      <td>139.0</td>\n",
       "    </tr>\n",
       "    <tr>\n",
       "      <th>4192</th>\n",
       "      <td>2022-03-27</td>\n",
       "      <td>BRK</td>\n",
       "      <td>CHO</td>\n",
       "      <td>0.660568</td>\n",
       "      <td>0.339432</td>\n",
       "      <td>2022-03-27</td>\n",
       "      <td>CHO</td>\n",
       "      <td>BRK</td>\n",
       "      <td>False</td>\n",
       "      <td>-270.0</td>\n",
       "      <td>217.0</td>\n",
       "    </tr>\n",
       "  </tbody>\n",
       "</table>\n",
       "<p>4193 rows × 11 columns</p>\n",
       "</div>"
      ],
      "text/plain": [
       "           date team1 team2  elo_prob1  elo_prob2   datetime AwayTeam  \\\n",
       "0    2019-01-02   CHO   DAL   0.671360   0.328640 2019-01-02      DAL   \n",
       "1    2019-01-02   CLE   MIA   0.421730   0.578270 2019-01-02      MIA   \n",
       "2    2019-01-02   WAS   ATL   0.724603   0.275397 2019-01-02      ATL   \n",
       "3    2019-01-02   BRK   NOP   0.536187   0.463813 2019-01-02      NOP   \n",
       "4    2019-01-02   CHI   ORL   0.552163   0.447837 2019-01-02      ORL   \n",
       "...         ...   ...   ...        ...        ...        ...      ...   \n",
       "4188 2022-03-27   WAS   GSW   0.347830   0.652170 2022-03-27      GSW   \n",
       "4189 2022-03-27   BOS   MIN   0.766541   0.233459 2022-03-27      MIN   \n",
       "4190 2022-03-27   NOP   LAL   0.755368   0.244632 2022-03-27      LAL   \n",
       "4191 2022-03-27   DAL   UTA   0.621091   0.378909 2022-03-27      UTA   \n",
       "4192 2022-03-27   BRK   CHO   0.660568   0.339432 2022-03-27      CHO   \n",
       "\n",
       "     HomeTeam  HomeTeamHasWon  ConsensusHomeMoneyLine  ConsensusAwayMoneyLine  \n",
       "0         CHO           False                  -117.0                   107.0  \n",
       "1         CLE           False                   210.0                  -230.0  \n",
       "2         WAS            True                  -240.0                   220.0  \n",
       "3         BRK            True                   115.0                  -125.0  \n",
       "4         CHI           False                   102.0                  -112.0  \n",
       "...       ...             ...                     ...                     ...  \n",
       "4188      WAS            True                   226.0                  -281.0  \n",
       "4189      BOS            True                  -259.0                   208.0  \n",
       "4190      NOP            True                  -173.0                   143.0  \n",
       "4191      DAL            True                  -168.0                   139.0  \n",
       "4192      BRK           False                  -270.0                   217.0  \n",
       "\n",
       "[4193 rows x 11 columns]"
      ]
     },
     "execution_count": 34,
     "metadata": {},
     "output_type": "execute_result"
    }
   ],
   "source": [
    "combine_f"
   ]
  },
  {
   "cell_type": "code",
   "execution_count": 39,
   "metadata": {
    "ExecuteTime": {
     "end_time": "2022-03-29T02:56:06.458769Z",
     "start_time": "2022-03-29T02:56:06.453889Z"
    }
   },
   "outputs": [],
   "source": [
    "combine_f.rename(columns={\"elo_prob1\": \"HomeTeamProb\", \"elo_prob2\": \"AwayTeamProb\"}, inplace=True)"
   ]
  },
  {
   "cell_type": "code",
   "execution_count": 40,
   "metadata": {
    "ExecuteTime": {
     "end_time": "2022-03-29T02:56:08.826989Z",
     "start_time": "2022-03-29T02:56:08.821134Z"
    }
   },
   "outputs": [
    {
     "data": {
      "text/plain": [
       "Index(['date', 'team1', 'team2', 'HomeTeamProb', 'AwayTeamProb', 'datetime',\n",
       "       'AwayTeam', 'HomeTeam', 'HomeTeamHasWon', 'ConsensusHomeMoneyLine',\n",
       "       'ConsensusAwayMoneyLine'],\n",
       "      dtype='object')"
      ]
     },
     "execution_count": 40,
     "metadata": {},
     "output_type": "execute_result"
    }
   ],
   "source": [
    "combine_f.columns"
   ]
  },
  {
   "cell_type": "code",
   "execution_count": 44,
   "metadata": {
    "ExecuteTime": {
     "end_time": "2022-03-29T02:57:00.367064Z",
     "start_time": "2022-03-29T02:57:00.359871Z"
    }
   },
   "outputs": [],
   "source": [
    "combine_f.drop([\"team1\", \"team2\", \"date\"], axis=1, inplace= True)"
   ]
  },
  {
   "cell_type": "code",
   "execution_count": 46,
   "metadata": {
    "ExecuteTime": {
     "end_time": "2022-03-29T02:57:21.060792Z",
     "start_time": "2022-03-29T02:57:21.055911Z"
    }
   },
   "outputs": [],
   "source": [
    "combine_f.set_index(\"datetime\", inplace=True)"
   ]
  },
  {
   "cell_type": "code",
   "execution_count": 47,
   "metadata": {
    "ExecuteTime": {
     "end_time": "2022-03-29T02:57:24.702372Z",
     "start_time": "2022-03-29T02:57:24.681352Z"
    }
   },
   "outputs": [
    {
     "data": {
      "text/html": [
       "<div>\n",
       "<style scoped>\n",
       "    .dataframe tbody tr th:only-of-type {\n",
       "        vertical-align: middle;\n",
       "    }\n",
       "\n",
       "    .dataframe tbody tr th {\n",
       "        vertical-align: top;\n",
       "    }\n",
       "\n",
       "    .dataframe thead th {\n",
       "        text-align: right;\n",
       "    }\n",
       "</style>\n",
       "<table border=\"1\" class=\"dataframe\">\n",
       "  <thead>\n",
       "    <tr style=\"text-align: right;\">\n",
       "      <th></th>\n",
       "      <th>HomeTeamProb</th>\n",
       "      <th>AwayTeamProb</th>\n",
       "      <th>AwayTeam</th>\n",
       "      <th>HomeTeam</th>\n",
       "      <th>HomeTeamHasWon</th>\n",
       "      <th>ConsensusHomeMoneyLine</th>\n",
       "      <th>ConsensusAwayMoneyLine</th>\n",
       "    </tr>\n",
       "    <tr>\n",
       "      <th>datetime</th>\n",
       "      <th></th>\n",
       "      <th></th>\n",
       "      <th></th>\n",
       "      <th></th>\n",
       "      <th></th>\n",
       "      <th></th>\n",
       "      <th></th>\n",
       "    </tr>\n",
       "  </thead>\n",
       "  <tbody>\n",
       "    <tr>\n",
       "      <th>2019-01-02</th>\n",
       "      <td>0.671360</td>\n",
       "      <td>0.328640</td>\n",
       "      <td>DAL</td>\n",
       "      <td>CHO</td>\n",
       "      <td>False</td>\n",
       "      <td>-117.0</td>\n",
       "      <td>107.0</td>\n",
       "    </tr>\n",
       "    <tr>\n",
       "      <th>2019-01-02</th>\n",
       "      <td>0.421730</td>\n",
       "      <td>0.578270</td>\n",
       "      <td>MIA</td>\n",
       "      <td>CLE</td>\n",
       "      <td>False</td>\n",
       "      <td>210.0</td>\n",
       "      <td>-230.0</td>\n",
       "    </tr>\n",
       "    <tr>\n",
       "      <th>2019-01-02</th>\n",
       "      <td>0.724603</td>\n",
       "      <td>0.275397</td>\n",
       "      <td>ATL</td>\n",
       "      <td>WAS</td>\n",
       "      <td>True</td>\n",
       "      <td>-240.0</td>\n",
       "      <td>220.0</td>\n",
       "    </tr>\n",
       "    <tr>\n",
       "      <th>2019-01-02</th>\n",
       "      <td>0.536187</td>\n",
       "      <td>0.463813</td>\n",
       "      <td>NOP</td>\n",
       "      <td>BRK</td>\n",
       "      <td>True</td>\n",
       "      <td>115.0</td>\n",
       "      <td>-125.0</td>\n",
       "    </tr>\n",
       "    <tr>\n",
       "      <th>2019-01-02</th>\n",
       "      <td>0.552163</td>\n",
       "      <td>0.447837</td>\n",
       "      <td>ORL</td>\n",
       "      <td>CHI</td>\n",
       "      <td>False</td>\n",
       "      <td>102.0</td>\n",
       "      <td>-112.0</td>\n",
       "    </tr>\n",
       "    <tr>\n",
       "      <th>...</th>\n",
       "      <td>...</td>\n",
       "      <td>...</td>\n",
       "      <td>...</td>\n",
       "      <td>...</td>\n",
       "      <td>...</td>\n",
       "      <td>...</td>\n",
       "      <td>...</td>\n",
       "    </tr>\n",
       "    <tr>\n",
       "      <th>2022-03-27</th>\n",
       "      <td>0.347830</td>\n",
       "      <td>0.652170</td>\n",
       "      <td>GSW</td>\n",
       "      <td>WAS</td>\n",
       "      <td>True</td>\n",
       "      <td>226.0</td>\n",
       "      <td>-281.0</td>\n",
       "    </tr>\n",
       "    <tr>\n",
       "      <th>2022-03-27</th>\n",
       "      <td>0.766541</td>\n",
       "      <td>0.233459</td>\n",
       "      <td>MIN</td>\n",
       "      <td>BOS</td>\n",
       "      <td>True</td>\n",
       "      <td>-259.0</td>\n",
       "      <td>208.0</td>\n",
       "    </tr>\n",
       "    <tr>\n",
       "      <th>2022-03-27</th>\n",
       "      <td>0.755368</td>\n",
       "      <td>0.244632</td>\n",
       "      <td>LAL</td>\n",
       "      <td>NOP</td>\n",
       "      <td>True</td>\n",
       "      <td>-173.0</td>\n",
       "      <td>143.0</td>\n",
       "    </tr>\n",
       "    <tr>\n",
       "      <th>2022-03-27</th>\n",
       "      <td>0.621091</td>\n",
       "      <td>0.378909</td>\n",
       "      <td>UTA</td>\n",
       "      <td>DAL</td>\n",
       "      <td>True</td>\n",
       "      <td>-168.0</td>\n",
       "      <td>139.0</td>\n",
       "    </tr>\n",
       "    <tr>\n",
       "      <th>2022-03-27</th>\n",
       "      <td>0.660568</td>\n",
       "      <td>0.339432</td>\n",
       "      <td>CHO</td>\n",
       "      <td>BRK</td>\n",
       "      <td>False</td>\n",
       "      <td>-270.0</td>\n",
       "      <td>217.0</td>\n",
       "    </tr>\n",
       "  </tbody>\n",
       "</table>\n",
       "<p>4193 rows × 7 columns</p>\n",
       "</div>"
      ],
      "text/plain": [
       "            HomeTeamProb  AwayTeamProb AwayTeam HomeTeam  HomeTeamHasWon  \\\n",
       "datetime                                                                   \n",
       "2019-01-02      0.671360      0.328640      DAL      CHO           False   \n",
       "2019-01-02      0.421730      0.578270      MIA      CLE           False   \n",
       "2019-01-02      0.724603      0.275397      ATL      WAS            True   \n",
       "2019-01-02      0.536187      0.463813      NOP      BRK            True   \n",
       "2019-01-02      0.552163      0.447837      ORL      CHI           False   \n",
       "...                  ...           ...      ...      ...             ...   \n",
       "2022-03-27      0.347830      0.652170      GSW      WAS            True   \n",
       "2022-03-27      0.766541      0.233459      MIN      BOS            True   \n",
       "2022-03-27      0.755368      0.244632      LAL      NOP            True   \n",
       "2022-03-27      0.621091      0.378909      UTA      DAL            True   \n",
       "2022-03-27      0.660568      0.339432      CHO      BRK           False   \n",
       "\n",
       "            ConsensusHomeMoneyLine  ConsensusAwayMoneyLine  \n",
       "datetime                                                    \n",
       "2019-01-02                  -117.0                   107.0  \n",
       "2019-01-02                   210.0                  -230.0  \n",
       "2019-01-02                  -240.0                   220.0  \n",
       "2019-01-02                   115.0                  -125.0  \n",
       "2019-01-02                   102.0                  -112.0  \n",
       "...                            ...                     ...  \n",
       "2022-03-27                   226.0                  -281.0  \n",
       "2022-03-27                  -259.0                   208.0  \n",
       "2022-03-27                  -173.0                   143.0  \n",
       "2022-03-27                  -168.0                   139.0  \n",
       "2022-03-27                  -270.0                   217.0  \n",
       "\n",
       "[4193 rows x 7 columns]"
      ]
     },
     "execution_count": 47,
     "metadata": {},
     "output_type": "execute_result"
    }
   ],
   "source": [
    "combine_f"
   ]
  },
  {
   "cell_type": "code",
   "execution_count": 48,
   "metadata": {
    "ExecuteTime": {
     "end_time": "2022-03-29T02:59:04.462705Z",
     "start_time": "2022-03-29T02:59:04.380417Z"
    }
   },
   "outputs": [],
   "source": [
    "combine_f.to_csv(\"combine_data.csv\")"
   ]
  }
 ],
 "metadata": {
  "hide_input": false,
  "kernelspec": {
   "display_name": "Python [conda env:py37]",
   "language": "python",
   "name": "conda-env-py37-py"
  },
  "language_info": {
   "codemirror_mode": {
    "name": "ipython",
    "version": 3
   },
   "file_extension": ".py",
   "mimetype": "text/x-python",
   "name": "python",
   "nbconvert_exporter": "python",
   "pygments_lexer": "ipython3",
   "version": "3.7.5"
  },
  "toc": {
   "base_numbering": 1,
   "nav_menu": {},
   "number_sections": true,
   "sideBar": true,
   "skip_h1_title": false,
   "title_cell": "Table of Contents",
   "title_sidebar": "Contents",
   "toc_cell": false,
   "toc_position": {},
   "toc_section_display": true,
   "toc_window_display": false
  },
  "varInspector": {
   "cols": {
    "lenName": 16,
    "lenType": 16,
    "lenVar": 40
   },
   "kernels_config": {
    "python": {
     "delete_cmd_postfix": "",
     "delete_cmd_prefix": "del ",
     "library": "var_list.py",
     "varRefreshCmd": "print(var_dic_list())"
    },
    "r": {
     "delete_cmd_postfix": ") ",
     "delete_cmd_prefix": "rm(",
     "library": "var_list.r",
     "varRefreshCmd": "cat(var_dic_list()) "
    }
   },
   "types_to_exclude": [
    "module",
    "function",
    "builtin_function_or_method",
    "instance",
    "_Feature"
   ],
   "window_display": false
  }
 },
 "nbformat": 4,
 "nbformat_minor": 2
}
